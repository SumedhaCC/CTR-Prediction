{
 "cells": [
  {
   "cell_type": "code",
   "execution_count": 1,
   "id": "cf1decf1",
   "metadata": {},
   "outputs": [],
   "source": [
    "import pandas as pd\n",
    "import matplotlib.pyplot as plt\n",
    "import seaborn as sns"
   ]
  },
  {
   "cell_type": "code",
   "execution_count": 2,
   "id": "79f46007",
   "metadata": {},
   "outputs": [],
   "source": [
    "ctr = pd.read_csv(\"data.csv\")"
   ]
  },
  {
   "cell_type": "code",
   "execution_count": 3,
   "id": "780bdf27",
   "metadata": {},
   "outputs": [
    {
     "data": {
      "text/html": [
       "<div>\n",
       "<style scoped>\n",
       "    .dataframe tbody tr th:only-of-type {\n",
       "        vertical-align: middle;\n",
       "    }\n",
       "\n",
       "    .dataframe tbody tr th {\n",
       "        vertical-align: top;\n",
       "    }\n",
       "\n",
       "    .dataframe thead th {\n",
       "        text-align: right;\n",
       "    }\n",
       "</style>\n",
       "<table border=\"1\" class=\"dataframe\">\n",
       "  <thead>\n",
       "    <tr style=\"text-align: right;\">\n",
       "      <th></th>\n",
       "      <th>click</th>\n",
       "      <th>C1</th>\n",
       "      <th>banner_pos</th>\n",
       "      <th>site_id</th>\n",
       "      <th>site_domain</th>\n",
       "      <th>site_category</th>\n",
       "      <th>app_id</th>\n",
       "      <th>app_domain</th>\n",
       "      <th>app_category</th>\n",
       "      <th>device_id</th>\n",
       "      <th>...</th>\n",
       "      <th>C17</th>\n",
       "      <th>C18</th>\n",
       "      <th>C19</th>\n",
       "      <th>C20</th>\n",
       "      <th>C21</th>\n",
       "      <th>month</th>\n",
       "      <th>dayofweek</th>\n",
       "      <th>day</th>\n",
       "      <th>hour</th>\n",
       "      <th>y</th>\n",
       "    </tr>\n",
       "  </thead>\n",
       "  <tbody>\n",
       "    <tr>\n",
       "      <th>0</th>\n",
       "      <td>False</td>\n",
       "      <td>1005</td>\n",
       "      <td>1</td>\n",
       "      <td>856e6d3f</td>\n",
       "      <td>58a89a43</td>\n",
       "      <td>f028772b</td>\n",
       "      <td>ecad2386</td>\n",
       "      <td>7801e8d9</td>\n",
       "      <td>07d7df22</td>\n",
       "      <td>a99f214a</td>\n",
       "      <td>...</td>\n",
       "      <td>2528</td>\n",
       "      <td>0</td>\n",
       "      <td>39</td>\n",
       "      <td>100075</td>\n",
       "      <td>221</td>\n",
       "      <td>10</td>\n",
       "      <td>1</td>\n",
       "      <td>28</td>\n",
       "      <td>14</td>\n",
       "      <td>0</td>\n",
       "    </tr>\n",
       "    <tr>\n",
       "      <th>1</th>\n",
       "      <td>True</td>\n",
       "      <td>1005</td>\n",
       "      <td>1</td>\n",
       "      <td>e151e245</td>\n",
       "      <td>7e091613</td>\n",
       "      <td>f028772b</td>\n",
       "      <td>ecad2386</td>\n",
       "      <td>7801e8d9</td>\n",
       "      <td>07d7df22</td>\n",
       "      <td>a99f214a</td>\n",
       "      <td>...</td>\n",
       "      <td>1934</td>\n",
       "      <td>2</td>\n",
       "      <td>39</td>\n",
       "      <td>-1</td>\n",
       "      <td>16</td>\n",
       "      <td>10</td>\n",
       "      <td>2</td>\n",
       "      <td>22</td>\n",
       "      <td>19</td>\n",
       "      <td>1</td>\n",
       "    </tr>\n",
       "    <tr>\n",
       "      <th>2</th>\n",
       "      <td>False</td>\n",
       "      <td>1005</td>\n",
       "      <td>0</td>\n",
       "      <td>e3c09f3a</td>\n",
       "      <td>d262cf1e</td>\n",
       "      <td>28905ebd</td>\n",
       "      <td>ecad2386</td>\n",
       "      <td>7801e8d9</td>\n",
       "      <td>07d7df22</td>\n",
       "      <td>a99f214a</td>\n",
       "      <td>...</td>\n",
       "      <td>2552</td>\n",
       "      <td>3</td>\n",
       "      <td>167</td>\n",
       "      <td>100202</td>\n",
       "      <td>23</td>\n",
       "      <td>10</td>\n",
       "      <td>3</td>\n",
       "      <td>23</td>\n",
       "      <td>18</td>\n",
       "      <td>0</td>\n",
       "    </tr>\n",
       "    <tr>\n",
       "      <th>3</th>\n",
       "      <td>False</td>\n",
       "      <td>1002</td>\n",
       "      <td>0</td>\n",
       "      <td>0da94452</td>\n",
       "      <td>248e439f</td>\n",
       "      <td>50e219e0</td>\n",
       "      <td>ecad2386</td>\n",
       "      <td>7801e8d9</td>\n",
       "      <td>07d7df22</td>\n",
       "      <td>0fa578fd</td>\n",
       "      <td>...</td>\n",
       "      <td>2478</td>\n",
       "      <td>3</td>\n",
       "      <td>167</td>\n",
       "      <td>100074</td>\n",
       "      <td>23</td>\n",
       "      <td>10</td>\n",
       "      <td>2</td>\n",
       "      <td>22</td>\n",
       "      <td>19</td>\n",
       "      <td>0</td>\n",
       "    </tr>\n",
       "    <tr>\n",
       "      <th>4</th>\n",
       "      <td>True</td>\n",
       "      <td>1005</td>\n",
       "      <td>0</td>\n",
       "      <td>1fbe01fe</td>\n",
       "      <td>f3845767</td>\n",
       "      <td>28905ebd</td>\n",
       "      <td>ecad2386</td>\n",
       "      <td>7801e8d9</td>\n",
       "      <td>07d7df22</td>\n",
       "      <td>a99f214a</td>\n",
       "      <td>...</td>\n",
       "      <td>1722</td>\n",
       "      <td>0</td>\n",
       "      <td>35</td>\n",
       "      <td>-1</td>\n",
       "      <td>79</td>\n",
       "      <td>10</td>\n",
       "      <td>1</td>\n",
       "      <td>21</td>\n",
       "      <td>8</td>\n",
       "      <td>1</td>\n",
       "    </tr>\n",
       "  </tbody>\n",
       "</table>\n",
       "<p>5 rows × 27 columns</p>\n",
       "</div>"
      ],
      "text/plain": [
       "   click    C1  banner_pos   site_id site_domain site_category    app_id  \\\n",
       "0  False  1005           1  856e6d3f    58a89a43      f028772b  ecad2386   \n",
       "1   True  1005           1  e151e245    7e091613      f028772b  ecad2386   \n",
       "2  False  1005           0  e3c09f3a    d262cf1e      28905ebd  ecad2386   \n",
       "3  False  1002           0  0da94452    248e439f      50e219e0  ecad2386   \n",
       "4   True  1005           0  1fbe01fe    f3845767      28905ebd  ecad2386   \n",
       "\n",
       "  app_domain app_category device_id  ...   C17 C18  C19     C20  C21  month  \\\n",
       "0   7801e8d9     07d7df22  a99f214a  ...  2528   0   39  100075  221     10   \n",
       "1   7801e8d9     07d7df22  a99f214a  ...  1934   2   39      -1   16     10   \n",
       "2   7801e8d9     07d7df22  a99f214a  ...  2552   3  167  100202   23     10   \n",
       "3   7801e8d9     07d7df22  0fa578fd  ...  2478   3  167  100074   23     10   \n",
       "4   7801e8d9     07d7df22  a99f214a  ...  1722   0   35      -1   79     10   \n",
       "\n",
       "   dayofweek  day  hour  y  \n",
       "0          1   28    14  0  \n",
       "1          2   22    19  1  \n",
       "2          3   23    18  0  \n",
       "3          2   22    19  0  \n",
       "4          1   21     8  1  \n",
       "\n",
       "[5 rows x 27 columns]"
      ]
     },
     "execution_count": 3,
     "metadata": {},
     "output_type": "execute_result"
    }
   ],
   "source": [
    "ctr.head()"
   ]
  },
  {
   "cell_type": "code",
   "execution_count": 4,
   "id": "fbea2586",
   "metadata": {},
   "outputs": [
    {
     "data": {
      "text/plain": [
       "Index(['click', 'C1', 'banner_pos', 'site_id', 'site_domain', 'site_category',\n",
       "       'app_id', 'app_domain', 'app_category', 'device_id', 'device_ip',\n",
       "       'device_model', 'device_type', 'device_conn_type', 'C14', 'C15', 'C16',\n",
       "       'C17', 'C18', 'C19', 'C20', 'C21', 'month', 'dayofweek', 'day', 'hour',\n",
       "       'y'],\n",
       "      dtype='object')"
      ]
     },
     "execution_count": 4,
     "metadata": {},
     "output_type": "execute_result"
    }
   ],
   "source": [
    "ctr.columns"
   ]
  },
  {
   "cell_type": "code",
   "execution_count": 5,
   "id": "168f7896",
   "metadata": {},
   "outputs": [
    {
     "name": "stdout",
     "output_type": "stream",
     "text": [
      "<class 'pandas.core.frame.DataFrame'>\n",
      "RangeIndex: 99999 entries, 0 to 99998\n",
      "Data columns (total 27 columns):\n",
      " #   Column            Non-Null Count  Dtype \n",
      "---  ------            --------------  ----- \n",
      " 0   click             99999 non-null  bool  \n",
      " 1   C1                99999 non-null  int64 \n",
      " 2   banner_pos        99999 non-null  int64 \n",
      " 3   site_id           99999 non-null  object\n",
      " 4   site_domain       99999 non-null  object\n",
      " 5   site_category     99999 non-null  object\n",
      " 6   app_id            99999 non-null  object\n",
      " 7   app_domain        99999 non-null  object\n",
      " 8   app_category      99999 non-null  object\n",
      " 9   device_id         99999 non-null  object\n",
      " 10  device_ip         99999 non-null  object\n",
      " 11  device_model      99999 non-null  object\n",
      " 12  device_type       99999 non-null  int64 \n",
      " 13  device_conn_type  99999 non-null  int64 \n",
      " 14  C14               99999 non-null  int64 \n",
      " 15  C15               99999 non-null  int64 \n",
      " 16  C16               99999 non-null  int64 \n",
      " 17  C17               99999 non-null  int64 \n",
      " 18  C18               99999 non-null  int64 \n",
      " 19  C19               99999 non-null  int64 \n",
      " 20  C20               99999 non-null  int64 \n",
      " 21  C21               99999 non-null  int64 \n",
      " 22  month             99999 non-null  int64 \n",
      " 23  dayofweek         99999 non-null  int64 \n",
      " 24  day               99999 non-null  int64 \n",
      " 25  hour              99999 non-null  int64 \n",
      " 26  y                 99999 non-null  int64 \n",
      "dtypes: bool(1), int64(17), object(9)\n",
      "memory usage: 19.9+ MB\n"
     ]
    }
   ],
   "source": [
    "ctr.info()"
   ]
  },
  {
   "cell_type": "code",
   "execution_count": 6,
   "id": "f76e2da7",
   "metadata": {},
   "outputs": [
    {
     "data": {
      "text/plain": [
       "(99999, 27)"
      ]
     },
     "execution_count": 6,
     "metadata": {},
     "output_type": "execute_result"
    }
   ],
   "source": [
    "ctr.shape"
   ]
  },
  {
   "cell_type": "markdown",
   "id": "df78c6ca",
   "metadata": {},
   "source": [
    "# 1. Perform missing value and outlier treatment, if needed, in the data set you received."
   ]
  },
  {
   "cell_type": "code",
   "execution_count": 7,
   "id": "db33315b",
   "metadata": {},
   "outputs": [
    {
     "data": {
      "text/plain": [
       "click               0\n",
       "C1                  0\n",
       "banner_pos          0\n",
       "site_id             0\n",
       "site_domain         0\n",
       "site_category       0\n",
       "app_id              0\n",
       "app_domain          0\n",
       "app_category        0\n",
       "device_id           0\n",
       "device_ip           0\n",
       "device_model        0\n",
       "device_type         0\n",
       "device_conn_type    0\n",
       "C14                 0\n",
       "C15                 0\n",
       "C16                 0\n",
       "C17                 0\n",
       "C18                 0\n",
       "C19                 0\n",
       "C20                 0\n",
       "C21                 0\n",
       "month               0\n",
       "dayofweek           0\n",
       "day                 0\n",
       "hour                0\n",
       "y                   0\n",
       "dtype: int64"
      ]
     },
     "execution_count": 7,
     "metadata": {},
     "output_type": "execute_result"
    }
   ],
   "source": [
    "ctr.isnull().sum()"
   ]
  },
  {
   "cell_type": "markdown",
   "id": "55860933",
   "metadata": {},
   "source": [
    "### There are no null values in the dataset\n"
   ]
  },
  {
   "cell_type": "markdown",
   "id": "3b0e36f3",
   "metadata": {},
   "source": [
    "#### Our target variable is column \"click\""
   ]
  },
  {
   "cell_type": "code",
   "execution_count": 8,
   "id": "341a8724",
   "metadata": {},
   "outputs": [
    {
     "data": {
      "text/plain": [
       "False    83.01983\n",
       "True     16.98017\n",
       "Name: click, dtype: float64"
      ]
     },
     "execution_count": 8,
     "metadata": {},
     "output_type": "execute_result"
    }
   ],
   "source": [
    "ctr[\"click\"].value_counts(normalize=True)*100"
   ]
  },
  {
   "cell_type": "markdown",
   "id": "626f1a16",
   "metadata": {},
   "source": [
    "But the dataset is highly imbalanced"
   ]
  },
  {
   "cell_type": "code",
   "execution_count": 9,
   "id": "b289758c",
   "metadata": {
    "scrolled": true
   },
   "outputs": [
    {
     "data": {
      "text/plain": [
       "0    83.01983\n",
       "1    16.98017\n",
       "Name: y, dtype: float64"
      ]
     },
     "execution_count": 9,
     "metadata": {},
     "output_type": "execute_result"
    }
   ],
   "source": [
    "ctr[\"y\"].value_counts(normalize=True)*100"
   ]
  },
  {
   "cell_type": "markdown",
   "id": "34471ae3",
   "metadata": {},
   "source": [
    "### From the above values we can say that column \"click\" and column \"y\" both are same. Column \"y\" is encoded value of column \"click\""
   ]
  },
  {
   "cell_type": "markdown",
   "id": "33a1f1aa",
   "metadata": {},
   "source": [
    "### Finding for Outliers"
   ]
  },
  {
   "cell_type": "code",
   "execution_count": 10,
   "id": "fd00c0b8",
   "metadata": {},
   "outputs": [
    {
     "name": "stdout",
     "output_type": "stream",
     "text": [
      "Numerical columns: \n",
      "['C1', 'banner_pos', 'device_type', 'device_conn_type', 'C14', 'C15', 'C16', 'C17', 'C18', 'C19', 'C20', 'C21', 'month', 'dayofweek', 'day', 'hour', 'y']\n"
     ]
    }
   ],
   "source": [
    "numerical_cols = ctr.select_dtypes(\n",
    "  include = ['int64']).columns.tolist()\n",
    "print(\"Numerical columns: \")\n",
    "print(numerical_cols)"
   ]
  },
  {
   "cell_type": "markdown",
   "id": "088770d4",
   "metadata": {},
   "source": [
    "From the graph we have these many numerical features and we need to check whether there are categorical variables or not"
   ]
  },
  {
   "cell_type": "code",
   "execution_count": 11,
   "id": "038c6487",
   "metadata": {},
   "outputs": [
    {
     "data": {
      "text/plain": [
       "10    100.0\n",
       "Name: month, dtype: float64"
      ]
     },
     "execution_count": 11,
     "metadata": {},
     "output_type": "execute_result"
    }
   ],
   "source": [
    "ctr[\"month\"].value_counts(normalize=True)*100"
   ]
  },
  {
   "cell_type": "markdown",
   "id": "1eb37f1b",
   "metadata": {},
   "source": [
    "From above month value we can say that there is no much variation in month column and we can drop it "
   ]
  },
  {
   "cell_type": "code",
   "execution_count": 12,
   "id": "bf2c61b7",
   "metadata": {},
   "outputs": [
    {
     "data": {
      "text/plain": [
       "1    23.269233\n",
       "2    22.834228\n",
       "3    20.014200\n",
       "6     9.326093\n",
       "4     8.264083\n",
       "5     8.258083\n",
       "0     8.034080\n",
       "Name: dayofweek, dtype: float64"
      ]
     },
     "execution_count": 12,
     "metadata": {},
     "output_type": "execute_result"
    }
   ],
   "source": [
    "ctr[\"dayofweek\"].value_counts(normalize=True)*100"
   ]
  },
  {
   "cell_type": "code",
   "execution_count": 13,
   "id": "8553d510",
   "metadata": {},
   "outputs": [
    {
     "data": {
      "text/plain": [
       "22    13.092131\n",
       "28    13.056131\n",
       "30    10.495105\n",
       "21    10.213102\n",
       "29     9.742097\n",
       "23     9.519095\n",
       "26     9.326093\n",
       "24     8.264083\n",
       "25     8.258083\n",
       "27     8.034080\n",
       "Name: day, dtype: float64"
      ]
     },
     "execution_count": 13,
     "metadata": {},
     "output_type": "execute_result"
    }
   ],
   "source": [
    "ctr[\"day\"].value_counts(normalize=True)*100 "
   ]
  },
  {
   "cell_type": "markdown",
   "id": "2b4ae667",
   "metadata": {},
   "source": [
    "From above values in \"day\" column we can say that they are just date values and doesnt add much value to the prediction."
   ]
  },
  {
   "cell_type": "code",
   "execution_count": 14,
   "id": "0e7da011",
   "metadata": {},
   "outputs": [
    {
     "data": {
      "text/plain": [
       "click                   2\n",
       "C1                      7\n",
       "banner_pos              7\n",
       "site_id              1485\n",
       "site_domain          1331\n",
       "site_category          19\n",
       "app_id               1354\n",
       "app_domain             96\n",
       "app_category           21\n",
       "device_id           16801\n",
       "device_ip           78013\n",
       "device_model         3145\n",
       "device_type             4\n",
       "device_conn_type        4\n",
       "C14                  1722\n",
       "C15                     8\n",
       "C16                     9\n",
       "C17                   399\n",
       "C18                     4\n",
       "C19                    64\n",
       "C20                   154\n",
       "C21                    60\n",
       "month                   1\n",
       "dayofweek               7\n",
       "day                    10\n",
       "hour                   24\n",
       "y                       2\n",
       "dtype: int64"
      ]
     },
     "execution_count": 14,
     "metadata": {},
     "output_type": "execute_result"
    }
   ],
   "source": [
    "ctr.nunique()"
   ]
  },
  {
   "cell_type": "markdown",
   "id": "5a20add3",
   "metadata": {},
   "source": [
    "There are not much outliers in the dataset and as we can say that categorical columns are encoded into numerical values"
   ]
  },
  {
   "cell_type": "markdown",
   "id": "afa4a390",
   "metadata": {},
   "source": [
    "### EDA"
   ]
  },
  {
   "cell_type": "code",
   "execution_count": 15,
   "id": "8846e8dd",
   "metadata": {},
   "outputs": [
    {
     "data": {
      "text/plain": [
       "Text(0.5, 1.0, 'Count of clicks')"
      ]
     },
     "execution_count": 15,
     "metadata": {},
     "output_type": "execute_result"
    },
    {
     "data": {
      "image/png": "[encoded data removed]",
      "text/plain": [
       "<Figure size 648x504 with 1 Axes>"
      ]
     },
     "metadata": {
      "needs_background": "light"
     },
     "output_type": "display_data"
    }
   ],
   "source": [
    "plt.figure(figsize=(9, 7))\n",
    "status_plot = sns.countplot(x ='click', data = ctr)\n",
    "for p in status_plot.patches:\n",
    "    status_plot.annotate(format(p.get_height() ), \n",
    "                   (p.get_x() + p.get_width() / 2., p.get_height()), \n",
    "                   ha = 'center', va = 'center', \n",
    "                   xytext = (0, 9), \n",
    "                   textcoords = 'offset points')\n",
    "plt.xticks(rotation = 0)\n",
    "plt.xlabel('Clicks',fontdict={'fontsize': 15})\n",
    "plt.ylabel('Count',fontdict={'fontsize': 15})\n",
    "plt.title('Count of clicks',\n",
    "          fontweight=\"bold\",fontdict={'fontsize': 20},pad=20)"
   ]
  },
  {
   "cell_type": "code",
   "execution_count": 16,
   "id": "cc1decb7",
   "metadata": {},
   "outputs": [
    {
     "name": "stdout",
     "output_type": "stream",
     "text": [
      "click       False   True\n",
      "banner_pos              \n",
      "0           59913  11865\n",
      "1           22978   5074\n",
      "2              25      5\n",
      "3               3      1\n",
      "4              18      1\n",
      "5               9      0\n",
      "7              73     34\n"
     ]
    },
    {
     "data": {
      "text/plain": [
       "Text(0.5, 1.0, 'Number of clicks by banner position')"
      ]
     },
     "execution_count": 16,
     "metadata": {},
     "output_type": "execute_result"
    },
    {
     "data": {
      "text/plain": [
       "<Figure size 648x504 with 0 Axes>"
      ]
     },
     "metadata": {},
     "output_type": "display_data"
    },
    {
     "data": {
      "image/png": "[encoded data removed]",
      "text/plain": [
       "<Figure size 432x288 with 1 Axes>"
      ]
     },
     "metadata": {
      "needs_background": "light"
     },
     "output_type": "display_data"
    }
   ],
   "source": [
    "plt.figure(figsize=(9, 7))\n",
    "CrosstabResult=pd.crosstab(index=ctr['banner_pos'],columns=ctr['click'])\n",
    "print(CrosstabResult)\n",
    " \n",
    "# Grouped bar chart between \"banner position\" and \"click\" columns\n",
    "splot = CrosstabResult.plot.bar(width = 0.8)\n",
    "\n",
    "plt.xticks(rotation = 90)\n",
    "plt.title('Number of clicks by banner position',\n",
    "          fontweight=\"bold\",fontdict={'fontsize': 20},pad=20)"
   ]
  },
  {
   "cell_type": "markdown",
   "id": "8b04faf8",
   "metadata": {},
   "source": [
    "From the graph we can say that most number of ads are placed on 0 and 1 positions and most number of clicks happen in these positions only"
   ]
  },
  {
   "cell_type": "code",
   "execution_count": 17,
   "id": "32f22896",
   "metadata": {},
   "outputs": [
    {
     "name": "stdout",
     "output_type": "stream",
     "text": [
      "click        False   True\n",
      "device_type              \n",
      "0             4288   1206\n",
      "1            76688  15551\n",
      "4             1747    184\n",
      "5              296     39\n"
     ]
    },
    {
     "data": {
      "text/plain": [
       "Text(0.5, 1.0, 'Number of clicks by device type')"
      ]
     },
     "execution_count": 17,
     "metadata": {},
     "output_type": "execute_result"
    },
    {
     "data": {
      "text/plain": [
       "<Figure size 864x432 with 0 Axes>"
      ]
     },
     "metadata": {},
     "output_type": "display_data"
    },
    {
     "data": {
      "image/png": "[encoded data removed]",
      "text/plain": [
       "<Figure size 432x288 with 1 Axes>"
      ]
     },
     "metadata": {
      "needs_background": "light"
     },
     "output_type": "display_data"
    }
   ],
   "source": [
    "plt.figure(figsize=(12, 6))\n",
    "CrosstabResult=pd.crosstab(index=ctr['device_type'],columns=ctr['click'])\n",
    "print(CrosstabResult)\n",
    " \n",
    "#  Grouped bar chart between \"device type\" and \"click\" columns\n",
    "splot = CrosstabResult.plot.bar(width = 0.8)\n",
    "\n",
    "plt.xticks(rotation = 90)\n",
    "plt.title('Number of clicks by device type',\n",
    "          fontweight=\"bold\",fontdict={'fontsize': 20},pad=20)"
   ]
  },
  {
   "cell_type": "markdown",
   "id": "9d010e56",
   "metadata": {},
   "source": [
    "From the graph we can say that most number of ads are on device type 1 and 0 positions and most number of clicks happen in these positions only"
   ]
  },
  {
   "cell_type": "code",
   "execution_count": 18,
   "id": "d99c6ac1",
   "metadata": {},
   "outputs": [
    {
     "name": "stdout",
     "output_type": "stream",
     "text": [
      "click             False   True\n",
      "device_conn_type              \n",
      "0                 70780  15633\n",
      "2                  6978   1065\n",
      "3                  5150    278\n",
      "5                   111      4\n"
     ]
    },
    {
     "data": {
      "text/plain": [
       "Text(0.5, 1.0, 'Number of clicks by device connection type')"
      ]
     },
     "execution_count": 18,
     "metadata": {},
     "output_type": "execute_result"
    },
    {
     "data": {
      "text/plain": [
       "<Figure size 864x432 with 0 Axes>"
      ]
     },
     "metadata": {},
     "output_type": "display_data"
    },
    {
     "data": {
      "image/png": "[encoded data removed]",
      "text/plain": [
       "<Figure size 432x288 with 1 Axes>"
      ]
     },
     "metadata": {
      "needs_background": "light"
     },
     "output_type": "display_data"
    }
   ],
   "source": [
    "plt.figure(figsize=(12, 6))\n",
    "CrosstabResult=pd.crosstab(index=ctr['device_conn_type'],columns=ctr['click'])\n",
    "print(CrosstabResult)\n",
    " \n",
    "# Grouped bar chart between \"device connection type\" and \"click\" columns\n",
    "splot = CrosstabResult.plot.bar(width = 0.8)\n",
    "\n",
    "plt.xticks(rotation = 90)\n",
    "plt.title('Number of clicks by device connection type',\n",
    "          fontweight=\"bold\",fontdict={'fontsize': 20},pad=20)"
   ]
  },
  {
   "cell_type": "markdown",
   "id": "7555a2a2",
   "metadata": {},
   "source": [
    "From the graph we can say that most number of ads are on device connection type 0 and 2 positions and most number of clicks happen on these device connections only"
   ]
  },
  {
   "cell_type": "code",
   "execution_count": 19,
   "id": "99633294",
   "metadata": {},
   "outputs": [
    {
     "name": "stdout",
     "output_type": "stream",
     "text": [
      "click      False  True\n",
      "dayofweek             \n",
      "0           6560  1474\n",
      "1          19562  3707\n",
      "2          19264  3570\n",
      "3          16384  3630\n",
      "4           6806  1458\n",
      "5           6775  1483\n",
      "6           7668  1658\n"
     ]
    },
    {
     "data": {
      "text/plain": [
       "(array([0, 1, 2, 3, 4, 5, 6]),\n",
       " [Text(0, 0, 'Mon'),\n",
       "  Text(1, 0, 'Tues'),\n",
       "  Text(2, 0, 'Weds'),\n",
       "  Text(3, 0, 'Thurs'),\n",
       "  Text(4, 0, 'Fri'),\n",
       "  Text(5, 0, 'Sat'),\n",
       "  Text(6, 0, 'Sun')])"
      ]
     },
     "execution_count": 19,
     "metadata": {},
     "output_type": "execute_result"
    },
    {
     "data": {
      "text/plain": [
       "<Figure size 864x432 with 0 Axes>"
      ]
     },
     "metadata": {},
     "output_type": "display_data"
    },
    {
     "data": {
      "image/png": "[encoded data removed]",
      "text/plain": [
       "<Figure size 432x288 with 1 Axes>"
      ]
     },
     "metadata": {
      "needs_background": "light"
     },
     "output_type": "display_data"
    }
   ],
   "source": [
    "plt.figure(figsize=(12, 6))\n",
    "CrosstabResult=pd.crosstab(index=ctr['dayofweek'],columns=ctr['click'])\n",
    "print(CrosstabResult)\n",
    " \n",
    "# Grouped bar chart between \"Day part\" and \"Supply_Demand\" columns\n",
    "splot = CrosstabResult.plot.bar(width = 0.8)\n",
    "ticks = list(range(0, 7, 1))\n",
    "labels = \"Mon Tues Weds Thurs Fri Sat Sun\".split()\n",
    "plt.xticks(ticks, labels)\n",
    "plt.title('Impressions vs. clicks by day of week',\n",
    "          fontweight=\"bold\",fontdict={'fontsize': 20},pad=20)\n",
    "plt.xticks(rotation = 90)"
   ]
  },
  {
   "cell_type": "markdown",
   "id": "fcdc3134",
   "metadata": {},
   "source": [
    "From the graph we can say that most number of ads are posted on day Tuesday, Wednesday and Thursday and most muber of ctr happens on these days only"
   ]
  },
  {
   "cell_type": "code",
   "execution_count": 20,
   "id": "b9f194f1",
   "metadata": {},
   "outputs": [
    {
     "name": "stdout",
     "output_type": "stream",
     "text": [
      "click  False  True\n",
      "hour              \n",
      "0       1676   329\n",
      "1       1949   426\n",
      "2       2448   502\n",
      "3       2934   597\n",
      "4       3921   743\n",
      "5       4157   784\n",
      "6       3613   752\n",
      "7       3695   793\n",
      "8       4355   896\n",
      "9       4701   958\n",
      "10      4464   881\n",
      "11      4284   852\n",
      "12      4679   959\n",
      "13      4916   989\n",
      "14      4438   955\n",
      "15      4106   913\n",
      "16      4158   919\n",
      "17      4201   900\n",
      "18      3642   747\n",
      "19      2739   562\n",
      "20      2283   419\n",
      "21      2058   377\n",
      "22      1920   364\n",
      "23      1682   363\n"
     ]
    },
    {
     "data": {
      "text/plain": [
       "(array([ 0,  1,  2,  3,  4,  5,  6,  7,  8,  9, 10, 11, 12, 13, 14, 15, 16,\n",
       "        17, 18, 19, 20, 21, 22, 23]),\n",
       " [Text(0, 0, '0'),\n",
       "  Text(1, 0, '1'),\n",
       "  Text(2, 0, '2'),\n",
       "  Text(3, 0, '3'),\n",
       "  Text(4, 0, '4'),\n",
       "  Text(5, 0, '5'),\n",
       "  Text(6, 0, '6'),\n",
       "  Text(7, 0, '7'),\n",
       "  Text(8, 0, '8'),\n",
       "  Text(9, 0, '9'),\n",
       "  Text(10, 0, '10'),\n",
       "  Text(11, 0, '11'),\n",
       "  Text(12, 0, '12'),\n",
       "  Text(13, 0, '13'),\n",
       "  Text(14, 0, '14'),\n",
       "  Text(15, 0, '15'),\n",
       "  Text(16, 0, '16'),\n",
       "  Text(17, 0, '17'),\n",
       "  Text(18, 0, '18'),\n",
       "  Text(19, 0, '19'),\n",
       "  Text(20, 0, '20'),\n",
       "  Text(21, 0, '21'),\n",
       "  Text(22, 0, '22'),\n",
       "  Text(23, 0, '23')])"
      ]
     },
     "execution_count": 20,
     "metadata": {},
     "output_type": "execute_result"
    },
    {
     "data": {
      "image/png": "[encoded data removed]",
      "text/plain": [
       "<Figure size 1440x720 with 1 Axes>"
      ]
     },
     "metadata": {
      "needs_background": "light"
     },
     "output_type": "display_data"
    }
   ],
   "source": [
    "plt.rcParams[\"figure.figsize\"] = (20,10)\n",
    "CrosstabResult=pd.crosstab(index=ctr['hour'],columns=ctr['click'])\n",
    "print(CrosstabResult)\n",
    " \n",
    "# Grouped bar chart between \"hour\" and \"Supply_Demand\" columns\n",
    "splot = CrosstabResult.plot.bar(width = 0.7)\n",
    "plt.ylabel('count')\n",
    "plt.title('Hourly impressions vs. clicks',fontweight=\"bold\",fontdict={'fontsize': 20})\n",
    "plt.xticks(rotation = 90)"
   ]
  },
  {
   "cell_type": "code",
   "execution_count": 21,
   "id": "b2af7243",
   "metadata": {},
   "outputs": [
    {
     "data": {
      "image/png": "[encoded data removed]",
      "text/plain": [
       "<Figure size 864x432 with 1 Axes>"
      ]
     },
     "metadata": {
      "needs_background": "light"
     },
     "output_type": "display_data"
    }
   ],
   "source": [
    "ctr.groupby('hour').agg({'click':'sum'}).plot(figsize=(12,6))\n",
    "plt.ylabel('Number of clicks')\n",
    "plt.title('click trends by hour of day',fontweight=\"bold\",fontdict={'fontsize': 20});"
   ]
  },
  {
   "cell_type": "markdown",
   "id": "b0bdf8ec",
   "metadata": {},
   "source": [
    "From the above two graphs we can conclude that most number of clicks happen around 9am to 4pm but most number of clicks happen at 1pm and 12pm"
   ]
  },
  {
   "cell_type": "markdown",
   "id": "6e2c38c3",
   "metadata": {},
   "source": [
    "From the above cells we got to know \"month\" has only one value in the dataset which doesnt add value to our prediction. And with day column it has only \"day\" part of the date and that also doesnt add much value to our predictions. Same goes with \"click\"column has we have already \"y\" column which serves the same purpose.\n",
    "So lets drop columns \"month\",\"day\" and \"click\"."
   ]
  },
  {
   "cell_type": "code",
   "execution_count": 22,
   "id": "49003409",
   "metadata": {},
   "outputs": [],
   "source": [
    "ctr1 = ctr.drop([\"click\",\"day\",\"month\"],axis=1)"
   ]
  },
  {
   "cell_type": "markdown",
   "id": "e643e1ec",
   "metadata": {},
   "source": [
    "# 2. Perform categorical variable treatment"
   ]
  },
  {
   "cell_type": "markdown",
   "id": "2d1f39ef",
   "metadata": {},
   "source": [
    "## a. Identify the categorical columns "
   ]
  },
  {
   "cell_type": "code",
   "execution_count": 23,
   "id": "2572eb45",
   "metadata": {},
   "outputs": [
    {
     "name": "stdout",
     "output_type": "stream",
     "text": [
      "Categorical columns: \n",
      "['site_id', 'site_domain', 'site_category', 'app_id', 'app_domain', 'app_category', 'device_id', 'device_ip', 'device_model']\n"
     ]
    }
   ],
   "source": [
    "categorical_cols = ctr.select_dtypes(\n",
    "  include = ['object']).columns.tolist()\n",
    "print(\"Categorical columns: \")\n",
    "print(categorical_cols)\n"
   ]
  },
  {
   "cell_type": "markdown",
   "id": "dd351be0",
   "metadata": {},
   "source": [
    "Using label like encoding using pd.factorize for categorical variables which has values more than tens"
   ]
  },
  {
   "cell_type": "code",
   "execution_count": 24,
   "id": "b69df162",
   "metadata": {},
   "outputs": [],
   "source": [
    "ctr1['site_id']=pd.factorize(ctr1['site_id'])[0]\n",
    "ctr1['site_category']  = pd.factorize(ctr1['site_category'])[0]\n",
    "ctr1['site_domain']  = pd.factorize(ctr1['site_domain'])[0]\n",
    "ctr1['app_id']  = pd.factorize(ctr1['app_id'])[0]\n",
    "ctr1['app_domain']  = pd.factorize(ctr1['app_domain'])[0]\n",
    "ctr1['app_category']  = pd.factorize(ctr1['app_category'])[0]\n",
    "ctr1['device_id']  = pd.factorize(ctr1['device_id'])[0]\n",
    "ctr1['device_ip']  = pd.factorize(ctr1['device_ip'])[0]\n",
    "ctr1['device_model']  = pd.factorize(ctr1['device_model'])[0]"
   ]
  },
  {
   "cell_type": "markdown",
   "id": "dea38767",
   "metadata": {},
   "source": [
    "Using One-hot like encoding for categorical variables which are in numerical format and has unique values less than tens"
   ]
  },
  {
   "cell_type": "code",
   "execution_count": 25,
   "id": "80ea3588",
   "metadata": {},
   "outputs": [],
   "source": [
    "ctr1 = pd.get_dummies(ctr1, columns = [\"banner_pos\",\"device_type\",\"device_conn_type\"])"
   ]
  },
  {
   "cell_type": "code",
   "execution_count": 26,
   "id": "d87c7708",
   "metadata": {},
   "outputs": [
    {
     "name": "stdout",
     "output_type": "stream",
     "text": [
      "<class 'pandas.core.frame.DataFrame'>\n",
      "RangeIndex: 99999 entries, 0 to 99998\n",
      "Data columns (total 36 columns):\n",
      " #   Column              Non-Null Count  Dtype\n",
      "---  ------              --------------  -----\n",
      " 0   C1                  99999 non-null  int64\n",
      " 1   site_id             99999 non-null  int64\n",
      " 2   site_domain         99999 non-null  int64\n",
      " 3   site_category       99999 non-null  int64\n",
      " 4   app_id              99999 non-null  int64\n",
      " 5   app_domain          99999 non-null  int64\n",
      " 6   app_category        99999 non-null  int64\n",
      " 7   device_id           99999 non-null  int64\n",
      " 8   device_ip           99999 non-null  int64\n",
      " 9   device_model        99999 non-null  int64\n",
      " 10  C14                 99999 non-null  int64\n",
      " 11  C15                 99999 non-null  int64\n",
      " 12  C16                 99999 non-null  int64\n",
      " 13  C17                 99999 non-null  int64\n",
      " 14  C18                 99999 non-null  int64\n",
      " 15  C19                 99999 non-null  int64\n",
      " 16  C20                 99999 non-null  int64\n",
      " 17  C21                 99999 non-null  int64\n",
      " 18  dayofweek           99999 non-null  int64\n",
      " 19  hour                99999 non-null  int64\n",
      " 20  y                   99999 non-null  int64\n",
      " 21  banner_pos_0        99999 non-null  uint8\n",
      " 22  banner_pos_1        99999 non-null  uint8\n",
      " 23  banner_pos_2        99999 non-null  uint8\n",
      " 24  banner_pos_3        99999 non-null  uint8\n",
      " 25  banner_pos_4        99999 non-null  uint8\n",
      " 26  banner_pos_5        99999 non-null  uint8\n",
      " 27  banner_pos_7        99999 non-null  uint8\n",
      " 28  device_type_0       99999 non-null  uint8\n",
      " 29  device_type_1       99999 non-null  uint8\n",
      " 30  device_type_4       99999 non-null  uint8\n",
      " 31  device_type_5       99999 non-null  uint8\n",
      " 32  device_conn_type_0  99999 non-null  uint8\n",
      " 33  device_conn_type_2  99999 non-null  uint8\n",
      " 34  device_conn_type_3  99999 non-null  uint8\n",
      " 35  device_conn_type_5  99999 non-null  uint8\n",
      "dtypes: int64(21), uint8(15)\n",
      "memory usage: 17.5 MB\n"
     ]
    }
   ],
   "source": [
    "ctr1.info()"
   ]
  },
  {
   "cell_type": "markdown",
   "id": "51e6ad6f",
   "metadata": {},
   "source": [
    "As the data is not scaled and ML algorithm works better when features are relatively on a similar scale and close to Normal Distribution.\n"
   ]
  },
  {
   "cell_type": "code",
   "execution_count": 27,
   "id": "92d1674f",
   "metadata": {},
   "outputs": [
    {
     "name": "stdout",
     "output_type": "stream",
     "text": [
      "(99999, 36)\n"
     ]
    }
   ],
   "source": [
    "from sklearn.preprocessing import StandardScaler\n",
    "scaler = StandardScaler()\n",
    "# transform data\n",
    "scaled = scaler.fit_transform(ctr1)\n",
    "print(scaled.shape)"
   ]
  },
  {
   "cell_type": "code",
   "execution_count": 28,
   "id": "e66673eb",
   "metadata": {},
   "outputs": [],
   "source": [
    "scaled_features_ctr = pd.DataFrame(scaled, index=ctr1.index, columns=ctr1.columns)"
   ]
  },
  {
   "cell_type": "code",
   "execution_count": 29,
   "id": "0070c327",
   "metadata": {},
   "outputs": [
    {
     "data": {
      "text/html": [
       "<div>\n",
       "<style scoped>\n",
       "    .dataframe tbody tr th:only-of-type {\n",
       "        vertical-align: middle;\n",
       "    }\n",
       "\n",
       "    .dataframe tbody tr th {\n",
       "        vertical-align: top;\n",
       "    }\n",
       "\n",
       "    .dataframe thead th {\n",
       "        text-align: right;\n",
       "    }\n",
       "</style>\n",
       "<table border=\"1\" class=\"dataframe\">\n",
       "  <thead>\n",
       "    <tr style=\"text-align: right;\">\n",
       "      <th></th>\n",
       "      <th>C1</th>\n",
       "      <th>site_id</th>\n",
       "      <th>site_domain</th>\n",
       "      <th>site_category</th>\n",
       "      <th>app_id</th>\n",
       "      <th>app_domain</th>\n",
       "      <th>app_category</th>\n",
       "      <th>device_id</th>\n",
       "      <th>device_ip</th>\n",
       "      <th>device_model</th>\n",
       "      <th>...</th>\n",
       "      <th>banner_pos_5</th>\n",
       "      <th>banner_pos_7</th>\n",
       "      <th>device_type_0</th>\n",
       "      <th>device_type_1</th>\n",
       "      <th>device_type_4</th>\n",
       "      <th>device_type_5</th>\n",
       "      <th>device_conn_type_0</th>\n",
       "      <th>device_conn_type_2</th>\n",
       "      <th>device_conn_type_3</th>\n",
       "      <th>device_conn_type_5</th>\n",
       "    </tr>\n",
       "  </thead>\n",
       "  <tbody>\n",
       "    <tr>\n",
       "      <th>0</th>\n",
       "      <td>0.029719</td>\n",
       "      <td>-0.377540</td>\n",
       "      <td>-0.341202</td>\n",
       "      <td>-1.080885</td>\n",
       "      <td>-0.275971</td>\n",
       "      <td>-0.45716</td>\n",
       "      <td>-0.497028</td>\n",
       "      <td>-0.384323</td>\n",
       "      <td>-1.396918</td>\n",
       "      <td>-0.642084</td>\n",
       "      <td>...</td>\n",
       "      <td>-0.009487</td>\n",
       "      <td>-0.032729</td>\n",
       "      <td>-0.241111</td>\n",
       "      <td>0.290050</td>\n",
       "      <td>-0.140323</td>\n",
       "      <td>-0.057977</td>\n",
       "      <td>0.396512</td>\n",
       "      <td>-0.295746</td>\n",
       "      <td>-0.239575</td>\n",
       "      <td>-0.033931</td>\n",
       "    </tr>\n",
       "    <tr>\n",
       "      <th>1</th>\n",
       "      <td>0.029719</td>\n",
       "      <td>-0.371433</td>\n",
       "      <td>-0.333510</td>\n",
       "      <td>-1.080885</td>\n",
       "      <td>-0.275971</td>\n",
       "      <td>-0.45716</td>\n",
       "      <td>-0.497028</td>\n",
       "      <td>-0.384323</td>\n",
       "      <td>-1.396876</td>\n",
       "      <td>-0.640092</td>\n",
       "      <td>...</td>\n",
       "      <td>-0.009487</td>\n",
       "      <td>-0.032729</td>\n",
       "      <td>-0.241111</td>\n",
       "      <td>0.290050</td>\n",
       "      <td>-0.140323</td>\n",
       "      <td>-0.057977</td>\n",
       "      <td>0.396512</td>\n",
       "      <td>-0.295746</td>\n",
       "      <td>-0.239575</td>\n",
       "      <td>-0.033931</td>\n",
       "    </tr>\n",
       "    <tr>\n",
       "      <th>2</th>\n",
       "      <td>0.029719</td>\n",
       "      <td>-0.365326</td>\n",
       "      <td>-0.325818</td>\n",
       "      <td>-0.280368</td>\n",
       "      <td>-0.275971</td>\n",
       "      <td>-0.45716</td>\n",
       "      <td>-0.497028</td>\n",
       "      <td>-0.384323</td>\n",
       "      <td>-1.396834</td>\n",
       "      <td>-0.638100</td>\n",
       "      <td>...</td>\n",
       "      <td>-0.009487</td>\n",
       "      <td>-0.032729</td>\n",
       "      <td>-0.241111</td>\n",
       "      <td>0.290050</td>\n",
       "      <td>-0.140323</td>\n",
       "      <td>-0.057977</td>\n",
       "      <td>0.396512</td>\n",
       "      <td>-0.295746</td>\n",
       "      <td>-0.239575</td>\n",
       "      <td>-0.033931</td>\n",
       "    </tr>\n",
       "    <tr>\n",
       "      <th>3</th>\n",
       "      <td>-2.717759</td>\n",
       "      <td>-0.359219</td>\n",
       "      <td>-0.318125</td>\n",
       "      <td>0.520149</td>\n",
       "      <td>-0.275971</td>\n",
       "      <td>-0.45716</td>\n",
       "      <td>-0.497028</td>\n",
       "      <td>-0.384055</td>\n",
       "      <td>-1.396792</td>\n",
       "      <td>-0.636108</td>\n",
       "      <td>...</td>\n",
       "      <td>-0.009487</td>\n",
       "      <td>-0.032729</td>\n",
       "      <td>4.147468</td>\n",
       "      <td>-3.447676</td>\n",
       "      <td>-0.140323</td>\n",
       "      <td>-0.057977</td>\n",
       "      <td>0.396512</td>\n",
       "      <td>-0.295746</td>\n",
       "      <td>-0.239575</td>\n",
       "      <td>-0.033931</td>\n",
       "    </tr>\n",
       "    <tr>\n",
       "      <th>4</th>\n",
       "      <td>0.029719</td>\n",
       "      <td>-0.353112</td>\n",
       "      <td>-0.310433</td>\n",
       "      <td>-0.280368</td>\n",
       "      <td>-0.275971</td>\n",
       "      <td>-0.45716</td>\n",
       "      <td>-0.497028</td>\n",
       "      <td>-0.384323</td>\n",
       "      <td>-1.396750</td>\n",
       "      <td>-0.634116</td>\n",
       "      <td>...</td>\n",
       "      <td>-0.009487</td>\n",
       "      <td>-0.032729</td>\n",
       "      <td>-0.241111</td>\n",
       "      <td>0.290050</td>\n",
       "      <td>-0.140323</td>\n",
       "      <td>-0.057977</td>\n",
       "      <td>0.396512</td>\n",
       "      <td>-0.295746</td>\n",
       "      <td>-0.239575</td>\n",
       "      <td>-0.033931</td>\n",
       "    </tr>\n",
       "  </tbody>\n",
       "</table>\n",
       "<p>5 rows × 36 columns</p>\n",
       "</div>"
      ],
      "text/plain": [
       "         C1   site_id  site_domain  site_category    app_id  app_domain  \\\n",
       "0  0.029719 -0.377540    -0.341202      -1.080885 -0.275971    -0.45716   \n",
       "1  0.029719 -0.371433    -0.333510      -1.080885 -0.275971    -0.45716   \n",
       "2  0.029719 -0.365326    -0.325818      -0.280368 -0.275971    -0.45716   \n",
       "3 -2.717759 -0.359219    -0.318125       0.520149 -0.275971    -0.45716   \n",
       "4  0.029719 -0.353112    -0.310433      -0.280368 -0.275971    -0.45716   \n",
       "\n",
       "   app_category  device_id  device_ip  device_model  ...  banner_pos_5  \\\n",
       "0     -0.497028  -0.384323  -1.396918     -0.642084  ...     -0.009487   \n",
       "1     -0.497028  -0.384323  -1.396876     -0.640092  ...     -0.009487   \n",
       "2     -0.497028  -0.384323  -1.396834     -0.638100  ...     -0.009487   \n",
       "3     -0.497028  -0.384055  -1.396792     -0.636108  ...     -0.009487   \n",
       "4     -0.497028  -0.384323  -1.396750     -0.634116  ...     -0.009487   \n",
       "\n",
       "   banner_pos_7  device_type_0  device_type_1  device_type_4  device_type_5  \\\n",
       "0     -0.032729      -0.241111       0.290050      -0.140323      -0.057977   \n",
       "1     -0.032729      -0.241111       0.290050      -0.140323      -0.057977   \n",
       "2     -0.032729      -0.241111       0.290050      -0.140323      -0.057977   \n",
       "3     -0.032729       4.147468      -3.447676      -0.140323      -0.057977   \n",
       "4     -0.032729      -0.241111       0.290050      -0.140323      -0.057977   \n",
       "\n",
       "   device_conn_type_0  device_conn_type_2  device_conn_type_3  \\\n",
       "0            0.396512           -0.295746           -0.239575   \n",
       "1            0.396512           -0.295746           -0.239575   \n",
       "2            0.396512           -0.295746           -0.239575   \n",
       "3            0.396512           -0.295746           -0.239575   \n",
       "4            0.396512           -0.295746           -0.239575   \n",
       "\n",
       "   device_conn_type_5  \n",
       "0           -0.033931  \n",
       "1           -0.033931  \n",
       "2           -0.033931  \n",
       "3           -0.033931  \n",
       "4           -0.033931  \n",
       "\n",
       "[5 rows x 36 columns]"
      ]
     },
     "execution_count": 29,
     "metadata": {},
     "output_type": "execute_result"
    }
   ],
   "source": [
    "scaled_features_ctr.head()"
   ]
  },
  {
   "cell_type": "code",
   "execution_count": 30,
   "id": "2a7d70bb",
   "metadata": {},
   "outputs": [
    {
     "data": {
      "text/plain": [
       "(99999, 36)"
      ]
     },
     "execution_count": 30,
     "metadata": {},
     "output_type": "execute_result"
    }
   ],
   "source": [
    "scaled_features_ctr.shape"
   ]
  },
  {
   "cell_type": "code",
   "execution_count": 31,
   "id": "ad9bc512",
   "metadata": {},
   "outputs": [
    {
     "data": {
      "text/plain": [
       "Index(['C1', 'site_id', 'site_domain', 'site_category', 'app_id', 'app_domain',\n",
       "       'app_category', 'device_id', 'device_ip', 'device_model', 'C14', 'C15',\n",
       "       'C16', 'C17', 'C18', 'C19', 'C20', 'C21', 'dayofweek', 'hour', 'y',\n",
       "       'banner_pos_0', 'banner_pos_1', 'banner_pos_2', 'banner_pos_3',\n",
       "       'banner_pos_4', 'banner_pos_5', 'banner_pos_7', 'device_type_0',\n",
       "       'device_type_1', 'device_type_4', 'device_type_5', 'device_conn_type_0',\n",
       "       'device_conn_type_2', 'device_conn_type_3', 'device_conn_type_5'],\n",
       "      dtype='object')"
      ]
     },
     "execution_count": 31,
     "metadata": {},
     "output_type": "execute_result"
    }
   ],
   "source": [
    "scaled_features_ctr.columns"
   ]
  },
  {
   "cell_type": "markdown",
   "id": "7e5f86ae",
   "metadata": {},
   "source": [
    "# 3. Perform a train-test split in the data set (the usual split followed in the industry is 70-30 or 80-20)"
   ]
  },
  {
   "cell_type": "code",
   "execution_count": 32,
   "id": "54c03220",
   "metadata": {},
   "outputs": [],
   "source": [
    "X = scaled_features_ctr.loc[:, ['C1', 'site_id', 'site_domain', 'site_category', 'app_id', 'app_domain',\n",
    "       'app_category', 'device_id', 'device_ip', 'device_model', 'C14', 'C15',\n",
    "       'C16', 'C17', 'C18', 'C19', 'C20', 'C21', 'dayofweek', 'hour',\n",
    "       'banner_pos_0', 'banner_pos_1', 'banner_pos_2', 'banner_pos_3',\n",
    "       'banner_pos_4', 'banner_pos_5', 'banner_pos_7', 'device_type_0',\n",
    "       'device_type_1', 'device_type_4', 'device_type_5', 'device_conn_type_0',\n",
    "       'device_conn_type_2', 'device_conn_type_3', 'device_conn_type_5']] # independent variable\n",
    "y =  ctr1.loc[:, ['y']] # dependent variable"
   ]
  },
  {
   "cell_type": "code",
   "execution_count": 33,
   "id": "53e1bf04",
   "metadata": {},
   "outputs": [
    {
     "name": "stdout",
     "output_type": "stream",
     "text": [
      "(69999, 35)\n",
      "(69999, 1)\n",
      "(30000, 35)\n",
      "(30000, 1)\n"
     ]
    }
   ],
   "source": [
    "from sklearn.model_selection import train_test_split\n",
    "# Splitting the train and test data to 70 and 30 \n",
    "X_train, X_test, y_train, y_test = train_test_split(X, y, test_size=0.3, random_state=43)\n",
    "print(X_train.shape)\n",
    "print(y_train.shape)\n",
    "print(X_test.shape)\n",
    "print(y_test.shape)"
   ]
  },
  {
   "cell_type": "markdown",
   "id": "29cf4ddb",
   "metadata": {},
   "source": [
    "# 4. Identify the 3 classification methods you will use in the data set, and explain the reason you chose those 3 methods in the notebook file you will share in the submission process."
   ]
  },
  {
   "cell_type": "markdown",
   "id": "cae3d4b2",
   "metadata": {},
   "source": [
    "### Using Logistic Regression, Decision Tree and Random Forest for classification methods"
   ]
  },
  {
   "cell_type": "markdown",
   "id": "95425261",
   "metadata": {},
   "source": [
    "### a. Logistic Regression"
   ]
  },
  {
   "cell_type": "markdown",
   "id": "d4023c6f",
   "metadata": {},
   "source": [
    "#### Reason for choosing Logistic Regression\n",
    "\n",
    "##### Logistic Regression is used for prediction and classification problems as our problem statement states we have to predict ctr of ads.\n",
    "a. Logistic regression is easier to implement and very efficient to train. It is very fast at classifying unknown records.\n",
    "b. It can interpret model coefficients as indicators of feature importance.\n",
    "c. Robust to noise\n"
   ]
  },
  {
   "cell_type": "code",
   "execution_count": 34,
   "id": "4d073f32",
   "metadata": {},
   "outputs": [
    {
     "name": "stderr",
     "output_type": "stream",
     "text": [
      "C:\\Users\\srina\\anaconda3\\lib\\site-packages\\sklearn\\utils\\validation.py:993: DataConversionWarning: A column-vector y was passed when a 1d array was expected. Please change the shape of y to (n_samples, ), for example using ravel().\n",
      "  y = column_or_1d(y, warn=True)\n"
     ]
    },
    {
     "data": {
      "text/plain": [
       "LogisticRegression()"
      ]
     },
     "execution_count": 34,
     "metadata": {},
     "output_type": "execute_result"
    }
   ],
   "source": [
    "from sklearn.linear_model import LogisticRegression\n",
    "\n",
    "# declare the logistic model\n",
    "model = LogisticRegression()\n",
    "\n",
    "# train the model on the data\n",
    "model.fit(X_train, y_train)"
   ]
  },
  {
   "cell_type": "code",
   "execution_count": 35,
   "id": "e6ccfcd7",
   "metadata": {},
   "outputs": [
    {
     "name": "stdout",
     "output_type": "stream",
     "text": [
      "[[24952    46]\n",
      " [ 4992    10]]\n"
     ]
    },
    {
     "name": "stderr",
     "output_type": "stream",
     "text": [
      "C:\\Users\\srina\\anaconda3\\lib\\site-packages\\sklearn\\utils\\deprecation.py:87: FutureWarning: Function plot_confusion_matrix is deprecated; Function `plot_confusion_matrix` is deprecated in 1.0 and will be removed in 1.2. Use one of the class methods: ConfusionMatrixDisplay.from_predictions or ConfusionMatrixDisplay.from_estimator.\n",
      "  warnings.warn(msg, category=FutureWarning)\n"
     ]
    },
    {
     "data": {
      "image/png": "[encoded data removed]",
      "text/plain": [
       "<Figure size 1440x720 with 2 Axes>"
      ]
     },
     "metadata": {
      "needs_background": "light"
     },
     "output_type": "display_data"
    },
    {
     "name": "stdout",
     "output_type": "stream",
     "text": [
      "              precision    recall  f1-score   support\n",
      "\n",
      "           0       0.83      1.00      0.91     24998\n",
      "           1       0.18      0.00      0.00      5002\n",
      "\n",
      "    accuracy                           0.83     30000\n",
      "   macro avg       0.51      0.50      0.46     30000\n",
      "weighted avg       0.72      0.83      0.76     30000\n",
      "\n",
      "Accuracy:  0.8320666666666666\n",
      "Recall:  0.001999200319872051\n",
      "Precision:  0.17857142857142858\n",
      "f1 Score:  0.0039541320680110716\n"
     ]
    }
   ],
   "source": [
    "#predicting model\n",
    "y_pred = model.predict(X_test)\n",
    "from sklearn import metrics\n",
    "cnf_matrix = metrics.confusion_matrix(y_test, y_pred)\n",
    "print(cnf_matrix)\n",
    "metrics.plot_confusion_matrix(model, X_test, y_test)\n",
    "plt.show()\n",
    "print(metrics.classification_report(y_test, y_pred))\n",
    "\n",
    "print(\"Accuracy: \", metrics.accuracy_score(y_test, y_pred))\n",
    "\n",
    "print(\"Recall: \",metrics.recall_score(y_test, y_pred))\n",
    "\n",
    "print(\"Precision: \",metrics.precision_score(y_test, y_pred))\n",
    "\n",
    "print(\"f1 Score: \",metrics.f1_score(y_test, y_pred))"
   ]
  },
  {
   "cell_type": "code",
   "execution_count": 36,
   "id": "d6168240",
   "metadata": {},
   "outputs": [
    {
     "data": {
      "text/plain": [
       "0.6389382602027595"
      ]
     },
     "execution_count": 36,
     "metadata": {},
     "output_type": "execute_result"
    }
   ],
   "source": [
    "from sklearn.metrics import roc_auc_score\n",
    "roc_auc_score(y_test, model.predict_proba(X_test)[:, 1])"
   ]
  },
  {
   "cell_type": "markdown",
   "id": "95f1b2e9",
   "metadata": {},
   "source": [
    "As the data is highly imbalanced with more proportion of 0s. As we can see that our recall and precision are very low. So lets balance the dataset using class_weight parameter in Logistic Regression function."
   ]
  },
  {
   "cell_type": "markdown",
   "id": "794ad33c",
   "metadata": {},
   "source": [
    "### Logistic Regression using class_weight Parameter."
   ]
  },
  {
   "cell_type": "code",
   "execution_count": 37,
   "id": "424b1eb0",
   "metadata": {},
   "outputs": [],
   "source": [
    "# Choosing dimensions for class_weight parameter\n",
    "import numpy as np\n",
    "from sklearn.utils.class_weight import compute_class_weight\n",
    "class_weights = compute_class_weight(class_weight = \"balanced\", classes= np.unique(y), y=y.values.reshape(-1))"
   ]
  },
  {
   "cell_type": "code",
   "execution_count": 38,
   "id": "4279f166",
   "metadata": {},
   "outputs": [
    {
     "data": {
      "text/plain": [
       "array([0.60226575, 2.94461131])"
      ]
     },
     "execution_count": 38,
     "metadata": {},
     "output_type": "execute_result"
    }
   ],
   "source": [
    "class_weights"
   ]
  },
  {
   "cell_type": "code",
   "execution_count": 39,
   "id": "b7b17e5f",
   "metadata": {},
   "outputs": [
    {
     "name": "stderr",
     "output_type": "stream",
     "text": [
      "C:\\Users\\srina\\anaconda3\\lib\\site-packages\\sklearn\\utils\\validation.py:993: DataConversionWarning: A column-vector y was passed when a 1d array was expected. Please change the shape of y to (n_samples, ), for example using ravel().\n",
      "  y = column_or_1d(y, warn=True)\n"
     ]
    },
    {
     "data": {
      "text/plain": [
       "LogisticRegression(class_weight='balanced')"
      ]
     },
     "execution_count": 39,
     "metadata": {},
     "output_type": "execute_result"
    }
   ],
   "source": [
    "model_b = LogisticRegression(class_weight=\"balanced\")\n",
    "\n",
    "# train the model on the data\n",
    "model_b.fit(X_train, y_train)"
   ]
  },
  {
   "cell_type": "code",
   "execution_count": 40,
   "id": "3483b72d",
   "metadata": {},
   "outputs": [
    {
     "name": "stdout",
     "output_type": "stream",
     "text": [
      "[[14639 10359]\n",
      " [ 1967  3035]]\n"
     ]
    },
    {
     "name": "stderr",
     "output_type": "stream",
     "text": [
      "C:\\Users\\srina\\anaconda3\\lib\\site-packages\\sklearn\\utils\\deprecation.py:87: FutureWarning: Function plot_confusion_matrix is deprecated; Function `plot_confusion_matrix` is deprecated in 1.0 and will be removed in 1.2. Use one of the class methods: ConfusionMatrixDisplay.from_predictions or ConfusionMatrixDisplay.from_estimator.\n",
      "  warnings.warn(msg, category=FutureWarning)\n"
     ]
    },
    {
     "data": {
      "image/png": "[encoded data removed]",
      "text/plain": [
       "<Figure size 1440x720 with 2 Axes>"
      ]
     },
     "metadata": {
      "needs_background": "light"
     },
     "output_type": "display_data"
    },
    {
     "name": "stdout",
     "output_type": "stream",
     "text": [
      "              precision    recall  f1-score   support\n",
      "\n",
      "           0       0.88      0.59      0.70     24998\n",
      "           1       0.23      0.61      0.33      5002\n",
      "\n",
      "    accuracy                           0.59     30000\n",
      "   macro avg       0.55      0.60      0.52     30000\n",
      "weighted avg       0.77      0.59      0.64     30000\n",
      "\n",
      "Accuracy:  0.5891333333333333\n",
      "Recall:  0.6067572970811675\n",
      "Precision:  0.22659399731222934\n",
      "f1 Score:  0.32996303544248745\n"
     ]
    }
   ],
   "source": [
    "y_pred_b = model_b.predict(X_test)\n",
    "# Plot and print confusion matrix\n",
    "cnf_matrix = metrics.confusion_matrix(y_test, y_pred_b)\n",
    "print(cnf_matrix)\n",
    "metrics.plot_confusion_matrix(model_b, X_test, y_test)\n",
    "plt.show()\n",
    "print(metrics.classification_report(y_test, y_pred_b))\n",
    "print(\"Accuracy: \", metrics.accuracy_score(y_test, y_pred_b))\n",
    "\n",
    "print(\"Recall: \",metrics.recall_score(y_test, y_pred_b))\n",
    "\n",
    "print(\"Precision: \",metrics.precision_score(y_test, y_pred_b))\n",
    "\n",
    "print(\"f1 Score: \",metrics.f1_score(y_test, y_pred_b))"
   ]
  },
  {
   "cell_type": "code",
   "execution_count": 41,
   "id": "1aaaf929",
   "metadata": {
    "scrolled": true
   },
   "outputs": [
    {
     "name": "stdout",
     "output_type": "stream",
     "text": [
      "ROC AUC Score:  0.6389826460007244\n"
     ]
    }
   ],
   "source": [
    "print(\"ROC AUC Score: \",roc_auc_score(y_test, model_b.predict_proba(X_test)[:, 1]))"
   ]
  },
  {
   "cell_type": "markdown",
   "id": "7c472d59",
   "metadata": {},
   "source": [
    "After balancing the dataset, precision, Recall and F1 score increased but Accuracy decreased.\n",
    "Roc and Auc curve remain the same"
   ]
  },
  {
   "cell_type": "markdown",
   "id": "c1bca2c8",
   "metadata": {},
   "source": [
    "#### Cross Validation for Logistic regression without balancing"
   ]
  },
  {
   "cell_type": "code",
   "execution_count": 42,
   "id": "5eecb538",
   "metadata": {
    "scrolled": true
   },
   "outputs": [
    {
     "name": "stderr",
     "output_type": "stream",
     "text": [
      "C:\\Users\\srina\\anaconda3\\lib\\site-packages\\sklearn\\utils\\validation.py:993: DataConversionWarning: A column-vector y was passed when a 1d array was expected. Please change the shape of y to (n_samples, ), for example using ravel().\n",
      "  y = column_or_1d(y, warn=True)\n",
      "C:\\Users\\srina\\anaconda3\\lib\\site-packages\\sklearn\\utils\\validation.py:993: DataConversionWarning: A column-vector y was passed when a 1d array was expected. Please change the shape of y to (n_samples, ), for example using ravel().\n",
      "  y = column_or_1d(y, warn=True)\n",
      "C:\\Users\\srina\\anaconda3\\lib\\site-packages\\sklearn\\utils\\validation.py:993: DataConversionWarning: A column-vector y was passed when a 1d array was expected. Please change the shape of y to (n_samples, ), for example using ravel().\n",
      "  y = column_or_1d(y, warn=True)\n",
      "C:\\Users\\srina\\anaconda3\\lib\\site-packages\\sklearn\\utils\\validation.py:993: DataConversionWarning: A column-vector y was passed when a 1d array was expected. Please change the shape of y to (n_samples, ), for example using ravel().\n",
      "  y = column_or_1d(y, warn=True)\n",
      "C:\\Users\\srina\\anaconda3\\lib\\site-packages\\sklearn\\utils\\validation.py:993: DataConversionWarning: A column-vector y was passed when a 1d array was expected. Please change the shape of y to (n_samples, ), for example using ravel().\n",
      "  y = column_or_1d(y, warn=True)\n",
      "C:\\Users\\srina\\anaconda3\\lib\\site-packages\\sklearn\\utils\\validation.py:993: DataConversionWarning: A column-vector y was passed when a 1d array was expected. Please change the shape of y to (n_samples, ), for example using ravel().\n",
      "  y = column_or_1d(y, warn=True)\n",
      "C:\\Users\\srina\\anaconda3\\lib\\site-packages\\sklearn\\utils\\validation.py:993: DataConversionWarning: A column-vector y was passed when a 1d array was expected. Please change the shape of y to (n_samples, ), for example using ravel().\n",
      "  y = column_or_1d(y, warn=True)\n",
      "C:\\Users\\srina\\anaconda3\\lib\\site-packages\\sklearn\\utils\\validation.py:993: DataConversionWarning: A column-vector y was passed when a 1d array was expected. Please change the shape of y to (n_samples, ), for example using ravel().\n",
      "  y = column_or_1d(y, warn=True)\n",
      "C:\\Users\\srina\\anaconda3\\lib\\site-packages\\sklearn\\utils\\validation.py:993: DataConversionWarning: A column-vector y was passed when a 1d array was expected. Please change the shape of y to (n_samples, ), for example using ravel().\n",
      "  y = column_or_1d(y, warn=True)\n",
      "C:\\Users\\srina\\anaconda3\\lib\\site-packages\\sklearn\\utils\\validation.py:993: DataConversionWarning: A column-vector y was passed when a 1d array was expected. Please change the shape of y to (n_samples, ), for example using ravel().\n",
      "  y = column_or_1d(y, warn=True)\n",
      "C:\\Users\\srina\\anaconda3\\lib\\site-packages\\sklearn\\utils\\validation.py:993: DataConversionWarning: A column-vector y was passed when a 1d array was expected. Please change the shape of y to (n_samples, ), for example using ravel().\n",
      "  y = column_or_1d(y, warn=True)\n",
      "C:\\Users\\srina\\anaconda3\\lib\\site-packages\\sklearn\\utils\\validation.py:993: DataConversionWarning: A column-vector y was passed when a 1d array was expected. Please change the shape of y to (n_samples, ), for example using ravel().\n",
      "  y = column_or_1d(y, warn=True)\n",
      "C:\\Users\\srina\\anaconda3\\lib\\site-packages\\sklearn\\utils\\validation.py:993: DataConversionWarning: A column-vector y was passed when a 1d array was expected. Please change the shape of y to (n_samples, ), for example using ravel().\n",
      "  y = column_or_1d(y, warn=True)\n",
      "C:\\Users\\srina\\anaconda3\\lib\\site-packages\\sklearn\\utils\\validation.py:993: DataConversionWarning: A column-vector y was passed when a 1d array was expected. Please change the shape of y to (n_samples, ), for example using ravel().\n",
      "  y = column_or_1d(y, warn=True)\n",
      "C:\\Users\\srina\\anaconda3\\lib\\site-packages\\sklearn\\utils\\validation.py:993: DataConversionWarning: A column-vector y was passed when a 1d array was expected. Please change the shape of y to (n_samples, ), for example using ravel().\n",
      "  y = column_or_1d(y, warn=True)\n",
      "C:\\Users\\srina\\anaconda3\\lib\\site-packages\\sklearn\\utils\\validation.py:993: DataConversionWarning: A column-vector y was passed when a 1d array was expected. Please change the shape of y to (n_samples, ), for example using ravel().\n",
      "  y = column_or_1d(y, warn=True)\n",
      "C:\\Users\\srina\\anaconda3\\lib\\site-packages\\sklearn\\utils\\validation.py:993: DataConversionWarning: A column-vector y was passed when a 1d array was expected. Please change the shape of y to (n_samples, ), for example using ravel().\n",
      "  y = column_or_1d(y, warn=True)\n"
     ]
    },
    {
     "name": "stdout",
     "output_type": "stream",
     "text": [
      "Cross validation Recall: [0.8292     0.82731429 0.82685714 0.82821876]\n",
      "Cross validation Precision: [0.72743234 0.71990326 0.72346052 0.70746164]\n",
      "Recall: 0.828 (0.001)\n",
      "Precision: 0.720 (0.007)\n",
      "f1: 0.751 (0.001)\n",
      "Accuracy: 0.828 (0.001)\n"
     ]
    }
   ],
   "source": [
    "from sklearn.model_selection import KFold,cross_val_score\n",
    "from numpy import mean,std\n",
    "k_fold = KFold(n_splits=4, random_state=1, shuffle=True)\n",
    "lr = LogisticRegression()\n",
    "\n",
    "y_pred_lr = lr.fit(X_train, y_train).predict(X_test) \n",
    "  \n",
    "cv_recall = cross_val_score(lr, X_train, y_train, cv = k_fold, scoring = 'recall_weighted')\n",
    "cv_precision = cross_val_score(lr, X_train, y_train, cv = k_fold, scoring = 'precision_weighted')\n",
    "cv_f1 = cross_val_score(lr, X_train, y_train, cv = k_fold, scoring = 'f1_weighted')\n",
    "cv_accuracy = cross_val_score(lr, X_train, y_train, cv = k_fold, scoring = 'accuracy')\n",
    "print(\"Cross validation Recall: %s\" %(cv_recall))\n",
    "print(\"Cross validation Precision: %s\" %(cv_precision))\n",
    "print('Recall: %.3f (%.3f)' % (mean(cv_recall), std(cv_recall)))\n",
    "print('Precision: %.3f (%.3f)' % (mean(cv_precision), std(cv_precision)))\n",
    "print('f1: %.3f (%.3f)' % (mean(cv_f1), std(cv_f1)))\n",
    "print('Accuracy: %.3f (%.3f)' % (mean(cv_accuracy), std(cv_accuracy)))"
   ]
  },
  {
   "cell_type": "markdown",
   "id": "74db5ca9",
   "metadata": {},
   "source": [
    "Performance metrics increased after cross validation"
   ]
  },
  {
   "cell_type": "markdown",
   "id": "8b094f97",
   "metadata": {},
   "source": [
    "#### Cross Validation for Logistic regression with balancing"
   ]
  },
  {
   "cell_type": "code",
   "execution_count": 43,
   "id": "082e54e9",
   "metadata": {},
   "outputs": [
    {
     "name": "stderr",
     "output_type": "stream",
     "text": [
      "C:\\Users\\srina\\anaconda3\\lib\\site-packages\\sklearn\\utils\\validation.py:993: DataConversionWarning: A column-vector y was passed when a 1d array was expected. Please change the shape of y to (n_samples, ), for example using ravel().\n",
      "  y = column_or_1d(y, warn=True)\n",
      "C:\\Users\\srina\\anaconda3\\lib\\site-packages\\sklearn\\utils\\validation.py:993: DataConversionWarning: A column-vector y was passed when a 1d array was expected. Please change the shape of y to (n_samples, ), for example using ravel().\n",
      "  y = column_or_1d(y, warn=True)\n",
      "C:\\Users\\srina\\anaconda3\\lib\\site-packages\\sklearn\\utils\\validation.py:993: DataConversionWarning: A column-vector y was passed when a 1d array was expected. Please change the shape of y to (n_samples, ), for example using ravel().\n",
      "  y = column_or_1d(y, warn=True)\n",
      "C:\\Users\\srina\\anaconda3\\lib\\site-packages\\sklearn\\utils\\validation.py:993: DataConversionWarning: A column-vector y was passed when a 1d array was expected. Please change the shape of y to (n_samples, ), for example using ravel().\n",
      "  y = column_or_1d(y, warn=True)\n",
      "C:\\Users\\srina\\anaconda3\\lib\\site-packages\\sklearn\\utils\\validation.py:993: DataConversionWarning: A column-vector y was passed when a 1d array was expected. Please change the shape of y to (n_samples, ), for example using ravel().\n",
      "  y = column_or_1d(y, warn=True)\n",
      "C:\\Users\\srina\\anaconda3\\lib\\site-packages\\sklearn\\utils\\validation.py:993: DataConversionWarning: A column-vector y was passed when a 1d array was expected. Please change the shape of y to (n_samples, ), for example using ravel().\n",
      "  y = column_or_1d(y, warn=True)\n",
      "C:\\Users\\srina\\anaconda3\\lib\\site-packages\\sklearn\\utils\\validation.py:993: DataConversionWarning: A column-vector y was passed when a 1d array was expected. Please change the shape of y to (n_samples, ), for example using ravel().\n",
      "  y = column_or_1d(y, warn=True)\n",
      "C:\\Users\\srina\\anaconda3\\lib\\site-packages\\sklearn\\utils\\validation.py:993: DataConversionWarning: A column-vector y was passed when a 1d array was expected. Please change the shape of y to (n_samples, ), for example using ravel().\n",
      "  y = column_or_1d(y, warn=True)\n",
      "C:\\Users\\srina\\anaconda3\\lib\\site-packages\\sklearn\\utils\\validation.py:993: DataConversionWarning: A column-vector y was passed when a 1d array was expected. Please change the shape of y to (n_samples, ), for example using ravel().\n",
      "  y = column_or_1d(y, warn=True)\n",
      "C:\\Users\\srina\\anaconda3\\lib\\site-packages\\sklearn\\utils\\validation.py:993: DataConversionWarning: A column-vector y was passed when a 1d array was expected. Please change the shape of y to (n_samples, ), for example using ravel().\n",
      "  y = column_or_1d(y, warn=True)\n",
      "C:\\Users\\srina\\anaconda3\\lib\\site-packages\\sklearn\\utils\\validation.py:993: DataConversionWarning: A column-vector y was passed when a 1d array was expected. Please change the shape of y to (n_samples, ), for example using ravel().\n",
      "  y = column_or_1d(y, warn=True)\n",
      "C:\\Users\\srina\\anaconda3\\lib\\site-packages\\sklearn\\utils\\validation.py:993: DataConversionWarning: A column-vector y was passed when a 1d array was expected. Please change the shape of y to (n_samples, ), for example using ravel().\n",
      "  y = column_or_1d(y, warn=True)\n",
      "C:\\Users\\srina\\anaconda3\\lib\\site-packages\\sklearn\\utils\\validation.py:993: DataConversionWarning: A column-vector y was passed when a 1d array was expected. Please change the shape of y to (n_samples, ), for example using ravel().\n",
      "  y = column_or_1d(y, warn=True)\n",
      "C:\\Users\\srina\\anaconda3\\lib\\site-packages\\sklearn\\utils\\validation.py:993: DataConversionWarning: A column-vector y was passed when a 1d array was expected. Please change the shape of y to (n_samples, ), for example using ravel().\n",
      "  y = column_or_1d(y, warn=True)\n",
      "C:\\Users\\srina\\anaconda3\\lib\\site-packages\\sklearn\\utils\\validation.py:993: DataConversionWarning: A column-vector y was passed when a 1d array was expected. Please change the shape of y to (n_samples, ), for example using ravel().\n",
      "  y = column_or_1d(y, warn=True)\n",
      "C:\\Users\\srina\\anaconda3\\lib\\site-packages\\sklearn\\utils\\validation.py:993: DataConversionWarning: A column-vector y was passed when a 1d array was expected. Please change the shape of y to (n_samples, ), for example using ravel().\n",
      "  y = column_or_1d(y, warn=True)\n",
      "C:\\Users\\srina\\anaconda3\\lib\\site-packages\\sklearn\\utils\\validation.py:993: DataConversionWarning: A column-vector y was passed when a 1d array was expected. Please change the shape of y to (n_samples, ), for example using ravel().\n",
      "  y = column_or_1d(y, warn=True)\n"
     ]
    },
    {
     "name": "stdout",
     "output_type": "stream",
     "text": [
      "Cross validation Recall: [0.59062857 0.59131429 0.58022857 0.58260472]\n",
      "Cross validation Precision: [0.76319026 0.76615022 0.7661082  0.77226081]\n",
      "Recall: 0.586 (0.005)\n",
      "Precision: 0.767 (0.003)\n",
      "f1: 0.637 (0.004)\n",
      "Accuracy: 0.586 (0.005)\n"
     ]
    }
   ],
   "source": [
    "k_fold = KFold(n_splits=4, random_state=1, shuffle=True)\n",
    "lrb = LogisticRegression(class_weight=\"balanced\")\n",
    "\n",
    "y_pred_lrb = lrb.fit(X_train, y_train).predict(X_test) \n",
    "  \n",
    "cv_recall = cross_val_score(lrb, X_train, y_train, cv = k_fold, scoring = 'recall_weighted')\n",
    "cv_precision = cross_val_score(lrb, X_train, y_train, cv = k_fold, scoring = 'precision_weighted')\n",
    "cv_f1 = cross_val_score(lrb, X_train, y_train, cv = k_fold, scoring = 'f1_weighted')\n",
    "cv_accuracy = cross_val_score(lrb, X_train, y_train, cv = k_fold, scoring = 'accuracy')\n",
    "print(\"Cross validation Recall: %s\" %(cv_recall))\n",
    "print(\"Cross validation Precision: %s\" %(cv_precision))\n",
    "print('Recall: %.3f (%.3f)' % (mean(cv_recall), std(cv_recall)))\n",
    "print('Precision: %.3f (%.3f)' % (mean(cv_precision), std(cv_precision)))\n",
    "print('f1: %.3f (%.3f)' % (mean(cv_f1), std(cv_f1)))\n",
    "print('Accuracy: %.3f (%.3f)' % (mean(cv_accuracy), std(cv_accuracy)))"
   ]
  },
  {
   "cell_type": "markdown",
   "id": "67523221",
   "metadata": {},
   "source": [
    "Precision increased after balancing the dataset using cross validation"
   ]
  },
  {
   "cell_type": "markdown",
   "id": "2fb6dbb4",
   "metadata": {},
   "source": [
    "### b. Decision Tree"
   ]
  },
  {
   "cell_type": "markdown",
   "id": "67c757d1",
   "metadata": {},
   "source": [
    "##### Decision Tree is used for prediction and classification problems as our problem statement states we have to predict ctr of ads.\n",
    "\n",
    "a. Decision Tree are easy to understand, interpret, visualize and much better to interpret than logistic regression.\n",
    "b. The data type of decision tree can handle any type of data whether it is numerical or categorical, or boolean.\n",
    "c. Normalization is not required in the Decision Tree.\n",
    "d. The decision tree is one of the machine learning algorithms where we don’t worry about its feature scaling.\n",
    "e. It gives us and a good idea about the relative importance of attributes."
   ]
  },
  {
   "cell_type": "code",
   "execution_count": 44,
   "id": "0cb2e76b",
   "metadata": {},
   "outputs": [
    {
     "name": "stdout",
     "output_type": "stream",
     "text": [
      "Evaluating tree with max_depth = 2\n",
      "Confusion matrix: \n",
      "[[24998     0]\n",
      " [ 5002     0]]\n",
      "Precision: 0.6943333377777778, Recall: 0.8332666666666667\n",
      "              precision    recall  f1-score   support\n",
      "\n",
      "           0       0.83      1.00      0.91     24998\n",
      "           1       0.00      0.00      0.00      5002\n",
      "\n",
      "    accuracy                           0.83     30000\n",
      "   macro avg       0.42      0.50      0.45     30000\n",
      "weighted avg       0.69      0.83      0.76     30000\n",
      "\n",
      "ROC AUC Score:  0.5965007308541501\n",
      "Evaluating tree with max_depth = 3\n"
     ]
    },
    {
     "name": "stderr",
     "output_type": "stream",
     "text": [
      "C:\\Users\\srina\\anaconda3\\lib\\site-packages\\sklearn\\metrics\\_classification.py:1318: UndefinedMetricWarning: Precision is ill-defined and being set to 0.0 in labels with no predicted samples. Use `zero_division` parameter to control this behavior.\n",
      "  _warn_prf(average, modifier, msg_start, len(result))\n",
      "C:\\Users\\srina\\anaconda3\\lib\\site-packages\\sklearn\\metrics\\_classification.py:1318: UndefinedMetricWarning: Precision and F-score are ill-defined and being set to 0.0 in labels with no predicted samples. Use `zero_division` parameter to control this behavior.\n",
      "  _warn_prf(average, modifier, msg_start, len(result))\n",
      "C:\\Users\\srina\\anaconda3\\lib\\site-packages\\sklearn\\metrics\\_classification.py:1318: UndefinedMetricWarning: Precision and F-score are ill-defined and being set to 0.0 in labels with no predicted samples. Use `zero_division` parameter to control this behavior.\n",
      "  _warn_prf(average, modifier, msg_start, len(result))\n",
      "C:\\Users\\srina\\anaconda3\\lib\\site-packages\\sklearn\\metrics\\_classification.py:1318: UndefinedMetricWarning: Precision and F-score are ill-defined and being set to 0.0 in labels with no predicted samples. Use `zero_division` parameter to control this behavior.\n",
      "  _warn_prf(average, modifier, msg_start, len(result))\n"
     ]
    },
    {
     "name": "stdout",
     "output_type": "stream",
     "text": [
      "Confusion matrix: \n",
      "[[24998     0]\n",
      " [ 5002     0]]\n",
      "Precision: 0.6943333377777778, Recall: 0.8332666666666667\n",
      "              precision    recall  f1-score   support\n",
      "\n",
      "           0       0.83      1.00      0.91     24998\n",
      "           1       0.00      0.00      0.00      5002\n",
      "\n",
      "    accuracy                           0.83     30000\n",
      "   macro avg       0.42      0.50      0.45     30000\n",
      "weighted avg       0.69      0.83      0.76     30000\n",
      "\n",
      "ROC AUC Score:  0.6400587136934969\n",
      "Evaluating tree with max_depth = 5\n"
     ]
    },
    {
     "name": "stderr",
     "output_type": "stream",
     "text": [
      "C:\\Users\\srina\\anaconda3\\lib\\site-packages\\sklearn\\metrics\\_classification.py:1318: UndefinedMetricWarning: Precision is ill-defined and being set to 0.0 in labels with no predicted samples. Use `zero_division` parameter to control this behavior.\n",
      "  _warn_prf(average, modifier, msg_start, len(result))\n",
      "C:\\Users\\srina\\anaconda3\\lib\\site-packages\\sklearn\\metrics\\_classification.py:1318: UndefinedMetricWarning: Precision and F-score are ill-defined and being set to 0.0 in labels with no predicted samples. Use `zero_division` parameter to control this behavior.\n",
      "  _warn_prf(average, modifier, msg_start, len(result))\n",
      "C:\\Users\\srina\\anaconda3\\lib\\site-packages\\sklearn\\metrics\\_classification.py:1318: UndefinedMetricWarning: Precision and F-score are ill-defined and being set to 0.0 in labels with no predicted samples. Use `zero_division` parameter to control this behavior.\n",
      "  _warn_prf(average, modifier, msg_start, len(result))\n",
      "C:\\Users\\srina\\anaconda3\\lib\\site-packages\\sklearn\\metrics\\_classification.py:1318: UndefinedMetricWarning: Precision and F-score are ill-defined and being set to 0.0 in labels with no predicted samples. Use `zero_division` parameter to control this behavior.\n",
      "  _warn_prf(average, modifier, msg_start, len(result))\n"
     ]
    },
    {
     "name": "stdout",
     "output_type": "stream",
     "text": [
      "Confusion matrix: \n",
      "[[24662   336]\n",
      " [ 4678   324]]\n",
      "Precision: 0.7822606750531903, Recall: 0.8328666666666666\n",
      "              precision    recall  f1-score   support\n",
      "\n",
      "           0       0.84      0.99      0.91     24998\n",
      "           1       0.49      0.06      0.11      5002\n",
      "\n",
      "    accuracy                           0.83     30000\n",
      "   macro avg       0.67      0.53      0.51     30000\n",
      "weighted avg       0.78      0.83      0.78     30000\n",
      "\n",
      "ROC AUC Score:  0.6746367698220336\n",
      "Evaluating tree with max_depth = 10\n",
      "Confusion matrix: \n",
      "[[24490   508]\n",
      " [ 4577   425]]\n",
      "Precision: 0.7780076781989174, Recall: 0.8305\n",
      "              precision    recall  f1-score   support\n",
      "\n",
      "           0       0.84      0.98      0.91     24998\n",
      "           1       0.46      0.08      0.14      5002\n",
      "\n",
      "    accuracy                           0.83     30000\n",
      "   macro avg       0.65      0.53      0.52     30000\n",
      "weighted avg       0.78      0.83      0.78     30000\n",
      "\n",
      "ROC AUC Score:  0.6937725189946422\n",
      "Evaluating tree with max_depth = 15\n",
      "Confusion matrix: \n",
      "[[23876  1122]\n",
      " [ 4436   566]]\n",
      "Precision: 0.7586152432587101, Recall: 0.8147333333333333\n",
      "              precision    recall  f1-score   support\n",
      "\n",
      "           0       0.84      0.96      0.90     24998\n",
      "           1       0.34      0.11      0.17      5002\n",
      "\n",
      "    accuracy                           0.81     30000\n",
      "   macro avg       0.59      0.53      0.53     30000\n",
      "weighted avg       0.76      0.81      0.77     30000\n",
      "\n",
      "ROC AUC Score:  0.6469866329810183\n",
      "Evaluating tree with max_depth = 20\n",
      "Confusion matrix: \n",
      "[[22734  2264]\n",
      " [ 4091   911]]\n",
      "Precision: 0.754028326594311, Recall: 0.7881666666666667\n",
      "              precision    recall  f1-score   support\n",
      "\n",
      "           0       0.85      0.91      0.88     24998\n",
      "           1       0.29      0.18      0.22      5002\n",
      "\n",
      "    accuracy                           0.79     30000\n",
      "   macro avg       0.57      0.55      0.55     30000\n",
      "weighted avg       0.75      0.79      0.77     30000\n",
      "\n",
      "ROC AUC Score:  0.6014005910556812\n"
     ]
    }
   ],
   "source": [
    "from sklearn.tree import DecisionTreeClassifier\n",
    "# looping through max_depth values\n",
    "for max_depth_val in [2, 3, 5, 10, 15, 20]:\n",
    "    clf = DecisionTreeClassifier(max_depth = max_depth_val)\n",
    "    print(\"Evaluating tree with max_depth = %s\" %(max_depth_val))\n",
    "    y_pred_dt = clf.fit(X_train,y_train).predict(X_test) \n",
    "    print(\"Confusion matrix: \")\n",
    "    print(metrics.confusion_matrix(y_test, y_pred_dt))\n",
    "    prec = metrics.precision_score(y_test, y_pred_dt, average = 'weighted')\n",
    "    recall = metrics.recall_score(y_test, y_pred_dt, average = 'weighted')\n",
    "    \n",
    "    print(\"Precision: %s, Recall: %s\" %(prec, recall))\n",
    "    print(metrics.classification_report(y_test, y_pred_dt))\n",
    "    print(\"ROC AUC Score: \",roc_auc_score(y_test, clf.predict_proba(X_test)[:, 1]))"
   ]
  },
  {
   "cell_type": "markdown",
   "id": "d30d8f92",
   "metadata": {},
   "source": [
    "As we can see that for max_depth 10 we have precision of 0.77 and recall of 0.83 and f1 score of 0.78.\n",
    "ROC AUC Score is 0.69 and it has comparitively high values compared to all other max_depth parameters used.\n"
   ]
  },
  {
   "cell_type": "markdown",
   "id": "acfb3c55",
   "metadata": {},
   "source": [
    "### Decision Tree using class_weight Parameter."
   ]
  },
  {
   "cell_type": "code",
   "execution_count": 45,
   "id": "1eeffcfe",
   "metadata": {},
   "outputs": [
    {
     "name": "stdout",
     "output_type": "stream",
     "text": [
      "Evaluating tree with max_depth = 2\n",
      "Confusion matrix: \n",
      "[[17134  7864]\n",
      " [ 2564  2438]]\n",
      "Precision: 0.7642620515542801, Recall: 0.6524\n",
      "              precision    recall  f1-score   support\n",
      "\n",
      "           0       0.87      0.69      0.77     24998\n",
      "           1       0.24      0.49      0.32      5002\n",
      "\n",
      "    accuracy                           0.65     30000\n",
      "   macro avg       0.55      0.59      0.54     30000\n",
      "weighted avg       0.76      0.65      0.69     30000\n",
      "\n",
      "ROC AUC Score:  0.6254016274920546\n",
      "Evaluating tree with max_depth = 3\n",
      "Confusion matrix: \n",
      "[[11400 13598]\n",
      " [ 1241  3761]]\n",
      "Precision: 0.7875871357069939, Recall: 0.5053666666666666\n",
      "              precision    recall  f1-score   support\n",
      "\n",
      "           0       0.90      0.46      0.61     24998\n",
      "           1       0.22      0.75      0.34      5002\n",
      "\n",
      "    accuracy                           0.51     30000\n",
      "   macro avg       0.56      0.60      0.47     30000\n",
      "weighted avg       0.79      0.51      0.56     30000\n",
      "\n",
      "ROC AUC Score:  0.6430732331437374\n",
      "Evaluating tree with max_depth = 5\n",
      "Confusion matrix: \n",
      "[[13581 11417]\n",
      " [ 1475  3527]]\n",
      "Precision: 0.790985018069111, Recall: 0.5702666666666667\n",
      "              precision    recall  f1-score   support\n",
      "\n",
      "           0       0.90      0.54      0.68     24998\n",
      "           1       0.24      0.71      0.35      5002\n",
      "\n",
      "    accuracy                           0.57     30000\n",
      "   macro avg       0.57      0.62      0.52     30000\n",
      "weighted avg       0.79      0.57      0.62     30000\n",
      "\n",
      "ROC AUC Score:  0.6760397289200168\n",
      "Evaluating tree with max_depth = 10\n",
      "Confusion matrix: \n",
      "[[14240 10758]\n",
      " [ 1375  3627]]\n",
      "Precision: 0.8019319901064801, Recall: 0.5955666666666667\n",
      "              precision    recall  f1-score   support\n",
      "\n",
      "           0       0.91      0.57      0.70     24998\n",
      "           1       0.25      0.73      0.37      5002\n",
      "\n",
      "    accuracy                           0.60     30000\n",
      "   macro avg       0.58      0.65      0.54     30000\n",
      "weighted avg       0.80      0.60      0.65     30000\n",
      "\n",
      "ROC AUC Score:  0.6970028893794911\n",
      "Evaluating tree with max_depth = 15\n",
      "Confusion matrix: \n",
      "[[15832  9166]\n",
      " [ 1806  3196]]\n",
      "Precision: 0.7910526301502122, Recall: 0.6342666666666666\n",
      "              precision    recall  f1-score   support\n",
      "\n",
      "           0       0.90      0.63      0.74     24998\n",
      "           1       0.26      0.64      0.37      5002\n",
      "\n",
      "    accuracy                           0.63     30000\n",
      "   macro avg       0.58      0.64      0.56     30000\n",
      "weighted avg       0.79      0.63      0.68     30000\n",
      "\n",
      "ROC AUC Score:  0.6606051994755342\n",
      "Evaluating tree with max_depth = 20\n",
      "Confusion matrix: \n",
      "[[17247  7751]\n",
      " [ 2323  2679]]\n",
      "Precision: 0.7771824955037623, Recall: 0.6642\n",
      "              precision    recall  f1-score   support\n",
      "\n",
      "           0       0.88      0.69      0.77     24998\n",
      "           1       0.26      0.54      0.35      5002\n",
      "\n",
      "    accuracy                           0.66     30000\n",
      "   macro avg       0.57      0.61      0.56     30000\n",
      "weighted avg       0.78      0.66      0.70     30000\n",
      "\n",
      "ROC AUC Score:  0.6189954372679282\n"
     ]
    }
   ],
   "source": [
    "for max_depth_val in [2, 3, 5, 10, 15, 20]:\n",
    "    clfb = DecisionTreeClassifier(max_depth = max_depth_val,class_weight=\"balanced\")\n",
    "    print(\"Evaluating tree with max_depth = %s\" %(max_depth_val))\n",
    "    y_pred_dtb = clfb.fit(X_train,y_train).predict(X_test) \n",
    "    print(\"Confusion matrix: \")\n",
    "    print(metrics.confusion_matrix(y_test, y_pred_dtb))\n",
    "    prec = metrics.precision_score(y_test, y_pred_dtb, average = 'weighted')\n",
    "    recall = metrics.recall_score(y_test, y_pred_dtb, average = 'weighted')\n",
    "    print(\"Precision: %s, Recall: %s\" %(prec, recall))\n",
    "    print(metrics.classification_report(y_test, y_pred_dtb))\n",
    "    print(\"ROC AUC Score: \",roc_auc_score(y_test, clfb.predict_proba(X_test)[:, 1]))"
   ]
  },
  {
   "cell_type": "markdown",
   "id": "157bfc43",
   "metadata": {},
   "source": [
    "Precision and ROC AUC Curve has increased while recall and accuracy has decreased for max_depth 10"
   ]
  },
  {
   "cell_type": "markdown",
   "id": "4fe1c0a0",
   "metadata": {},
   "source": [
    "So we can say that Decision tree gives good performance metrics for max_depth at 10 when it is balanced and imbalanced"
   ]
  },
  {
   "cell_type": "code",
   "execution_count": 46,
   "id": "2553d3da",
   "metadata": {},
   "outputs": [
    {
     "name": "stdout",
     "output_type": "stream",
     "text": [
      "[[14243 10755]\n",
      " [ 1379  3623]]\n"
     ]
    },
    {
     "name": "stderr",
     "output_type": "stream",
     "text": [
      "C:\\Users\\srina\\anaconda3\\lib\\site-packages\\sklearn\\utils\\deprecation.py:87: FutureWarning: Function plot_confusion_matrix is deprecated; Function `plot_confusion_matrix` is deprecated in 1.0 and will be removed in 1.2. Use one of the class methods: ConfusionMatrixDisplay.from_predictions or ConfusionMatrixDisplay.from_estimator.\n",
      "  warnings.warn(msg, category=FutureWarning)\n"
     ]
    },
    {
     "data": {
      "image/png": "[encoded data removed]",
      "text/plain": [
       "<Figure size 1440x720 with 2 Axes>"
      ]
     },
     "metadata": {
      "needs_background": "light"
     },
     "output_type": "display_data"
    },
    {
     "name": "stdout",
     "output_type": "stream",
     "text": [
      "              precision    recall  f1-score   support\n",
      "\n",
      "           0       0.91      0.57      0.70     24998\n",
      "           1       0.25      0.72      0.37      5002\n",
      "\n",
      "    accuracy                           0.60     30000\n",
      "   macro avg       0.58      0.65      0.54     30000\n",
      "weighted avg       0.80      0.60      0.65     30000\n",
      "\n",
      "Accuracy:  0.5955333333333334\n",
      "Precision: 0.801725592507845, Recall: 0.5955333333333334\n",
      "f1 Score:  0.646693406807487\n",
      "ROC AUC Score:  0.6963732988283206\n"
     ]
    }
   ],
   "source": [
    "# prdicting when max_depth is 10\n",
    "clfb = DecisionTreeClassifier(max_depth = 10,class_weight={0: 0.6, 1: 2.9})\n",
    "y_pred_dtb = clfb.fit(X_train,y_train).predict(X_test)\n",
    "cnf_matrix = metrics.confusion_matrix(y_test, y_pred_dtb)\n",
    "print(cnf_matrix)\n",
    "metrics.plot_confusion_matrix(clfb, X_test, y_test)\n",
    "plt.show()\n",
    "print(metrics.classification_report(y_test, y_pred_dtb))\n",
    "print(\"Accuracy: \", metrics.accuracy_score(y_test, y_pred_dtb))\n",
    "\n",
    "prec = metrics.precision_score(y_test, y_pred_dtb, average = 'weighted')\n",
    "recall = metrics.recall_score(y_test, y_pred_dtb, average = 'weighted')\n",
    "print(\"Precision: %s, Recall: %s\" %(prec, recall))\n",
    "print(\"f1 Score: \",metrics.f1_score(y_test, y_pred_dtb,average = 'weighted'))\n",
    "print(\"ROC AUC Score: \",roc_auc_score(y_test, clfb.predict_proba(X_test)[:, 1]))"
   ]
  },
  {
   "cell_type": "markdown",
   "id": "ae749082",
   "metadata": {},
   "source": [
    "#### Decision Tree Cross Validation"
   ]
  },
  {
   "cell_type": "code",
   "execution_count": 47,
   "id": "88c0588b",
   "metadata": {},
   "outputs": [
    {
     "name": "stdout",
     "output_type": "stream",
     "text": [
      "Evaluating Decision Tree for max_depth = 3\n"
     ]
    },
    {
     "name": "stderr",
     "output_type": "stream",
     "text": [
      "C:\\Users\\srina\\anaconda3\\lib\\site-packages\\sklearn\\metrics\\_classification.py:1318: UndefinedMetricWarning: Precision is ill-defined and being set to 0.0 in labels with no predicted samples. Use `zero_division` parameter to control this behavior.\n",
      "  _warn_prf(average, modifier, msg_start, len(result))\n",
      "C:\\Users\\srina\\anaconda3\\lib\\site-packages\\sklearn\\metrics\\_classification.py:1318: UndefinedMetricWarning: Precision is ill-defined and being set to 0.0 in labels with no predicted samples. Use `zero_division` parameter to control this behavior.\n",
      "  _warn_prf(average, modifier, msg_start, len(result))\n",
      "C:\\Users\\srina\\anaconda3\\lib\\site-packages\\sklearn\\metrics\\_classification.py:1318: UndefinedMetricWarning: Precision is ill-defined and being set to 0.0 in labels with no predicted samples. Use `zero_division` parameter to control this behavior.\n",
      "  _warn_prf(average, modifier, msg_start, len(result))\n",
      "C:\\Users\\srina\\anaconda3\\lib\\site-packages\\sklearn\\metrics\\_classification.py:1318: UndefinedMetricWarning: Precision is ill-defined and being set to 0.0 in labels with no predicted samples. Use `zero_division` parameter to control this behavior.\n",
      "  _warn_prf(average, modifier, msg_start, len(result))\n"
     ]
    },
    {
     "name": "stdout",
     "output_type": "stream",
     "text": [
      "Cross validation Recall: [0.82988571 0.82857143 0.82771429 0.82936168]\n",
      "Cross validation Precision: [0.6887103  0.68653061 0.68511094 0.68784079]\n",
      "Recall: 0.829 (0.001)\n",
      "Precision: 0.687 (0.001)\n",
      "f1: 0.751 (0.001)\n",
      "Accuracy: 0.829 (0.001)\n",
      "Evaluating Decision Tree for max_depth = 5\n",
      "Cross validation Recall: [0.8296     0.82971429 0.82828571 0.8327333 ]\n",
      "Cross validation Precision: [0.77869995 0.78118575 0.77949213 0.79348091]\n",
      "Recall: 0.830 (0.002)\n",
      "Precision: 0.783 (0.006)\n",
      "f1: 0.770 (0.003)\n",
      "Accuracy: 0.830 (0.002)\n",
      "Evaluating Decision Tree for max_depth = 10\n",
      "Cross validation Recall: [0.8252     0.82594286 0.82457143 0.82879022]\n",
      "Cross validation Precision: [0.77043532 0.77412251 0.7677986  0.78107197]\n",
      "Recall: 0.826 (0.002)\n",
      "Precision: 0.773 (0.005)\n",
      "f1: 0.773 (0.003)\n",
      "Accuracy: 0.826 (0.002)\n",
      "Evaluating Decision Tree for max_depth = 15\n",
      "Cross validation Recall: [0.80542857 0.80942857 0.80634286 0.80953197]\n",
      "Cross validation Precision: [0.74961994 0.75341531 0.75081372 0.75652237]\n",
      "Recall: 0.808 (0.002)\n",
      "Precision: 0.753 (0.003)\n",
      "f1: 0.769 (0.002)\n",
      "Accuracy: 0.808 (0.002)\n",
      "Evaluating Decision Tree for max_depth = 20\n",
      "Cross validation Recall: [0.77708571 0.78297143 0.78211429 0.78295903]\n",
      "Cross validation Precision: [0.74491717 0.74464186 0.74598005 0.74814105]\n",
      "Recall: 0.781 (0.002)\n",
      "Precision: 0.746 (0.001)\n",
      "f1: 0.761 (0.001)\n",
      "Accuracy: 0.781 (0.002)\n"
     ]
    }
   ],
   "source": [
    "from sklearn.model_selection import KFold,cross_val_score\n",
    "from numpy import mean\n",
    "from numpy import std\n",
    "for max_depth_val in [3, 5, 10,15,20]:\n",
    "    k_fold = KFold(n_splits=4, random_state=1, shuffle=True)\n",
    "    clf = DecisionTreeClassifier(max_depth = max_depth_val)\n",
    "    print(\"Evaluating Decision Tree for max_depth = %s\" %(max_depth_val))\n",
    "    y_pred_dtk = clf.fit(X_train, y_train).predict(X_test) \n",
    "  \n",
    "    cv_recall = cross_val_score(clf, X_train, y_train, cv = k_fold, scoring = 'recall_weighted')\n",
    "    cv_precision = cross_val_score(clf, X_train, y_train, cv = k_fold, scoring = 'precision_weighted')\n",
    "    cv_f1 = cross_val_score(clf, X_train, y_train, cv = k_fold, scoring = 'f1_weighted')\n",
    "    cv_accuracy = cross_val_score(clf, X_train, y_train, cv = k_fold, scoring = 'accuracy')\n",
    "    print(\"Cross validation Recall: %s\" %(cv_recall))\n",
    "    print(\"Cross validation Precision: %s\" %(cv_precision))\n",
    "    print('Recall: %.3f (%.3f)' % (mean(cv_recall), std(cv_recall)))\n",
    "    print('Precision: %.3f (%.3f)' % (mean(cv_precision), std(cv_precision)))\n",
    "    print('f1: %.3f (%.3f)' % (mean(cv_f1), std(cv_f1)))\n",
    "    print('Accuracy: %.3f (%.3f)' % (mean(cv_accuracy), std(cv_accuracy)))"
   ]
  },
  {
   "cell_type": "markdown",
   "id": "0adfbd3e",
   "metadata": {},
   "source": [
    "As we can see that using cross validation for decision tree we can say that at max_depth 5 we have high precision, recall and f1"
   ]
  },
  {
   "cell_type": "markdown",
   "id": "83cf03a7",
   "metadata": {},
   "source": [
    "#### Decision Tree Cross Validation with balancing"
   ]
  },
  {
   "cell_type": "code",
   "execution_count": 48,
   "id": "635fa689",
   "metadata": {},
   "outputs": [
    {
     "name": "stdout",
     "output_type": "stream",
     "text": [
      "Evaluating Decision Tree for max_depth = 3\n",
      "Cross validation Recall: [0.49845714 0.50811429 0.50177143 0.50271444]\n",
      "Cross validation Precision: [0.78043365 0.7807947  0.7781248  0.78423559]\n",
      "Recall: 0.503 (0.003)\n",
      "Precision: 0.781 (0.002)\n",
      "f1: 0.556 (0.003)\n",
      "Accuracy: 0.503 (0.003)\n",
      "Evaluating Decision Tree for max_depth = 5\n",
      "Cross validation Recall: [0.55108571 0.58377143 0.57685714 0.56231785]\n",
      "Cross validation Precision: [0.78824114 0.78537955 0.78182382 0.78629786]\n",
      "Recall: 0.569 (0.013)\n",
      "Precision: 0.785 (0.002)\n",
      "f1: 0.621 (0.012)\n",
      "Accuracy: 0.569 (0.013)\n",
      "Evaluating Decision Tree for max_depth = 10\n",
      "Cross validation Recall: [0.6144     0.6156     0.6456     0.57797588]\n",
      "Cross validation Precision: [0.78927118 0.79208155 0.78814336 0.79277749]\n",
      "Recall: 0.613 (0.024)\n",
      "Precision: 0.791 (0.002)\n",
      "f1: 0.661 (0.021)\n",
      "Accuracy: 0.613 (0.024)\n",
      "Evaluating Decision Tree for max_depth = 15\n",
      "Cross validation Recall: [0.61274286 0.61714286 0.61662857 0.62575004]\n",
      "Cross validation Precision: [0.77948296 0.78111048 0.77490985 0.77901215]\n",
      "Recall: 0.618 (0.005)\n",
      "Precision: 0.779 (0.002)\n",
      "f1: 0.665 (0.004)\n",
      "Accuracy: 0.619 (0.004)\n",
      "Evaluating Decision Tree for max_depth = 20\n",
      "Cross validation Recall: [0.65805714 0.65782857 0.6616     0.64803703]\n",
      "Cross validation Precision: [0.76342924 0.76578172 0.75961373 0.76135148]\n",
      "Recall: 0.656 (0.005)\n",
      "Precision: 0.763 (0.002)\n",
      "f1: 0.694 (0.004)\n",
      "Accuracy: 0.656 (0.005)\n"
     ]
    }
   ],
   "source": [
    "for max_depth_val in [3, 5, 10,15,20]:\n",
    "    k_fold = KFold(n_splits=4, random_state=1, shuffle=True)\n",
    "    clf = DecisionTreeClassifier(max_depth = max_depth_val,class_weight=\"balanced\")\n",
    "    print(\"Evaluating Decision Tree for max_depth = %s\" %(max_depth_val))\n",
    "    y_pred_dtk = clf.fit(X_train, y_train).predict(X_test) \n",
    "  \n",
    "    cv_recall = cross_val_score(clf, X_train, y_train, cv = k_fold, scoring = 'recall_weighted')\n",
    "    cv_precision = cross_val_score(clf, X_train, y_train, cv = k_fold, scoring = 'precision_weighted')\n",
    "    cv_f1 = cross_val_score(clf, X_train, y_train, cv = k_fold, scoring = 'f1_weighted')\n",
    "    cv_accuracy = cross_val_score(clf, X_train, y_train, cv = k_fold, scoring = 'accuracy')\n",
    "    print(\"Cross validation Recall: %s\" %(cv_recall))\n",
    "    print(\"Cross validation Precision: %s\" %(cv_precision))\n",
    "    print('Recall: %.3f (%.3f)' % (mean(cv_recall), std(cv_recall)))\n",
    "    print('Precision: %.3f (%.3f)' % (mean(cv_precision), std(cv_precision)))\n",
    "    print('f1: %.3f (%.3f)' % (mean(cv_f1), std(cv_f1)))\n",
    "    print('Accuracy: %.3f (%.3f)' % (mean(cv_accuracy), std(cv_accuracy)))"
   ]
  },
  {
   "cell_type": "markdown",
   "id": "c76a6799",
   "metadata": {},
   "source": [
    "We have high precision at max_depth 10, high recall at max_depth 20 and high f1 at max_depth 20"
   ]
  },
  {
   "cell_type": "markdown",
   "id": "7b672b0a",
   "metadata": {},
   "source": [
    "### c. Random Forest"
   ]
  },
  {
   "cell_type": "markdown",
   "id": "198295ae",
   "metadata": {},
   "source": [
    "#### Reason for choosing Logistic Regression\n",
    "\n",
    "##### Random Forest is used for prediction and classification problems as our problem statement states we have to predict ctr of ads.\n",
    "\n",
    "a. A classification algorithm consisting of many decision trees combined to get a more accurate result as compared to a single tree.\n",
    "b. Random forest algorithm avoids and prevents overfitting by using multiple trees.\n",
    "c. This gives accurate and precise results."
   ]
  },
  {
   "cell_type": "code",
   "execution_count": 49,
   "id": "c7b8fb0b",
   "metadata": {},
   "outputs": [
    {
     "name": "stdout",
     "output_type": "stream",
     "text": [
      "Fitting 5 folds for each of 10 candidates, totalling 50 fits\n"
     ]
    },
    {
     "name": "stderr",
     "output_type": "stream",
     "text": [
      "C:\\Users\\srina\\anaconda3\\lib\\site-packages\\sklearn\\model_selection\\_search.py:926: DataConversionWarning: A column-vector y was passed when a 1d array was expected. Please change the shape of y to (n_samples,), for example using ravel().\n",
      "  self.best_estimator_.fit(X, y, **fit_params)\n"
     ]
    }
   ],
   "source": [
    "from sklearn.ensemble import RandomForestClassifier\n",
    "from sklearn.model_selection import RandomizedSearchCV\n",
    "# deciding best parameters for random forest using randomized search cv\n",
    "param_grid = {\n",
    "    'bootstrap': [True],\n",
    "    'max_depth': [10], \n",
    "    'n_estimators':[2,5,10,20,50],\n",
    "    'min_samples_split': [2, 3, 4],\n",
    "    'max_features' : ['log2']\n",
    "}\n",
    "\n",
    "rf = RandomForestClassifier(random_state=42)\n",
    "\n",
    "rf_search = RandomizedSearchCV(estimator = rf, param_distributions=param_grid, \n",
    "                          cv = 5, n_jobs = -1, verbose = 2, n_iter = 10)\n",
    "\n",
    "model_search = rf_search.fit(X_train,y_train)"
   ]
  },
  {
   "cell_type": "code",
   "execution_count": 50,
   "id": "c3123760",
   "metadata": {},
   "outputs": [
    {
     "data": {
      "text/plain": [
       "{'n_estimators': 50,\n",
       " 'min_samples_split': 3,\n",
       " 'max_features': 'log2',\n",
       " 'max_depth': 10,\n",
       " 'bootstrap': True}"
      ]
     },
     "execution_count": 50,
     "metadata": {},
     "output_type": "execute_result"
    }
   ],
   "source": [
    "rf_search.best_params_"
   ]
  },
  {
   "cell_type": "markdown",
   "id": "a8d0fdb1",
   "metadata": {},
   "source": [
    "Above are best parameters for Random forest "
   ]
  },
  {
   "cell_type": "code",
   "execution_count": 51,
   "id": "7f51867f",
   "metadata": {},
   "outputs": [
    {
     "name": "stderr",
     "output_type": "stream",
     "text": [
      "C:\\Users\\srina\\AppData\\Local\\Temp\\ipykernel_2640\\2076870096.py:7: DataConversionWarning: A column-vector y was passed when a 1d array was expected. Please change the shape of y to (n_samples,), for example using ravel().\n",
      "  clf_rf.fit(X_train,y_train)\n"
     ]
    },
    {
     "data": {
      "text/plain": [
       "RandomForestClassifier(max_depth=10, max_features='log2', min_samples_split=3,\n",
       "                       n_estimators=50, random_state=42)"
      ]
     },
     "execution_count": 51,
     "metadata": {},
     "output_type": "execute_result"
    }
   ],
   "source": [
    "clf_rf = RandomForestClassifier(n_estimators= 50,\n",
    "min_samples_split= 3,\n",
    "max_features= 'log2',\n",
    "max_depth= 10,\n",
    "bootstrap= True,\n",
    "random_state=42)\n",
    "clf_rf.fit(X_train,y_train)"
   ]
  },
  {
   "cell_type": "code",
   "execution_count": 52,
   "id": "e3b63f22",
   "metadata": {},
   "outputs": [
    {
     "name": "stdout",
     "output_type": "stream",
     "text": [
      "[[24799   199]\n",
      " [ 4750   252]]\n",
      "              precision    recall  f1-score   support\n",
      "\n",
      "           0       0.84      0.99      0.91     24998\n",
      "           1       0.56      0.05      0.09      5002\n",
      "\n",
      "    accuracy                           0.84     30000\n",
      "   macro avg       0.70      0.52      0.50     30000\n",
      "weighted avg       0.79      0.84      0.77     30000\n",
      "\n"
     ]
    },
    {
     "name": "stderr",
     "output_type": "stream",
     "text": [
      "C:\\Users\\srina\\anaconda3\\lib\\site-packages\\sklearn\\utils\\deprecation.py:87: FutureWarning: Function plot_confusion_matrix is deprecated; Function `plot_confusion_matrix` is deprecated in 1.0 and will be removed in 1.2. Use one of the class methods: ConfusionMatrixDisplay.from_predictions or ConfusionMatrixDisplay.from_estimator.\n",
      "  warnings.warn(msg, category=FutureWarning)\n"
     ]
    },
    {
     "data": {
      "image/png": "[encoded data removed]",
      "text/plain": [
       "<Figure size 1440x720 with 2 Axes>"
      ]
     },
     "metadata": {
      "needs_background": "light"
     },
     "output_type": "display_data"
    },
    {
     "name": "stdout",
     "output_type": "stream",
     "text": [
      "Accuracy:  0.8350333333333333\n",
      "Precision: 0.7924827357127402, Recall: 0.8350333333333333\n",
      "f1 Score:  0.7730756615814013\n",
      "ROC AUC Score:  0.7185575805680608\n"
     ]
    }
   ],
   "source": [
    "y_test_pred_rf = clf_rf.predict(X_test)\n",
    "\n",
    "print(metrics.confusion_matrix(y_test, y_test_pred_rf))\n",
    "print(metrics.classification_report(y_test, y_test_pred_rf))\n",
    "metrics.plot_confusion_matrix(clfb, X_test, y_test_pred_rf)\n",
    "plt.show()\n",
    "print(\"Accuracy: \", metrics.accuracy_score(y_test, y_test_pred_rf))\n",
    "\n",
    "prec = metrics.precision_score(y_test, y_test_pred_rf, average = 'weighted')\n",
    "recall = metrics.recall_score(y_test, y_test_pred_rf, average = 'weighted')\n",
    "print(\"Precision: %s, Recall: %s\" %(prec, recall))\n",
    "print(\"f1 Score: \",metrics.f1_score(y_test, y_test_pred_rf,average = 'weighted'))\n",
    "print(\"ROC AUC Score: \",roc_auc_score(y_test, clf_rf.predict_proba(X_test)[:, 1]))"
   ]
  },
  {
   "cell_type": "markdown",
   "id": "6195cd35",
   "metadata": {},
   "source": [
    "#### Random Forest Classifier using class_weight parameter"
   ]
  },
  {
   "cell_type": "code",
   "execution_count": 53,
   "id": "3b9807f4",
   "metadata": {},
   "outputs": [
    {
     "name": "stderr",
     "output_type": "stream",
     "text": [
      "C:\\Users\\srina\\AppData\\Local\\Temp\\ipykernel_2640\\2109324472.py:7: DataConversionWarning: A column-vector y was passed when a 1d array was expected. Please change the shape of y to (n_samples,), for example using ravel().\n",
      "  clf_rfb.fit(X_train,y_train)\n"
     ]
    },
    {
     "data": {
      "text/plain": [
       "RandomForestClassifier(class_weight='balanced', max_depth=10,\n",
       "                       max_features='log2', min_samples_split=3,\n",
       "                       n_estimators=50, random_state=42)"
      ]
     },
     "execution_count": 53,
     "metadata": {},
     "output_type": "execute_result"
    }
   ],
   "source": [
    "clf_rfb = RandomForestClassifier(n_estimators= 50,\n",
    "min_samples_split= 3,\n",
    "max_features= 'log2',\n",
    "max_depth= 10,\n",
    "bootstrap= True,\n",
    "random_state=42,class_weight=\"balanced\")\n",
    "clf_rfb.fit(X_train,y_train)"
   ]
  },
  {
   "cell_type": "code",
   "execution_count": 54,
   "id": "accf4ef6",
   "metadata": {
    "scrolled": true
   },
   "outputs": [
    {
     "name": "stdout",
     "output_type": "stream",
     "text": [
      "[[16945  8053]\n",
      " [ 1779  3223]]\n",
      "              precision    recall  f1-score   support\n",
      "\n",
      "           0       0.90      0.68      0.78     24998\n",
      "           1       0.29      0.64      0.40      5002\n",
      "\n",
      "    accuracy                           0.67     30000\n",
      "   macro avg       0.60      0.66      0.59     30000\n",
      "weighted avg       0.80      0.67      0.71     30000\n",
      "\n"
     ]
    },
    {
     "name": "stderr",
     "output_type": "stream",
     "text": [
      "C:\\Users\\srina\\anaconda3\\lib\\site-packages\\sklearn\\utils\\deprecation.py:87: FutureWarning: Function plot_confusion_matrix is deprecated; Function `plot_confusion_matrix` is deprecated in 1.0 and will be removed in 1.2. Use one of the class methods: ConfusionMatrixDisplay.from_predictions or ConfusionMatrixDisplay.from_estimator.\n",
      "  warnings.warn(msg, category=FutureWarning)\n"
     ]
    },
    {
     "data": {
      "image/png": "[encoded data removed]",
      "text/plain": [
       "<Figure size 1440x720 with 2 Axes>"
      ]
     },
     "metadata": {
      "needs_background": "light"
     },
     "output_type": "display_data"
    },
    {
     "name": "stdout",
     "output_type": "stream",
     "text": [
      "Accuracy:  0.6722666666666667\n",
      "Precision: 0.8017536493004801, Recall: 0.6722666666666667\n",
      "f1 Score:  0.7119110329890438\n",
      "ROC AUC Score:  0.7183852397116199\n"
     ]
    }
   ],
   "source": [
    "y_test_pred_rfb = clf_rfb.predict(X_test)\n",
    "\n",
    "print(metrics.confusion_matrix(y_test, y_test_pred_rfb))\n",
    "print(metrics.classification_report(y_test, y_test_pred_rfb))\n",
    "metrics.plot_confusion_matrix(clfb, X_test, y_test_pred_rfb)\n",
    "plt.show()\n",
    "print(\"Accuracy: \", metrics.accuracy_score(y_test, y_test_pred_rfb))\n",
    "\n",
    "prec = metrics.precision_score(y_test, y_test_pred_rfb, average = 'weighted')\n",
    "recall = metrics.recall_score(y_test, y_test_pred_rfb, average = 'weighted')\n",
    "print(\"Precision: %s, Recall: %s\" %(prec, recall))\n",
    "print(\"f1 Score: \",metrics.f1_score(y_test, y_test_pred_rfb,average = 'weighted'))\n",
    "print(\"ROC AUC Score: \",roc_auc_score(y_test, clf_rfb.predict_proba(X_test)[:, 1]))"
   ]
  },
  {
   "cell_type": "markdown",
   "id": "631b0e31",
   "metadata": {},
   "source": [
    "Precision slightly improved when we balanced the data using class_weight parameter but recall and f1 score decreased."
   ]
  },
  {
   "cell_type": "markdown",
   "id": "d5c0e1ee",
   "metadata": {},
   "source": [
    "#### Cross Validation for Random forest"
   ]
  },
  {
   "cell_type": "code",
   "execution_count": 55,
   "id": "f60754c2",
   "metadata": {},
   "outputs": [
    {
     "name": "stderr",
     "output_type": "stream",
     "text": [
      "C:\\Users\\srina\\AppData\\Local\\Temp\\ipykernel_2640\\2363095614.py:12: DataConversionWarning: A column-vector y was passed when a 1d array was expected. Please change the shape of y to (n_samples,), for example using ravel().\n",
      "  y_pred_srf = SRF.fit(X_train, y_train).predict(X_test)\n",
      "C:\\Users\\srina\\anaconda3\\lib\\site-packages\\sklearn\\model_selection\\_validation.py:680: DataConversionWarning: A column-vector y was passed when a 1d array was expected. Please change the shape of y to (n_samples,), for example using ravel().\n",
      "  estimator.fit(X_train, y_train, **fit_params)\n",
      "C:\\Users\\srina\\anaconda3\\lib\\site-packages\\sklearn\\model_selection\\_validation.py:680: DataConversionWarning: A column-vector y was passed when a 1d array was expected. Please change the shape of y to (n_samples,), for example using ravel().\n",
      "  estimator.fit(X_train, y_train, **fit_params)\n",
      "C:\\Users\\srina\\anaconda3\\lib\\site-packages\\sklearn\\model_selection\\_validation.py:680: DataConversionWarning: A column-vector y was passed when a 1d array was expected. Please change the shape of y to (n_samples,), for example using ravel().\n",
      "  estimator.fit(X_train, y_train, **fit_params)\n",
      "C:\\Users\\srina\\anaconda3\\lib\\site-packages\\sklearn\\model_selection\\_validation.py:680: DataConversionWarning: A column-vector y was passed when a 1d array was expected. Please change the shape of y to (n_samples,), for example using ravel().\n",
      "  estimator.fit(X_train, y_train, **fit_params)\n"
     ]
    },
    {
     "name": "stdout",
     "output_type": "stream",
     "text": [
      "Mean f1: 0.096\n",
      "Mean recall: 0.052\n",
      "Mean precision: 0.591\n"
     ]
    }
   ],
   "source": [
    "from sklearn.model_selection import cross_validate\n",
    "\n",
    "\n",
    "\n",
    "SRF = RandomForestClassifier(n_estimators= 50,\n",
    "min_samples_split= 3,\n",
    "max_features= 'log2',\n",
    "max_depth= 10,\n",
    "bootstrap= True)\n",
    "#Create K-fold cross validation\n",
    "cv =KFold(n_splits=4, random_state=1, shuffle=True)\n",
    "y_pred_srf = SRF.fit(X_train, y_train).predict(X_test)\n",
    "scoring = ('f1', 'recall', 'precision')\n",
    "#Evaluate SRF model\n",
    "scores = cross_validate(SRF, X_train, y_train, scoring=scoring, cv=cv)\n",
    "#Get average evaluation metrics\n",
    "print('Mean f1: %.3f' % mean(scores['test_f1']))\n",
    "print('Mean recall: %.3f' % mean(scores['test_recall']))\n",
    "print('Mean precision: %.3f' % mean(scores['test_precision']))"
   ]
  },
  {
   "cell_type": "markdown",
   "id": "131602a9",
   "metadata": {},
   "source": [
    "#### Random forest cross validation with balancing"
   ]
  },
  {
   "cell_type": "code",
   "execution_count": 56,
   "id": "3812c3b6",
   "metadata": {},
   "outputs": [
    {
     "name": "stderr",
     "output_type": "stream",
     "text": [
      "C:\\Users\\srina\\anaconda3\\lib\\site-packages\\sklearn\\model_selection\\_validation.py:680: DataConversionWarning: A column-vector y was passed when a 1d array was expected. Please change the shape of y to (n_samples,), for example using ravel().\n",
      "  estimator.fit(X_train, y_train, **fit_params)\n",
      "C:\\Users\\srina\\anaconda3\\lib\\site-packages\\sklearn\\model_selection\\_validation.py:680: DataConversionWarning: A column-vector y was passed when a 1d array was expected. Please change the shape of y to (n_samples,), for example using ravel().\n",
      "  estimator.fit(X_train, y_train, **fit_params)\n",
      "C:\\Users\\srina\\anaconda3\\lib\\site-packages\\sklearn\\model_selection\\_validation.py:680: DataConversionWarning: A column-vector y was passed when a 1d array was expected. Please change the shape of y to (n_samples,), for example using ravel().\n",
      "  estimator.fit(X_train, y_train, **fit_params)\n",
      "C:\\Users\\srina\\anaconda3\\lib\\site-packages\\sklearn\\model_selection\\_validation.py:680: DataConversionWarning: A column-vector y was passed when a 1d array was expected. Please change the shape of y to (n_samples,), for example using ravel().\n",
      "  estimator.fit(X_train, y_train, **fit_params)\n"
     ]
    },
    {
     "name": "stdout",
     "output_type": "stream",
     "text": [
      "Mean f1: 0.386\n",
      "Mean recall: 0.622\n",
      "Mean precision: 0.280\n"
     ]
    }
   ],
   "source": [
    "\n",
    "SRFB = RandomForestClassifier(n_estimators= 50,\n",
    "min_samples_split= 3,\n",
    "max_features= 'log2',\n",
    "max_depth= 10,\n",
    "bootstrap= True,class_weight=\"balanced\")\n",
    "#Create Stratified K-fold cross validation\n",
    "cv =KFold(n_splits=4, random_state=1, shuffle=True)\n",
    "scoring = ('f1', 'recall', 'precision')\n",
    "#Evaluate SRF model\n",
    "scores = cross_validate(SRFB, X_train, y_train, scoring=scoring, cv=cv)\n",
    "#Get average evaluation metrics\n",
    "print('Mean f1: %.3f' % mean(scores['test_f1']))\n",
    "print('Mean recall: %.3f' % mean(scores['test_recall']))\n",
    "print('Mean precision: %.3f' % mean(scores['test_precision']))"
   ]
  },
  {
   "cell_type": "markdown",
   "id": "d1bb9a41",
   "metadata": {},
   "source": [
    "# 6. Compare which methods work best based on the evaluation metrics mentioned in the previous point."
   ]
  },
  {
   "cell_type": "markdown",
   "id": "b0be5651",
   "metadata": {},
   "source": [
    "As our dataset is highly imbalanced and have very large negative samples so its best to use precision.\n",
    "Precision is not affected by a large number of negative samples, that’s because it measures the number of true positives out of the samples predicted as positives (True Positives+False Positives).\n",
    "\n",
    "Precision is more focused in the positive class than in the negative class, it actually measures the probability of correct detection of positive values, while False Positive Rate and True Positive Rate (ROC metrics) measure the ability to distinguish between the classes.\n",
    "Using Precision, Recall & F1-score, when negative class is the majority and your focus class is positive.\n",
    "\n",
    "Out of the three models, Random forest and Decision tree both have good metrics without cross validation compared to Logistic Regression. But Random forest is more stable than Decision Tree and it is a good classifier compared to logistic regression.\n",
    "Therefore, standard classification algorithms like logistic regression do not work as they try to minimize the error rate rather than focus on the minority class, giving bias classification. Random forest is an ideal algorithm to deal with the extreme imbalance owing to two main reasons. Firstly, the ability to incorporate class weights into the random forest classifier makes it cost-sensitive; hence it penalizes misclassifying the minority class. Secondly, it combines the sampling technique and ensemble learning, therefore, downsampling the majority class and growing trees on a more balanced dataset."
   ]
  },
  {
   "cell_type": "markdown",
   "id": "777b167d",
   "metadata": {},
   "source": [
    "# 7. Use model simplification techniques like feature creation and selection, to improve model predictability. "
   ]
  },
  {
   "cell_type": "markdown",
   "id": "6839e5af",
   "metadata": {},
   "source": [
    "### Feature Engineering using SelectKBest Feature"
   ]
  },
  {
   "cell_type": "code",
   "execution_count": 57,
   "id": "b4b4ef9d",
   "metadata": {},
   "outputs": [
    {
     "name": "stdout",
     "output_type": "stream",
     "text": [
      "[1.42776086e+02 5.89733413e+00 5.94332317e+00 3.59366757e+01\n",
      " 1.13304522e+02 4.59836595e+02 2.16414768e+02 1.89993604e+01\n",
      " 7.28636252e+00 5.39429629e-01 3.66750347e+02 1.00656647e+02\n",
      " 1.75513309e+03 3.28232422e+02 5.97574879e+01 5.16236901e-04\n",
      " 3.25140049e+02 4.94110010e+02 1.96022627e+01 4.52998281e-01\n",
      " 3.65539059e+01 3.39453378e+01 2.09219805e-03 1.82505496e-01\n",
      " 1.85073974e+00 1.84094619e+00 1.66360239e+01 1.02008412e+02\n",
      " 1.22866478e+01 7.76129246e+01 6.79544457e+00 5.59876973e+02\n",
      " 8.68064814e+01 5.75842808e+02 1.48908686e+01]\n"
     ]
    },
    {
     "name": "stderr",
     "output_type": "stream",
     "text": [
      "C:\\Users\\srina\\anaconda3\\lib\\site-packages\\sklearn\\utils\\validation.py:993: DataConversionWarning: A column-vector y was passed when a 1d array was expected. Please change the shape of y to (n_samples, ), for example using ravel().\n",
      "  y = column_or_1d(y, warn=True)\n"
     ]
    }
   ],
   "source": [
    "from sklearn.feature_selection import SelectKBest\n",
    "from sklearn.feature_selection import f_classif\n",
    "test = SelectKBest(score_func=f_classif, k=15)\n",
    "fit = test.fit(X, y)\n",
    "# summarize scores\n",
    "\n",
    "print(fit.scores_)\n",
    "df_scores = pd.DataFrame(fit.scores_)\n",
    "df_columns = pd.DataFrame(X.columns)\n",
    "feature_scores = pd.concat([df_columns, df_scores], axis=1)\n",
    "features = fit.transform(X)\n",
    "# summarize selected features\n",
    "feature_scores.columns = [\"Feature Name\",\"Score\"]\n",
    "x = (feature_scores.nlargest(40,\"Score\"))"
   ]
  },
  {
   "cell_type": "code",
   "execution_count": 58,
   "id": "5bce6936",
   "metadata": {},
   "outputs": [
    {
     "data": {
      "text/html": [
       "<div>\n",
       "<style scoped>\n",
       "    .dataframe tbody tr th:only-of-type {\n",
       "        vertical-align: middle;\n",
       "    }\n",
       "\n",
       "    .dataframe tbody tr th {\n",
       "        vertical-align: top;\n",
       "    }\n",
       "\n",
       "    .dataframe thead th {\n",
       "        text-align: right;\n",
       "    }\n",
       "</style>\n",
       "<table border=\"1\" class=\"dataframe\">\n",
       "  <thead>\n",
       "    <tr style=\"text-align: right;\">\n",
       "      <th></th>\n",
       "      <th>Feature Name</th>\n",
       "      <th>Score</th>\n",
       "    </tr>\n",
       "  </thead>\n",
       "  <tbody>\n",
       "    <tr>\n",
       "      <th>12</th>\n",
       "      <td>C16</td>\n",
       "      <td>1755.133090</td>\n",
       "    </tr>\n",
       "    <tr>\n",
       "      <th>33</th>\n",
       "      <td>device_conn_type_3</td>\n",
       "      <td>575.842808</td>\n",
       "    </tr>\n",
       "    <tr>\n",
       "      <th>31</th>\n",
       "      <td>device_conn_type_0</td>\n",
       "      <td>559.876973</td>\n",
       "    </tr>\n",
       "    <tr>\n",
       "      <th>17</th>\n",
       "      <td>C21</td>\n",
       "      <td>494.110010</td>\n",
       "    </tr>\n",
       "    <tr>\n",
       "      <th>5</th>\n",
       "      <td>app_domain</td>\n",
       "      <td>459.836595</td>\n",
       "    </tr>\n",
       "    <tr>\n",
       "      <th>10</th>\n",
       "      <td>C14</td>\n",
       "      <td>366.750347</td>\n",
       "    </tr>\n",
       "    <tr>\n",
       "      <th>13</th>\n",
       "      <td>C17</td>\n",
       "      <td>328.232422</td>\n",
       "    </tr>\n",
       "    <tr>\n",
       "      <th>16</th>\n",
       "      <td>C20</td>\n",
       "      <td>325.140049</td>\n",
       "    </tr>\n",
       "    <tr>\n",
       "      <th>6</th>\n",
       "      <td>app_category</td>\n",
       "      <td>216.414768</td>\n",
       "    </tr>\n",
       "    <tr>\n",
       "      <th>0</th>\n",
       "      <td>C1</td>\n",
       "      <td>142.776086</td>\n",
       "    </tr>\n",
       "    <tr>\n",
       "      <th>4</th>\n",
       "      <td>app_id</td>\n",
       "      <td>113.304522</td>\n",
       "    </tr>\n",
       "    <tr>\n",
       "      <th>27</th>\n",
       "      <td>device_type_0</td>\n",
       "      <td>102.008412</td>\n",
       "    </tr>\n",
       "    <tr>\n",
       "      <th>11</th>\n",
       "      <td>C15</td>\n",
       "      <td>100.656647</td>\n",
       "    </tr>\n",
       "    <tr>\n",
       "      <th>32</th>\n",
       "      <td>device_conn_type_2</td>\n",
       "      <td>86.806481</td>\n",
       "    </tr>\n",
       "    <tr>\n",
       "      <th>29</th>\n",
       "      <td>device_type_4</td>\n",
       "      <td>77.612925</td>\n",
       "    </tr>\n",
       "    <tr>\n",
       "      <th>14</th>\n",
       "      <td>C18</td>\n",
       "      <td>59.757488</td>\n",
       "    </tr>\n",
       "    <tr>\n",
       "      <th>20</th>\n",
       "      <td>banner_pos_0</td>\n",
       "      <td>36.553906</td>\n",
       "    </tr>\n",
       "    <tr>\n",
       "      <th>3</th>\n",
       "      <td>site_category</td>\n",
       "      <td>35.936676</td>\n",
       "    </tr>\n",
       "    <tr>\n",
       "      <th>21</th>\n",
       "      <td>banner_pos_1</td>\n",
       "      <td>33.945338</td>\n",
       "    </tr>\n",
       "    <tr>\n",
       "      <th>18</th>\n",
       "      <td>dayofweek</td>\n",
       "      <td>19.602263</td>\n",
       "    </tr>\n",
       "    <tr>\n",
       "      <th>7</th>\n",
       "      <td>device_id</td>\n",
       "      <td>18.999360</td>\n",
       "    </tr>\n",
       "    <tr>\n",
       "      <th>26</th>\n",
       "      <td>banner_pos_7</td>\n",
       "      <td>16.636024</td>\n",
       "    </tr>\n",
       "    <tr>\n",
       "      <th>34</th>\n",
       "      <td>device_conn_type_5</td>\n",
       "      <td>14.890869</td>\n",
       "    </tr>\n",
       "    <tr>\n",
       "      <th>28</th>\n",
       "      <td>device_type_1</td>\n",
       "      <td>12.286648</td>\n",
       "    </tr>\n",
       "    <tr>\n",
       "      <th>8</th>\n",
       "      <td>device_ip</td>\n",
       "      <td>7.286363</td>\n",
       "    </tr>\n",
       "    <tr>\n",
       "      <th>30</th>\n",
       "      <td>device_type_5</td>\n",
       "      <td>6.795445</td>\n",
       "    </tr>\n",
       "    <tr>\n",
       "      <th>2</th>\n",
       "      <td>site_domain</td>\n",
       "      <td>5.943323</td>\n",
       "    </tr>\n",
       "    <tr>\n",
       "      <th>1</th>\n",
       "      <td>site_id</td>\n",
       "      <td>5.897334</td>\n",
       "    </tr>\n",
       "    <tr>\n",
       "      <th>24</th>\n",
       "      <td>banner_pos_4</td>\n",
       "      <td>1.850740</td>\n",
       "    </tr>\n",
       "    <tr>\n",
       "      <th>25</th>\n",
       "      <td>banner_pos_5</td>\n",
       "      <td>1.840946</td>\n",
       "    </tr>\n",
       "    <tr>\n",
       "      <th>9</th>\n",
       "      <td>device_model</td>\n",
       "      <td>0.539430</td>\n",
       "    </tr>\n",
       "    <tr>\n",
       "      <th>19</th>\n",
       "      <td>hour</td>\n",
       "      <td>0.452998</td>\n",
       "    </tr>\n",
       "    <tr>\n",
       "      <th>23</th>\n",
       "      <td>banner_pos_3</td>\n",
       "      <td>0.182505</td>\n",
       "    </tr>\n",
       "    <tr>\n",
       "      <th>22</th>\n",
       "      <td>banner_pos_2</td>\n",
       "      <td>0.002092</td>\n",
       "    </tr>\n",
       "    <tr>\n",
       "      <th>15</th>\n",
       "      <td>C19</td>\n",
       "      <td>0.000516</td>\n",
       "    </tr>\n",
       "  </tbody>\n",
       "</table>\n",
       "</div>"
      ],
      "text/plain": [
       "          Feature Name        Score\n",
       "12                 C16  1755.133090\n",
       "33  device_conn_type_3   575.842808\n",
       "31  device_conn_type_0   559.876973\n",
       "17                 C21   494.110010\n",
       "5           app_domain   459.836595\n",
       "10                 C14   366.750347\n",
       "13                 C17   328.232422\n",
       "16                 C20   325.140049\n",
       "6         app_category   216.414768\n",
       "0                   C1   142.776086\n",
       "4               app_id   113.304522\n",
       "27       device_type_0   102.008412\n",
       "11                 C15   100.656647\n",
       "32  device_conn_type_2    86.806481\n",
       "29       device_type_4    77.612925\n",
       "14                 C18    59.757488\n",
       "20        banner_pos_0    36.553906\n",
       "3        site_category    35.936676\n",
       "21        banner_pos_1    33.945338\n",
       "18           dayofweek    19.602263\n",
       "7            device_id    18.999360\n",
       "26        banner_pos_7    16.636024\n",
       "34  device_conn_type_5    14.890869\n",
       "28       device_type_1    12.286648\n",
       "8            device_ip     7.286363\n",
       "30       device_type_5     6.795445\n",
       "2          site_domain     5.943323\n",
       "1              site_id     5.897334\n",
       "24        banner_pos_4     1.850740\n",
       "25        banner_pos_5     1.840946\n",
       "9         device_model     0.539430\n",
       "19                hour     0.452998\n",
       "23        banner_pos_3     0.182505\n",
       "22        banner_pos_2     0.002092\n",
       "15                 C19     0.000516"
      ]
     },
     "execution_count": 58,
     "metadata": {},
     "output_type": "execute_result"
    }
   ],
   "source": [
    "x"
   ]
  },
  {
   "cell_type": "markdown",
   "id": "29bbe629",
   "metadata": {},
   "source": [
    "#### Selecting features which are above 50 "
   ]
  },
  {
   "cell_type": "code",
   "execution_count": 59,
   "id": "4a3b0947",
   "metadata": {},
   "outputs": [
    {
     "data": {
      "text/plain": [
       "12                   C16\n",
       "33    device_conn_type_3\n",
       "31    device_conn_type_0\n",
       "17                   C21\n",
       "5             app_domain\n",
       "10                   C14\n",
       "13                   C17\n",
       "16                   C20\n",
       "6           app_category\n",
       "0                     C1\n",
       "4                 app_id\n",
       "27         device_type_0\n",
       "11                   C15\n",
       "32    device_conn_type_2\n",
       "29         device_type_4\n",
       "14                   C18\n",
       "Name: Feature Name, dtype: object"
      ]
     },
     "execution_count": 59,
     "metadata": {},
     "output_type": "execute_result"
    }
   ],
   "source": [
    "x[\"Feature Name\"][:16]"
   ]
  },
  {
   "cell_type": "code",
   "execution_count": 60,
   "id": "558b6784",
   "metadata": {},
   "outputs": [],
   "source": [
    "X1 = scaled_features_ctr.loc[:,['C16','device_conn_type_3','device_conn_type_0','C21','app_domain','C14','C17','C20','app_category','C1','app_id','device_type_0','C15','device_conn_type_2','device_type_4','C18']]\n",
    "\n",
    "y1 =  ctr1.loc[:, ['y']]"
   ]
  },
  {
   "cell_type": "code",
   "execution_count": 61,
   "id": "a4013c45",
   "metadata": {},
   "outputs": [
    {
     "name": "stdout",
     "output_type": "stream",
     "text": [
      "(69999, 16)\n",
      "(69999, 1)\n",
      "(30000, 16)\n",
      "(30000, 1)\n"
     ]
    }
   ],
   "source": [
    "# splitting train and test data by 70 and 30 ratio\n",
    "X1_train, X1_test, y1_train, y1_test = train_test_split(X1, y1, test_size=0.3, random_state=0)\n",
    "print(X1_train.shape)\n",
    "print(y1_train.shape)\n",
    "print(X1_test.shape)\n",
    "print(y1_test.shape)"
   ]
  },
  {
   "cell_type": "markdown",
   "id": "c1d7417b",
   "metadata": {},
   "source": [
    "### a. Logistic Regression"
   ]
  },
  {
   "cell_type": "code",
   "execution_count": 62,
   "id": "6beec393",
   "metadata": {},
   "outputs": [
    {
     "name": "stderr",
     "output_type": "stream",
     "text": [
      "C:\\Users\\srina\\anaconda3\\lib\\site-packages\\sklearn\\utils\\validation.py:993: DataConversionWarning: A column-vector y was passed when a 1d array was expected. Please change the shape of y to (n_samples, ), for example using ravel().\n",
      "  y = column_or_1d(y, warn=True)\n"
     ]
    },
    {
     "data": {
      "text/plain": [
       "LogisticRegression()"
      ]
     },
     "execution_count": 62,
     "metadata": {},
     "output_type": "execute_result"
    }
   ],
   "source": [
    "\n",
    "# diclare the logistic model\n",
    "model1 = LogisticRegression()\n",
    "\n",
    "# train the model on the data\n",
    "model1.fit(X1_train, y1_train)"
   ]
  },
  {
   "cell_type": "code",
   "execution_count": 63,
   "id": "9e4ddde1",
   "metadata": {},
   "outputs": [
    {
     "name": "stdout",
     "output_type": "stream",
     "text": [
      "[[24836    44]\n",
      " [ 5108    12]]\n"
     ]
    },
    {
     "name": "stderr",
     "output_type": "stream",
     "text": [
      "C:\\Users\\srina\\anaconda3\\lib\\site-packages\\sklearn\\utils\\deprecation.py:87: FutureWarning: Function plot_confusion_matrix is deprecated; Function `plot_confusion_matrix` is deprecated in 1.0 and will be removed in 1.2. Use one of the class methods: ConfusionMatrixDisplay.from_predictions or ConfusionMatrixDisplay.from_estimator.\n",
      "  warnings.warn(msg, category=FutureWarning)\n"
     ]
    },
    {
     "data": {
      "image/png": "[encoded data removed]",
      "text/plain": [
       "<Figure size 1440x720 with 2 Axes>"
      ]
     },
     "metadata": {
      "needs_background": "light"
     },
     "output_type": "display_data"
    },
    {
     "name": "stdout",
     "output_type": "stream",
     "text": [
      "              precision    recall  f1-score   support\n",
      "\n",
      "           0       0.83      1.00      0.91     24880\n",
      "           1       0.21      0.00      0.00      5120\n",
      "\n",
      "    accuracy                           0.83     30000\n",
      "   macro avg       0.52      0.50      0.46     30000\n",
      "weighted avg       0.72      0.83      0.75     30000\n",
      "\n",
      "Accuracy:  0.8282666666666667\n",
      "Recall:  0.00234375\n",
      "Precision:  0.21428571428571427\n",
      "f1 Score:  0.00463678516228748\n"
     ]
    }
   ],
   "source": [
    "# predict the model\n",
    "y1_pred = model1.predict(X1_test)\n",
    "\n",
    "\n",
    "cnf_matrix = metrics.confusion_matrix(y1_test, y_pred)\n",
    "print(cnf_matrix)\n",
    "metrics.plot_confusion_matrix(model1, X1_test, y1_test)\n",
    "plt.show()\n",
    "print(metrics.classification_report(y1_test, y_pred))\n",
    "print(\"Accuracy: \", metrics.accuracy_score(y1_test, y_pred))\n",
    "\n",
    "print(\"Recall: \",metrics.recall_score(y1_test, y_pred))\n",
    "\n",
    "print(\"Precision: \",metrics.precision_score(y1_test, y_pred))\n",
    "\n",
    "print(\"f1 Score: \",metrics.f1_score(y1_test, y_pred))"
   ]
  },
  {
   "cell_type": "markdown",
   "id": "e2e09014",
   "metadata": {},
   "source": [
    "#### Cross Validation with class_weight parameter"
   ]
  },
  {
   "cell_type": "code",
   "execution_count": 64,
   "id": "f334b383",
   "metadata": {
    "scrolled": true
   },
   "outputs": [
    {
     "name": "stderr",
     "output_type": "stream",
     "text": [
      "C:\\Users\\srina\\anaconda3\\lib\\site-packages\\sklearn\\utils\\validation.py:993: DataConversionWarning: A column-vector y was passed when a 1d array was expected. Please change the shape of y to (n_samples, ), for example using ravel().\n",
      "  y = column_or_1d(y, warn=True)\n"
     ]
    },
    {
     "data": {
      "text/plain": [
       "LogisticRegression(class_weight={0: 0.6, 1: 2.9})"
      ]
     },
     "execution_count": 64,
     "metadata": {},
     "output_type": "execute_result"
    }
   ],
   "source": [
    "model_b1 = LogisticRegression(class_weight={0:0.6,1:2.9})\n",
    "\n",
    "# train the model on the data\n",
    "model_b1.fit(X1_train, y1_train)"
   ]
  },
  {
   "cell_type": "code",
   "execution_count": 65,
   "id": "74f4433a",
   "metadata": {},
   "outputs": [
    {
     "name": "stdout",
     "output_type": "stream",
     "text": [
      "[[15030  9850]\n",
      " [ 2078  3042]]\n"
     ]
    },
    {
     "name": "stderr",
     "output_type": "stream",
     "text": [
      "C:\\Users\\srina\\anaconda3\\lib\\site-packages\\sklearn\\utils\\deprecation.py:87: FutureWarning: Function plot_confusion_matrix is deprecated; Function `plot_confusion_matrix` is deprecated in 1.0 and will be removed in 1.2. Use one of the class methods: ConfusionMatrixDisplay.from_predictions or ConfusionMatrixDisplay.from_estimator.\n",
      "  warnings.warn(msg, category=FutureWarning)\n"
     ]
    },
    {
     "data": {
      "image/png": "[encoded data removed]",
      "text/plain": [
       "<Figure size 1440x720 with 2 Axes>"
      ]
     },
     "metadata": {
      "needs_background": "light"
     },
     "output_type": "display_data"
    },
    {
     "name": "stdout",
     "output_type": "stream",
     "text": [
      "              precision    recall  f1-score   support\n",
      "\n",
      "           0       0.88      0.60      0.72     24880\n",
      "           1       0.24      0.59      0.34      5120\n",
      "\n",
      "    accuracy                           0.60     30000\n",
      "   macro avg       0.56      0.60      0.53     30000\n",
      "weighted avg       0.77      0.60      0.65     30000\n",
      "\n",
      "Accuracy:  0.6024\n",
      "Recall:  0.594140625\n",
      "Precision:  0.23596028544834005\n",
      "f1 Score:  0.33777481678880744\n"
     ]
    }
   ],
   "source": [
    "#predict the model\n",
    "y_pred_b1 = model_b1.predict(X1_test)\n",
    "\n",
    "cnf_matrix = metrics.confusion_matrix(y1_test, y_pred_b1)\n",
    "print(cnf_matrix)\n",
    "metrics.plot_confusion_matrix(model_b1, X1_test, y1_test)\n",
    "plt.show()\n",
    "print(metrics.classification_report(y1_test, y_pred_b1))\n",
    "print(\"Accuracy: \", metrics.accuracy_score(y1_test, y_pred_b1))\n",
    "\n",
    "print(\"Recall: \",metrics.recall_score(y1_test, y_pred_b1))\n",
    "\n",
    "print(\"Precision: \",metrics.precision_score(y1_test, y_pred_b1))\n",
    "\n",
    "print(\"f1 Score: \",metrics.f1_score(y1_test, y_pred_b1))"
   ]
  },
  {
   "cell_type": "markdown",
   "id": "61d004a4",
   "metadata": {},
   "source": [
    "#### Cross validation Logistic Regression"
   ]
  },
  {
   "cell_type": "code",
   "execution_count": 66,
   "id": "3801408c",
   "metadata": {},
   "outputs": [
    {
     "name": "stderr",
     "output_type": "stream",
     "text": [
      "C:\\Users\\srina\\anaconda3\\lib\\site-packages\\sklearn\\utils\\validation.py:993: DataConversionWarning: A column-vector y was passed when a 1d array was expected. Please change the shape of y to (n_samples, ), for example using ravel().\n",
      "  y = column_or_1d(y, warn=True)\n",
      "C:\\Users\\srina\\anaconda3\\lib\\site-packages\\sklearn\\utils\\validation.py:993: DataConversionWarning: A column-vector y was passed when a 1d array was expected. Please change the shape of y to (n_samples, ), for example using ravel().\n",
      "  y = column_or_1d(y, warn=True)\n",
      "C:\\Users\\srina\\anaconda3\\lib\\site-packages\\sklearn\\utils\\validation.py:993: DataConversionWarning: A column-vector y was passed when a 1d array was expected. Please change the shape of y to (n_samples, ), for example using ravel().\n",
      "  y = column_or_1d(y, warn=True)\n",
      "C:\\Users\\srina\\anaconda3\\lib\\site-packages\\sklearn\\utils\\validation.py:993: DataConversionWarning: A column-vector y was passed when a 1d array was expected. Please change the shape of y to (n_samples, ), for example using ravel().\n",
      "  y = column_or_1d(y, warn=True)\n",
      "C:\\Users\\srina\\anaconda3\\lib\\site-packages\\sklearn\\utils\\validation.py:993: DataConversionWarning: A column-vector y was passed when a 1d array was expected. Please change the shape of y to (n_samples, ), for example using ravel().\n",
      "  y = column_or_1d(y, warn=True)\n",
      "C:\\Users\\srina\\anaconda3\\lib\\site-packages\\sklearn\\utils\\validation.py:993: DataConversionWarning: A column-vector y was passed when a 1d array was expected. Please change the shape of y to (n_samples, ), for example using ravel().\n",
      "  y = column_or_1d(y, warn=True)\n",
      "C:\\Users\\srina\\anaconda3\\lib\\site-packages\\sklearn\\utils\\validation.py:993: DataConversionWarning: A column-vector y was passed when a 1d array was expected. Please change the shape of y to (n_samples, ), for example using ravel().\n",
      "  y = column_or_1d(y, warn=True)\n",
      "C:\\Users\\srina\\anaconda3\\lib\\site-packages\\sklearn\\utils\\validation.py:993: DataConversionWarning: A column-vector y was passed when a 1d array was expected. Please change the shape of y to (n_samples, ), for example using ravel().\n",
      "  y = column_or_1d(y, warn=True)\n",
      "C:\\Users\\srina\\anaconda3\\lib\\site-packages\\sklearn\\utils\\validation.py:993: DataConversionWarning: A column-vector y was passed when a 1d array was expected. Please change the shape of y to (n_samples, ), for example using ravel().\n",
      "  y = column_or_1d(y, warn=True)\n",
      "C:\\Users\\srina\\anaconda3\\lib\\site-packages\\sklearn\\utils\\validation.py:993: DataConversionWarning: A column-vector y was passed when a 1d array was expected. Please change the shape of y to (n_samples, ), for example using ravel().\n",
      "  y = column_or_1d(y, warn=True)\n",
      "C:\\Users\\srina\\anaconda3\\lib\\site-packages\\sklearn\\utils\\validation.py:993: DataConversionWarning: A column-vector y was passed when a 1d array was expected. Please change the shape of y to (n_samples, ), for example using ravel().\n",
      "  y = column_or_1d(y, warn=True)\n",
      "C:\\Users\\srina\\anaconda3\\lib\\site-packages\\sklearn\\utils\\validation.py:993: DataConversionWarning: A column-vector y was passed when a 1d array was expected. Please change the shape of y to (n_samples, ), for example using ravel().\n",
      "  y = column_or_1d(y, warn=True)\n",
      "C:\\Users\\srina\\anaconda3\\lib\\site-packages\\sklearn\\utils\\validation.py:993: DataConversionWarning: A column-vector y was passed when a 1d array was expected. Please change the shape of y to (n_samples, ), for example using ravel().\n",
      "  y = column_or_1d(y, warn=True)\n",
      "C:\\Users\\srina\\anaconda3\\lib\\site-packages\\sklearn\\utils\\validation.py:993: DataConversionWarning: A column-vector y was passed when a 1d array was expected. Please change the shape of y to (n_samples, ), for example using ravel().\n",
      "  y = column_or_1d(y, warn=True)\n",
      "C:\\Users\\srina\\anaconda3\\lib\\site-packages\\sklearn\\utils\\validation.py:993: DataConversionWarning: A column-vector y was passed when a 1d array was expected. Please change the shape of y to (n_samples, ), for example using ravel().\n",
      "  y = column_or_1d(y, warn=True)\n",
      "C:\\Users\\srina\\anaconda3\\lib\\site-packages\\sklearn\\utils\\validation.py:993: DataConversionWarning: A column-vector y was passed when a 1d array was expected. Please change the shape of y to (n_samples, ), for example using ravel().\n",
      "  y = column_or_1d(y, warn=True)\n",
      "C:\\Users\\srina\\anaconda3\\lib\\site-packages\\sklearn\\utils\\validation.py:993: DataConversionWarning: A column-vector y was passed when a 1d array was expected. Please change the shape of y to (n_samples, ), for example using ravel().\n",
      "  y = column_or_1d(y, warn=True)\n"
     ]
    },
    {
     "name": "stdout",
     "output_type": "stream",
     "text": [
      "Cross validation Recall: [0.83028571 0.83251429 0.82828571 0.82776159]\n",
      "Cross validation Precision: [0.72460691 0.71480163 0.73004068 0.71769582]\n",
      "Recall: 0.830 (0.002)\n",
      "Precision: 0.722 (0.006)\n",
      "f1: 0.754 (0.003)\n",
      "Accuracy: 0.830 (0.002)\n"
     ]
    }
   ],
   "source": [
    "k_fold = KFold(n_splits=4, random_state=1, shuffle=True)\n",
    "lr1 = LogisticRegression()\n",
    "\n",
    "y_pred_lr1 = lr1.fit(X1_train, y1_train).predict(X1_test) \n",
    "  \n",
    "cv_recall = cross_val_score(lr1, X1_train, y1_train, cv = k_fold, scoring = 'recall_weighted')\n",
    "cv_precision = cross_val_score(lr1, X1_train, y1_train, cv = k_fold, scoring = 'precision_weighted')\n",
    "cv_f1 = cross_val_score(lr1, X1_train, y1_train, cv = k_fold, scoring = 'f1_weighted')\n",
    "cv_accuracy = cross_val_score(lr1, X1_train, y1_train, cv = k_fold, scoring = 'accuracy')\n",
    "print(\"Cross validation Recall: %s\" %(cv_recall))\n",
    "print(\"Cross validation Precision: %s\" %(cv_precision))\n",
    "print('Recall: %.3f (%.3f)' % (mean(cv_recall), std(cv_recall)))\n",
    "print('Precision: %.3f (%.3f)' % (mean(cv_precision), std(cv_precision)))\n",
    "print('f1: %.3f (%.3f)' % (mean(cv_f1), std(cv_f1)))\n",
    "print('Accuracy: %.3f (%.3f)' % (mean(cv_accuracy), std(cv_accuracy)))"
   ]
  },
  {
   "cell_type": "markdown",
   "id": "c5283379",
   "metadata": {},
   "source": [
    "#### Logistic regression cross validation with class_weight parameter"
   ]
  },
  {
   "cell_type": "code",
   "execution_count": 67,
   "id": "3e32fb66",
   "metadata": {},
   "outputs": [
    {
     "name": "stderr",
     "output_type": "stream",
     "text": [
      "C:\\Users\\srina\\anaconda3\\lib\\site-packages\\sklearn\\utils\\validation.py:993: DataConversionWarning: A column-vector y was passed when a 1d array was expected. Please change the shape of y to (n_samples, ), for example using ravel().\n",
      "  y = column_or_1d(y, warn=True)\n",
      "C:\\Users\\srina\\anaconda3\\lib\\site-packages\\sklearn\\utils\\validation.py:993: DataConversionWarning: A column-vector y was passed when a 1d array was expected. Please change the shape of y to (n_samples, ), for example using ravel().\n",
      "  y = column_or_1d(y, warn=True)\n",
      "C:\\Users\\srina\\anaconda3\\lib\\site-packages\\sklearn\\utils\\validation.py:993: DataConversionWarning: A column-vector y was passed when a 1d array was expected. Please change the shape of y to (n_samples, ), for example using ravel().\n",
      "  y = column_or_1d(y, warn=True)\n",
      "C:\\Users\\srina\\anaconda3\\lib\\site-packages\\sklearn\\utils\\validation.py:993: DataConversionWarning: A column-vector y was passed when a 1d array was expected. Please change the shape of y to (n_samples, ), for example using ravel().\n",
      "  y = column_or_1d(y, warn=True)\n",
      "C:\\Users\\srina\\anaconda3\\lib\\site-packages\\sklearn\\utils\\validation.py:993: DataConversionWarning: A column-vector y was passed when a 1d array was expected. Please change the shape of y to (n_samples, ), for example using ravel().\n",
      "  y = column_or_1d(y, warn=True)\n",
      "C:\\Users\\srina\\anaconda3\\lib\\site-packages\\sklearn\\utils\\validation.py:993: DataConversionWarning: A column-vector y was passed when a 1d array was expected. Please change the shape of y to (n_samples, ), for example using ravel().\n",
      "  y = column_or_1d(y, warn=True)\n",
      "C:\\Users\\srina\\anaconda3\\lib\\site-packages\\sklearn\\utils\\validation.py:993: DataConversionWarning: A column-vector y was passed when a 1d array was expected. Please change the shape of y to (n_samples, ), for example using ravel().\n",
      "  y = column_or_1d(y, warn=True)\n",
      "C:\\Users\\srina\\anaconda3\\lib\\site-packages\\sklearn\\utils\\validation.py:993: DataConversionWarning: A column-vector y was passed when a 1d array was expected. Please change the shape of y to (n_samples, ), for example using ravel().\n",
      "  y = column_or_1d(y, warn=True)\n",
      "C:\\Users\\srina\\anaconda3\\lib\\site-packages\\sklearn\\utils\\validation.py:993: DataConversionWarning: A column-vector y was passed when a 1d array was expected. Please change the shape of y to (n_samples, ), for example using ravel().\n",
      "  y = column_or_1d(y, warn=True)\n",
      "C:\\Users\\srina\\anaconda3\\lib\\site-packages\\sklearn\\utils\\validation.py:993: DataConversionWarning: A column-vector y was passed when a 1d array was expected. Please change the shape of y to (n_samples, ), for example using ravel().\n",
      "  y = column_or_1d(y, warn=True)\n",
      "C:\\Users\\srina\\anaconda3\\lib\\site-packages\\sklearn\\utils\\validation.py:993: DataConversionWarning: A column-vector y was passed when a 1d array was expected. Please change the shape of y to (n_samples, ), for example using ravel().\n",
      "  y = column_or_1d(y, warn=True)\n",
      "C:\\Users\\srina\\anaconda3\\lib\\site-packages\\sklearn\\utils\\validation.py:993: DataConversionWarning: A column-vector y was passed when a 1d array was expected. Please change the shape of y to (n_samples, ), for example using ravel().\n",
      "  y = column_or_1d(y, warn=True)\n",
      "C:\\Users\\srina\\anaconda3\\lib\\site-packages\\sklearn\\utils\\validation.py:993: DataConversionWarning: A column-vector y was passed when a 1d array was expected. Please change the shape of y to (n_samples, ), for example using ravel().\n",
      "  y = column_or_1d(y, warn=True)\n",
      "C:\\Users\\srina\\anaconda3\\lib\\site-packages\\sklearn\\utils\\validation.py:993: DataConversionWarning: A column-vector y was passed when a 1d array was expected. Please change the shape of y to (n_samples, ), for example using ravel().\n",
      "  y = column_or_1d(y, warn=True)\n",
      "C:\\Users\\srina\\anaconda3\\lib\\site-packages\\sklearn\\utils\\validation.py:993: DataConversionWarning: A column-vector y was passed when a 1d array was expected. Please change the shape of y to (n_samples, ), for example using ravel().\n",
      "  y = column_or_1d(y, warn=True)\n",
      "C:\\Users\\srina\\anaconda3\\lib\\site-packages\\sklearn\\utils\\validation.py:993: DataConversionWarning: A column-vector y was passed when a 1d array was expected. Please change the shape of y to (n_samples, ), for example using ravel().\n",
      "  y = column_or_1d(y, warn=True)\n",
      "C:\\Users\\srina\\anaconda3\\lib\\site-packages\\sklearn\\utils\\validation.py:993: DataConversionWarning: A column-vector y was passed when a 1d array was expected. Please change the shape of y to (n_samples, ), for example using ravel().\n",
      "  y = column_or_1d(y, warn=True)\n"
     ]
    },
    {
     "name": "stdout",
     "output_type": "stream",
     "text": [
      "Cross validation Recall: [0.60108571 0.5756     0.56508571 0.57311846]\n",
      "Cross validation Precision: [0.76714893 0.76632926 0.76278933 0.76555756]\n",
      "Recall: 0.579 (0.013)\n",
      "Precision: 0.765 (0.002)\n",
      "f1: 0.631 (0.012)\n",
      "Accuracy: 0.579 (0.013)\n"
     ]
    }
   ],
   "source": [
    "k_fold = KFold(n_splits=4, random_state=1, shuffle=True)\n",
    "lrb1 = LogisticRegression(class_weight=\"balanced\")\n",
    "\n",
    "y_pred_lrb1 = lrb1.fit(X1_train, y1_train).predict(X1_test) \n",
    "  \n",
    "cv_recall = cross_val_score(lrb1, X1_train, y1_train, cv = k_fold, scoring = 'recall_weighted')\n",
    "cv_precision = cross_val_score(lrb1, X1_train, y1_train, cv = k_fold, scoring = 'precision_weighted')\n",
    "cv_f1 = cross_val_score(lrb1, X1_train, y1_train, cv = k_fold, scoring = 'f1_weighted')\n",
    "cv_accuracy = cross_val_score(lrb1, X1_train, y1_train, cv = k_fold, scoring = 'accuracy')\n",
    "print(\"Cross validation Recall: %s\" %(cv_recall))\n",
    "print(\"Cross validation Precision: %s\" %(cv_precision))\n",
    "print('Recall: %.3f (%.3f)' % (mean(cv_recall), std(cv_recall)))\n",
    "print('Precision: %.3f (%.3f)' % (mean(cv_precision), std(cv_precision)))\n",
    "print('f1: %.3f (%.3f)' % (mean(cv_f1), std(cv_f1)))\n",
    "print('Accuracy: %.3f (%.3f)' % (mean(cv_accuracy), std(cv_accuracy)))"
   ]
  },
  {
   "cell_type": "markdown",
   "id": "0f0e5068",
   "metadata": {},
   "source": [
    "#### a. Decision Tree Without balancing"
   ]
  },
  {
   "cell_type": "code",
   "execution_count": 68,
   "id": "e3620c9f",
   "metadata": {},
   "outputs": [
    {
     "name": "stdout",
     "output_type": "stream",
     "text": [
      "Evaluating tree with max_depth = 2\n",
      "Confusion matrix: \n",
      "[[24880     0]\n",
      " [ 5120     0]]\n",
      "Precision: 0.6877937777777778, Recall: 0.8293333333333334\n",
      "              precision    recall  f1-score   support\n",
      "\n",
      "           0       0.83      1.00      0.91     24880\n",
      "           1       0.00      0.00      0.00      5120\n",
      "\n",
      "    accuracy                           0.83     30000\n",
      "   macro avg       0.41      0.50      0.45     30000\n",
      "weighted avg       0.69      0.83      0.75     30000\n",
      "\n",
      "ROC AUC Score:  "
     ]
    },
    {
     "name": "stderr",
     "output_type": "stream",
     "text": [
      "C:\\Users\\srina\\anaconda3\\lib\\site-packages\\sklearn\\metrics\\_classification.py:1318: UndefinedMetricWarning: Precision is ill-defined and being set to 0.0 in labels with no predicted samples. Use `zero_division` parameter to control this behavior.\n",
      "  _warn_prf(average, modifier, msg_start, len(result))\n",
      "C:\\Users\\srina\\anaconda3\\lib\\site-packages\\sklearn\\metrics\\_classification.py:1318: UndefinedMetricWarning: Precision and F-score are ill-defined and being set to 0.0 in labels with no predicted samples. Use `zero_division` parameter to control this behavior.\n",
      "  _warn_prf(average, modifier, msg_start, len(result))\n",
      "C:\\Users\\srina\\anaconda3\\lib\\site-packages\\sklearn\\metrics\\_classification.py:1318: UndefinedMetricWarning: Precision and F-score are ill-defined and being set to 0.0 in labels with no predicted samples. Use `zero_division` parameter to control this behavior.\n",
      "  _warn_prf(average, modifier, msg_start, len(result))\n",
      "C:\\Users\\srina\\anaconda3\\lib\\site-packages\\sklearn\\metrics\\_classification.py:1318: UndefinedMetricWarning: Precision and F-score are ill-defined and being set to 0.0 in labels with no predicted samples. Use `zero_division` parameter to control this behavior.\n",
      "  _warn_prf(average, modifier, msg_start, len(result))\n"
     ]
    },
    {
     "name": "stdout",
     "output_type": "stream",
     "text": [
      "0.592621944709606\n",
      "Evaluating tree with max_depth = 3\n",
      "Confusion matrix: \n",
      "[[24880     0]\n",
      " [ 5120     0]]\n",
      "Precision: 0.6877937777777778, Recall: 0.8293333333333334\n"
     ]
    },
    {
     "name": "stderr",
     "output_type": "stream",
     "text": [
      "C:\\Users\\srina\\anaconda3\\lib\\site-packages\\sklearn\\metrics\\_classification.py:1318: UndefinedMetricWarning: Precision is ill-defined and being set to 0.0 in labels with no predicted samples. Use `zero_division` parameter to control this behavior.\n",
      "  _warn_prf(average, modifier, msg_start, len(result))\n",
      "C:\\Users\\srina\\anaconda3\\lib\\site-packages\\sklearn\\metrics\\_classification.py:1318: UndefinedMetricWarning: Precision and F-score are ill-defined and being set to 0.0 in labels with no predicted samples. Use `zero_division` parameter to control this behavior.\n",
      "  _warn_prf(average, modifier, msg_start, len(result))\n",
      "C:\\Users\\srina\\anaconda3\\lib\\site-packages\\sklearn\\metrics\\_classification.py:1318: UndefinedMetricWarning: Precision and F-score are ill-defined and being set to 0.0 in labels with no predicted samples. Use `zero_division` parameter to control this behavior.\n",
      "  _warn_prf(average, modifier, msg_start, len(result))\n",
      "C:\\Users\\srina\\anaconda3\\lib\\site-packages\\sklearn\\metrics\\_classification.py:1318: UndefinedMetricWarning: Precision and F-score are ill-defined and being set to 0.0 in labels with no predicted samples. Use `zero_division` parameter to control this behavior.\n",
      "  _warn_prf(average, modifier, msg_start, len(result))\n"
     ]
    },
    {
     "name": "stdout",
     "output_type": "stream",
     "text": [
      "              precision    recall  f1-score   support\n",
      "\n",
      "           0       0.83      1.00      0.91     24880\n",
      "           1       0.00      0.00      0.00      5120\n",
      "\n",
      "    accuracy                           0.83     30000\n",
      "   macro avg       0.41      0.50      0.45     30000\n",
      "weighted avg       0.69      0.83      0.75     30000\n",
      "\n",
      "ROC AUC Score:  0.6271028122487942\n",
      "Evaluating tree with max_depth = 5\n",
      "Confusion matrix: \n",
      "[[24592   288]\n",
      " [ 4766   354]]\n",
      "Precision: 0.788804649616009, Recall: 0.8315333333333333\n",
      "              precision    recall  f1-score   support\n",
      "\n",
      "           0       0.84      0.99      0.91     24880\n",
      "           1       0.55      0.07      0.12      5120\n",
      "\n",
      "    accuracy                           0.83     30000\n",
      "   macro avg       0.69      0.53      0.51     30000\n",
      "weighted avg       0.79      0.83      0.77     30000\n",
      "\n",
      "ROC AUC Score:  0.6548702757611536\n",
      "Evaluating tree with max_depth = 10\n",
      "Confusion matrix: \n",
      "[[24554   326]\n",
      " [ 4737   383]]\n",
      "Precision: 0.7874055626214118, Recall: 0.8312333333333334\n",
      "              precision    recall  f1-score   support\n",
      "\n",
      "           0       0.84      0.99      0.91     24880\n",
      "           1       0.54      0.07      0.13      5120\n",
      "\n",
      "    accuracy                           0.83     30000\n",
      "   macro avg       0.69      0.53      0.52     30000\n",
      "weighted avg       0.79      0.83      0.77     30000\n",
      "\n",
      "ROC AUC Score:  0.6884463942549238\n",
      "Evaluating tree with max_depth = 15\n",
      "Confusion matrix: \n",
      "[[24388   492]\n",
      " [ 4713   407]]\n",
      "Precision: 0.7722852576002132, Recall: 0.8265\n",
      "              precision    recall  f1-score   support\n",
      "\n",
      "           0       0.84      0.98      0.90     24880\n",
      "           1       0.45      0.08      0.14      5120\n",
      "\n",
      "    accuracy                           0.83     30000\n",
      "   macro avg       0.65      0.53      0.52     30000\n",
      "weighted avg       0.77      0.83      0.77     30000\n",
      "\n",
      "ROC AUC Score:  0.6799090517295518\n",
      "Evaluating tree with max_depth = 20\n",
      "Confusion matrix: \n",
      "[[24237   643]\n",
      " [ 4684   436]]\n",
      "Precision: 0.7639784213762166, Recall: 0.8224333333333333\n",
      "              precision    recall  f1-score   support\n",
      "\n",
      "           0       0.84      0.97      0.90     24880\n",
      "           1       0.40      0.09      0.14      5120\n",
      "\n",
      "    accuracy                           0.82     30000\n",
      "   macro avg       0.62      0.53      0.52     30000\n",
      "weighted avg       0.76      0.82      0.77     30000\n",
      "\n",
      "ROC AUC Score:  0.6713632624095659\n"
     ]
    }
   ],
   "source": [
    "for max_depth_val in [2, 3, 5, 10, 15, 20]:\n",
    "    clf1 = DecisionTreeClassifier(max_depth = max_depth_val)\n",
    "    print(\"Evaluating tree with max_depth = %s\" %(max_depth_val))\n",
    "    y_pred_dt1 = clf1.fit(X1_train,y1_train).predict(X1_test) \n",
    "    print(\"Confusion matrix: \")\n",
    "    print(metrics.confusion_matrix(y1_test, y_pred_dt1))\n",
    "    prec = metrics.precision_score(y1_test, y_pred_dt1, average = 'weighted')\n",
    "    recall = metrics.recall_score(y1_test, y_pred_dt1, average = 'weighted')\n",
    "    \n",
    "    print(\"Precision: %s, Recall: %s\" %(prec, recall))\n",
    "    print(metrics.classification_report(y1_test, y_pred_dt1))\n",
    "    print(\"ROC AUC Score: \",roc_auc_score(y1_test, clf1.predict_proba(X1_test)[:, 1]))"
   ]
  },
  {
   "cell_type": "markdown",
   "id": "9461d499",
   "metadata": {},
   "source": [
    "#### Decision Tree with class_weight parameter"
   ]
  },
  {
   "cell_type": "code",
   "execution_count": 69,
   "id": "d951fc24",
   "metadata": {},
   "outputs": [
    {
     "name": "stdout",
     "output_type": "stream",
     "text": [
      "Evaluating tree with max_depth = 2\n",
      "Confusion matrix: \n",
      "[[16997  7883]\n",
      " [ 2698  2422]]\n",
      "Precision: 0.7558357692313852, Recall: 0.6473\n",
      "              precision    recall  f1-score   support\n",
      "\n",
      "           0       0.86      0.68      0.76     24880\n",
      "           1       0.24      0.47      0.31      5120\n",
      "\n",
      "    accuracy                           0.65     30000\n",
      "   macro avg       0.55      0.58      0.54     30000\n",
      "weighted avg       0.76      0.65      0.69     30000\n",
      "\n",
      "ROC AUC Score:  0.6185222701781048\n",
      "Evaluating tree with max_depth = 3\n",
      "Confusion matrix: \n",
      "[[ 8230 16650]\n",
      " [  816  4304]]\n",
      "Precision: 0.7895781368877018, Recall: 0.4178\n",
      "              precision    recall  f1-score   support\n",
      "\n",
      "           0       0.91      0.33      0.49     24880\n",
      "           1       0.21      0.84      0.33      5120\n",
      "\n",
      "    accuracy                           0.42     30000\n",
      "   macro avg       0.56      0.59      0.41     30000\n",
      "weighted avg       0.79      0.42      0.46     30000\n",
      "\n",
      "ROC AUC Score:  0.6311252959518188\n",
      "Evaluating tree with max_depth = 5\n",
      "Confusion matrix: \n",
      "[[ 9745 15135]\n",
      " [  978  4142]]\n",
      "Precision: 0.7903640201606648, Recall: 0.4629\n",
      "              precision    recall  f1-score   support\n",
      "\n",
      "           0       0.91      0.39      0.55     24880\n",
      "           1       0.21      0.81      0.34      5120\n",
      "\n",
      "    accuracy                           0.46     30000\n",
      "   macro avg       0.56      0.60      0.44     30000\n",
      "weighted avg       0.79      0.46      0.51     30000\n",
      "\n",
      "ROC AUC Score:  0.6592688694797528\n",
      "Evaluating tree with max_depth = 10\n",
      "Confusion matrix: \n",
      "[[13359 11521]\n",
      " [ 1325  3795]]\n",
      "Precision: 0.7967868501853871, Recall: 0.5718\n",
      "              precision    recall  f1-score   support\n",
      "\n",
      "           0       0.91      0.54      0.68     24880\n",
      "           1       0.25      0.74      0.37      5120\n",
      "\n",
      "    accuracy                           0.57     30000\n",
      "   macro avg       0.58      0.64      0.52     30000\n",
      "weighted avg       0.80      0.57      0.62     30000\n",
      "\n",
      "ROC AUC Score:  0.6903322628303357\n",
      "Evaluating tree with max_depth = 15\n",
      "Confusion matrix: \n",
      "[[14280 10600]\n",
      " [ 1544  3576]]\n",
      "Precision: 0.7914644566529796, Recall: 0.5952\n",
      "              precision    recall  f1-score   support\n",
      "\n",
      "           0       0.90      0.57      0.70     24880\n",
      "           1       0.25      0.70      0.37      5120\n",
      "\n",
      "    accuracy                           0.60     30000\n",
      "   macro avg       0.58      0.64      0.54     30000\n",
      "weighted avg       0.79      0.60      0.65     30000\n",
      "\n",
      "ROC AUC Score:  0.6792394901778537\n",
      "Evaluating tree with max_depth = 20\n",
      "Confusion matrix: \n",
      "[[15012  9868]\n",
      " [ 1714  3406]]\n",
      "Precision: 0.7881389167566326, Recall: 0.6139333333333333\n",
      "              precision    recall  f1-score   support\n",
      "\n",
      "           0       0.90      0.60      0.72     24880\n",
      "           1       0.26      0.67      0.37      5120\n",
      "\n",
      "    accuracy                           0.61     30000\n",
      "   macro avg       0.58      0.63      0.55     30000\n",
      "weighted avg       0.79      0.61      0.66     30000\n",
      "\n",
      "ROC AUC Score:  0.6729444497651226\n"
     ]
    }
   ],
   "source": [
    "for max_depth_val in [2, 3, 5, 10, 15, 20]:\n",
    "    clfb1 = DecisionTreeClassifier(max_depth = max_depth_val,class_weight=\"balanced\")\n",
    "    print(\"Evaluating tree with max_depth = %s\" %(max_depth_val))\n",
    "    y_pred_dtb1 = clfb1.fit(X1_train,y1_train).predict(X1_test) \n",
    "    print(\"Confusion matrix: \")\n",
    "    print(metrics.confusion_matrix(y1_test, y_pred_dtb1))\n",
    "    prec = metrics.precision_score(y1_test, y_pred_dtb1, average = 'weighted')\n",
    "    recall = metrics.recall_score(y1_test, y_pred_dtb1, average = 'weighted')\n",
    "    print(\"Precision: %s, Recall: %s\" %(prec, recall))\n",
    "    print(metrics.classification_report(y1_test, y_pred_dtb1))\n",
    "    print(\"ROC AUC Score: \",roc_auc_score(y1_test, clfb1.predict_proba(X1_test)[:, 1]))"
   ]
  },
  {
   "cell_type": "markdown",
   "id": "1b535f55",
   "metadata": {},
   "source": [
    "#### Decision Tree with Cross validation"
   ]
  },
  {
   "cell_type": "code",
   "execution_count": 70,
   "id": "4ccd00f6",
   "metadata": {},
   "outputs": [
    {
     "name": "stdout",
     "output_type": "stream",
     "text": [
      "Evaluating Decision Tree for max_depth = 3\n"
     ]
    },
    {
     "name": "stderr",
     "output_type": "stream",
     "text": [
      "C:\\Users\\srina\\anaconda3\\lib\\site-packages\\sklearn\\metrics\\_classification.py:1318: UndefinedMetricWarning: Precision is ill-defined and being set to 0.0 in labels with no predicted samples. Use `zero_division` parameter to control this behavior.\n",
      "  _warn_prf(average, modifier, msg_start, len(result))\n",
      "C:\\Users\\srina\\anaconda3\\lib\\site-packages\\sklearn\\metrics\\_classification.py:1318: UndefinedMetricWarning: Precision is ill-defined and being set to 0.0 in labels with no predicted samples. Use `zero_division` parameter to control this behavior.\n",
      "  _warn_prf(average, modifier, msg_start, len(result))\n",
      "C:\\Users\\srina\\anaconda3\\lib\\site-packages\\sklearn\\metrics\\_classification.py:1318: UndefinedMetricWarning: Precision is ill-defined and being set to 0.0 in labels with no predicted samples. Use `zero_division` parameter to control this behavior.\n",
      "  _warn_prf(average, modifier, msg_start, len(result))\n"
     ]
    },
    {
     "name": "stdout",
     "output_type": "stream",
     "text": [
      "Cross validation Recall: [0.83102857 0.8336     0.82897143 0.82856163]\n",
      "Cross validation Precision: [0.69078241 0.69488896 0.68719363 0.68651438]\n",
      "Recall: 0.831 (0.002)\n",
      "Precision: 0.690 (0.003)\n",
      "f1: 0.754 (0.003)\n",
      "Accuracy: 0.831 (0.002)\n",
      "Evaluating Decision Tree for max_depth = 5\n",
      "Cross validation Recall: [0.83028571 0.83365714 0.83108571 0.82941882]\n",
      "Cross validation Precision: [0.77656486 0.78512119 0.78838117 0.78237274]\n",
      "Recall: 0.831 (0.002)\n",
      "Precision: 0.783 (0.004)\n",
      "f1: 0.773 (0.003)\n",
      "Accuracy: 0.831 (0.002)\n",
      "Evaluating Decision Tree for max_depth = 10\n",
      "Cross validation Recall: [0.82845714 0.83268571 0.82942857 0.82759015]\n",
      "Cross validation Precision: [0.76814354 0.78251005 0.78192557 0.7767095 ]\n",
      "Recall: 0.830 (0.002)\n",
      "Precision: 0.777 (0.006)\n",
      "f1: 0.772 (0.004)\n",
      "Accuracy: 0.830 (0.002)\n",
      "Evaluating Decision Tree for max_depth = 15\n",
      "Cross validation Recall: [0.82371429 0.82851429 0.8264     0.82416138]\n",
      "Cross validation Precision: [0.76188402 0.77443627 0.77212574 0.7661477 ]\n",
      "Recall: 0.826 (0.002)\n",
      "Precision: 0.769 (0.005)\n",
      "f1: 0.774 (0.004)\n",
      "Accuracy: 0.826 (0.002)\n",
      "Evaluating Decision Tree for max_depth = 20\n",
      "Cross validation Recall: [0.81862857 0.82377143 0.82022857 0.81713241]\n",
      "Cross validation Precision: [0.7541161  0.76649858 0.76192696 0.75845227]\n",
      "Recall: 0.820 (0.002)\n",
      "Precision: 0.760 (0.005)\n",
      "f1: 0.772 (0.004)\n",
      "Accuracy: 0.820 (0.002)\n"
     ]
    }
   ],
   "source": [
    "\n",
    "for max_depth_val in [3, 5, 10,15,20]:\n",
    "    k_fold = KFold(n_splits=4, random_state=1, shuffle=True)\n",
    "    clf1 = DecisionTreeClassifier(max_depth = max_depth_val)\n",
    "    print(\"Evaluating Decision Tree for max_depth = %s\" %(max_depth_val))\n",
    "    y_pred_dtk1 = clf1.fit(X1_train, y1_train).predict(X1_test) \n",
    "  \n",
    "    cv_recall = cross_val_score(clf1, X1_train, y1_train, cv = k_fold, scoring = 'recall_weighted')\n",
    "    cv_precision = cross_val_score(clf1, X1_train, y1_train, cv = k_fold, scoring = 'precision_weighted')\n",
    "    cv_f1 = cross_val_score(clf1, X1_train, y1_train, cv = k_fold, scoring = 'f1_weighted')\n",
    "    cv_accuracy = cross_val_score(clf1, X1_train, y1_train, cv = k_fold, scoring = 'accuracy')\n",
    "    print(\"Cross validation Recall: %s\" %(cv_recall))\n",
    "    print(\"Cross validation Precision: %s\" %(cv_precision))\n",
    "    print('Recall: %.3f (%.3f)' % (mean(cv_recall), std(cv_recall)))\n",
    "    print('Precision: %.3f (%.3f)' % (mean(cv_precision), std(cv_precision)))\n",
    "    print('f1: %.3f (%.3f)' % (mean(cv_f1), std(cv_f1)))\n",
    "    print('Accuracy: %.3f (%.3f)' % (mean(cv_accuracy), std(cv_accuracy)))"
   ]
  },
  {
   "cell_type": "markdown",
   "id": "42c5b6bf",
   "metadata": {},
   "source": [
    "#### Decision Tree  cross validation with class_weight parameter"
   ]
  },
  {
   "cell_type": "code",
   "execution_count": 71,
   "id": "939d7250",
   "metadata": {},
   "outputs": [
    {
     "name": "stdout",
     "output_type": "stream",
     "text": [
      "Evaluating Decision Tree for max_depth = 3\n",
      "Cross validation Recall: [0.42662857 0.41914286 0.41868571 0.42082405]\n",
      "Cross validation Precision: [0.79216555 0.79498251 0.78483668 0.79332325]\n",
      "Recall: 0.421 (0.003)\n",
      "Precision: 0.791 (0.004)\n",
      "f1: 0.464 (0.004)\n",
      "Accuracy: 0.421 (0.003)\n",
      "Evaluating Decision Tree for max_depth = 5\n",
      "Cross validation Recall: [0.46977143 0.44914286 0.45114286 0.44768272]\n",
      "Cross validation Precision: [0.78994452 0.80205311 0.78839382 0.79657428]\n",
      "Recall: 0.454 (0.009)\n",
      "Precision: 0.794 (0.005)\n",
      "f1: 0.502 (0.011)\n",
      "Accuracy: 0.454 (0.009)\n",
      "Evaluating Decision Tree for max_depth = 10\n",
      "Cross validation Recall: [0.58817143 0.58622857 0.57822857 0.59974856]\n",
      "Cross validation Precision: [0.79594123 0.79146614 0.78750289 0.79246501]\n",
      "Recall: 0.588 (0.008)\n",
      "Precision: 0.792 (0.003)\n",
      "f1: 0.639 (0.007)\n",
      "Accuracy: 0.588 (0.008)\n",
      "Evaluating Decision Tree for max_depth = 15\n",
      "Cross validation Recall: [0.61422857 0.6116     0.5964     0.59740557]\n",
      "Cross validation Precision: [0.79193934 0.79092727 0.78103924 0.79195909]\n",
      "Recall: 0.605 (0.008)\n",
      "Precision: 0.789 (0.005)\n",
      "f1: 0.654 (0.008)\n",
      "Accuracy: 0.605 (0.008)\n",
      "Evaluating Decision Tree for max_depth = 20\n",
      "Cross validation Recall: [0.63142857 0.61788571 0.60702857 0.61460655]\n",
      "Cross validation Precision: [0.78662278 0.78697895 0.77751392 0.78638383]\n",
      "Recall: 0.618 (0.009)\n",
      "Precision: 0.784 (0.004)\n",
      "f1: 0.666 (0.008)\n",
      "Accuracy: 0.618 (0.009)\n"
     ]
    }
   ],
   "source": [
    "for max_depth_val in [3, 5, 10,15,20]:\n",
    "    k_fold = KFold(n_splits=4, random_state=1, shuffle=True)\n",
    "    clfb1 = DecisionTreeClassifier(max_depth = max_depth_val,class_weight=\"balanced\")\n",
    "    print(\"Evaluating Decision Tree for max_depth = %s\" %(max_depth_val))\n",
    "    y_pred_dtkb1 = clfb1.fit(X1_train, y1_train).predict(X1_test) \n",
    "  \n",
    "    cv_recall = cross_val_score(clfb1, X1_train, y1_train, cv = k_fold, scoring = 'recall_weighted')\n",
    "    cv_precision = cross_val_score(clfb1, X1_train, y1_train, cv = k_fold, scoring = 'precision_weighted')\n",
    "    cv_f1 = cross_val_score(clfb1, X1_train, y1_train, cv = k_fold, scoring = 'f1_weighted')\n",
    "    cv_accuracy = cross_val_score(clfb1, X1_train, y1_train, cv = k_fold, scoring = 'accuracy')\n",
    "    print(\"Cross validation Recall: %s\" %(cv_recall))\n",
    "    print(\"Cross validation Precision: %s\" %(cv_precision))\n",
    "    print('Recall: %.3f (%.3f)' % (mean(cv_recall), std(cv_recall)))\n",
    "    print('Precision: %.3f (%.3f)' % (mean(cv_precision), std(cv_precision)))\n",
    "    print('f1: %.3f (%.3f)' % (mean(cv_f1), std(cv_f1)))\n",
    "    print('Accuracy: %.3f (%.3f)' % (mean(cv_accuracy), std(cv_accuracy)))"
   ]
  },
  {
   "cell_type": "markdown",
   "id": "ff825f5c",
   "metadata": {},
   "source": [
    "### Random Forest"
   ]
  },
  {
   "cell_type": "code",
   "execution_count": 72,
   "id": "a86fadd8",
   "metadata": {},
   "outputs": [
    {
     "name": "stdout",
     "output_type": "stream",
     "text": [
      "Fitting 5 folds for each of 10 candidates, totalling 50 fits\n"
     ]
    },
    {
     "name": "stderr",
     "output_type": "stream",
     "text": [
      "C:\\Users\\srina\\anaconda3\\lib\\site-packages\\sklearn\\model_selection\\_search.py:926: DataConversionWarning: A column-vector y was passed when a 1d array was expected. Please change the shape of y to (n_samples,), for example using ravel().\n",
      "  self.best_estimator_.fit(X, y, **fit_params)\n"
     ]
    }
   ],
   "source": [
    "from sklearn.ensemble import RandomForestClassifier\n",
    "from sklearn.model_selection import RandomizedSearchCV\n",
    "\n",
    "param_grid = {\n",
    "    'bootstrap': [True],\n",
    "    'max_depth': [10], \n",
    "    'n_estimators':[2,5,10,20,50],\n",
    "    'min_samples_split': [2, 3, 4],\n",
    "    'max_features' : ['log2']\n",
    "}\n",
    "\n",
    "rf = RandomForestClassifier(random_state=42)\n",
    "\n",
    "rf_search = RandomizedSearchCV(estimator = rf, param_distributions=param_grid, \n",
    "                          cv = 5, n_jobs = -1, verbose = 2, n_iter = 10)\n",
    "\n",
    "model_search = rf_search.fit(X1_train,y1_train)"
   ]
  },
  {
   "cell_type": "code",
   "execution_count": 73,
   "id": "6f5ece7d",
   "metadata": {},
   "outputs": [
    {
     "data": {
      "text/plain": [
       "{'n_estimators': 50,\n",
       " 'min_samples_split': 3,\n",
       " 'max_features': 'log2',\n",
       " 'max_depth': 10,\n",
       " 'bootstrap': True}"
      ]
     },
     "execution_count": 73,
     "metadata": {},
     "output_type": "execute_result"
    }
   ],
   "source": [
    "rf_search.best_params_"
   ]
  },
  {
   "cell_type": "code",
   "execution_count": 74,
   "id": "6e863443",
   "metadata": {},
   "outputs": [
    {
     "name": "stderr",
     "output_type": "stream",
     "text": [
      "C:\\Users\\srina\\AppData\\Local\\Temp\\ipykernel_2640\\651838126.py:7: DataConversionWarning: A column-vector y was passed when a 1d array was expected. Please change the shape of y to (n_samples,), for example using ravel().\n",
      "  clf_rf1.fit(X1_train,y1_train)\n"
     ]
    },
    {
     "data": {
      "text/plain": [
       "RandomForestClassifier(max_depth=10, max_features='log2', min_samples_split=3,\n",
       "                       n_estimators=50, random_state=42)"
      ]
     },
     "execution_count": 74,
     "metadata": {},
     "output_type": "execute_result"
    }
   ],
   "source": [
    "clf_rf1 = RandomForestClassifier(n_estimators= 50,\n",
    "min_samples_split= 3,\n",
    "max_features= 'log2',\n",
    "max_depth= 10,\n",
    "bootstrap= True,\n",
    "random_state=42)\n",
    "clf_rf1.fit(X1_train,y1_train)"
   ]
  },
  {
   "cell_type": "code",
   "execution_count": 75,
   "id": "2a5606e0",
   "metadata": {},
   "outputs": [
    {
     "name": "stdout",
     "output_type": "stream",
     "text": [
      "[[24693   187]\n",
      " [ 4863   257]]\n",
      "              precision    recall  f1-score   support\n",
      "\n",
      "           0       0.84      0.99      0.91     24880\n",
      "           1       0.58      0.05      0.09      5120\n",
      "\n",
      "    accuracy                           0.83     30000\n",
      "   macro avg       0.71      0.52      0.50     30000\n",
      "weighted avg       0.79      0.83      0.77     30000\n",
      "\n"
     ]
    },
    {
     "name": "stderr",
     "output_type": "stream",
     "text": [
      "C:\\Users\\srina\\anaconda3\\lib\\site-packages\\sklearn\\utils\\deprecation.py:87: FutureWarning: Function plot_confusion_matrix is deprecated; Function `plot_confusion_matrix` is deprecated in 1.0 and will be removed in 1.2. Use one of the class methods: ConfusionMatrixDisplay.from_predictions or ConfusionMatrixDisplay.from_estimator.\n",
      "  warnings.warn(msg, category=FutureWarning)\n"
     ]
    },
    {
     "data": {
      "image/png": "[encoded data removed]",
      "text/plain": [
       "<Figure size 1440x720 with 2 Axes>"
      ]
     },
     "metadata": {
      "needs_background": "light"
     },
     "output_type": "display_data"
    },
    {
     "name": "stdout",
     "output_type": "stream",
     "text": [
      "Accuracy:  0.8316666666666667\n",
      "Precision: 0.7916656607886814, Recall: 0.8316666666666667\n",
      "f1 Score:  0.768162617819078\n",
      "ROC AUC Score:  0.7027114838725884\n"
     ]
    }
   ],
   "source": [
    "y_test_pred_rf1 = clf_rf1.predict(X1_test)\n",
    "\n",
    "print(metrics.confusion_matrix(y1_test, y_test_pred_rf1))\n",
    "print(metrics.classification_report(y1_test, y_test_pred_rf1))\n",
    "metrics.plot_confusion_matrix(clf_rf1, X1_test, y_test_pred_rf1)\n",
    "plt.show()\n",
    "print(\"Accuracy: \", metrics.accuracy_score(y1_test, y_test_pred_rf1))\n",
    "\n",
    "prec = metrics.precision_score(y1_test, y_test_pred_rf1, average = 'weighted')\n",
    "recall = metrics.recall_score(y1_test, y_test_pred_rf1, average = 'weighted')\n",
    "print(\"Precision: %s, Recall: %s\" %(prec, recall))\n",
    "print(\"f1 Score: \",metrics.f1_score(y1_test, y_test_pred_rf1,average = 'weighted'))\n",
    "print(\"ROC AUC Score: \",roc_auc_score(y1_test, clf_rf1.predict_proba(X1_test)[:, 1]))"
   ]
  },
  {
   "cell_type": "markdown",
   "id": "3b9bed64",
   "metadata": {},
   "source": [
    "#### Random Forest with class_weight parameter"
   ]
  },
  {
   "cell_type": "code",
   "execution_count": 76,
   "id": "65aed75a",
   "metadata": {},
   "outputs": [
    {
     "name": "stderr",
     "output_type": "stream",
     "text": [
      "C:\\Users\\srina\\AppData\\Local\\Temp\\ipykernel_2640\\3175308855.py:7: DataConversionWarning: A column-vector y was passed when a 1d array was expected. Please change the shape of y to (n_samples,), for example using ravel().\n",
      "  clf_rfb1.fit(X1_train,y1_train)\n"
     ]
    },
    {
     "data": {
      "text/plain": [
       "RandomForestClassifier(class_weight='balanced', max_depth=10,\n",
       "                       max_features='log2', min_samples_split=3,\n",
       "                       n_estimators=50, random_state=42)"
      ]
     },
     "execution_count": 76,
     "metadata": {},
     "output_type": "execute_result"
    }
   ],
   "source": [
    "clf_rfb1 = RandomForestClassifier(n_estimators= 50,\n",
    "min_samples_split= 3,\n",
    "max_features= 'log2',\n",
    "max_depth= 10,\n",
    "bootstrap= True,\n",
    "random_state=42,class_weight=\"balanced\")\n",
    "clf_rfb1.fit(X1_train,y1_train)"
   ]
  },
  {
   "cell_type": "code",
   "execution_count": 77,
   "id": "a0ebdc04",
   "metadata": {},
   "outputs": [
    {
     "name": "stdout",
     "output_type": "stream",
     "text": [
      "[[15401  9479]\n",
      " [ 1695  3425]]\n",
      "              precision    recall  f1-score   support\n",
      "\n",
      "           0       0.90      0.62      0.73     24880\n",
      "           1       0.27      0.67      0.38      5120\n",
      "\n",
      "    accuracy                           0.63     30000\n",
      "   macro avg       0.58      0.64      0.56     30000\n",
      "weighted avg       0.79      0.63      0.67     30000\n",
      "\n"
     ]
    },
    {
     "name": "stderr",
     "output_type": "stream",
     "text": [
      "C:\\Users\\srina\\anaconda3\\lib\\site-packages\\sklearn\\utils\\deprecation.py:87: FutureWarning: Function plot_confusion_matrix is deprecated; Function `plot_confusion_matrix` is deprecated in 1.0 and will be removed in 1.2. Use one of the class methods: ConfusionMatrixDisplay.from_predictions or ConfusionMatrixDisplay.from_estimator.\n",
      "  warnings.warn(msg, category=FutureWarning)\n"
     ]
    },
    {
     "data": {
      "image/png": "[encoded data removed]",
      "text/plain": [
       "<Figure size 1440x720 with 2 Axes>"
      ]
     },
     "metadata": {
      "needs_background": "light"
     },
     "output_type": "display_data"
    },
    {
     "name": "stdout",
     "output_type": "stream",
     "text": [
      "Accuracy:  0.6275333333333334\n",
      "Precision: 0.792406866859241, Recall: 0.6275333333333334\n",
      "f1 Score:  0.6734266872089147\n",
      "ROC AUC Score:  0.7021307314170518\n"
     ]
    }
   ],
   "source": [
    "y_test_pred_rfb1 = clf_rfb1.predict(X1_test)\n",
    "\n",
    "print(metrics.confusion_matrix(y1_test, y_test_pred_rfb1))\n",
    "print(metrics.classification_report(y1_test, y_test_pred_rfb1))\n",
    "metrics.plot_confusion_matrix(clfb1, X1_test, y_test_pred_rfb1)\n",
    "plt.show()\n",
    "print(\"Accuracy: \", metrics.accuracy_score(y1_test, y_test_pred_rfb1))\n",
    "\n",
    "prec = metrics.precision_score(y1_test, y_test_pred_rfb1, average = 'weighted')\n",
    "recall = metrics.recall_score(y1_test, y_test_pred_rfb1, average = 'weighted')\n",
    "print(\"Precision: %s, Recall: %s\" %(prec, recall))\n",
    "print(\"f1 Score: \",metrics.f1_score(y1_test, y_test_pred_rfb1,average = 'weighted'))\n",
    "print(\"ROC AUC Score: \",roc_auc_score(y1_test, clf_rfb1.predict_proba(X1_test)[:, 1]))"
   ]
  },
  {
   "cell_type": "markdown",
   "id": "32ec5c1b",
   "metadata": {},
   "source": [
    "#### Random Forest Cross validation"
   ]
  },
  {
   "cell_type": "code",
   "execution_count": 78,
   "id": "bee4bff3",
   "metadata": {},
   "outputs": [
    {
     "name": "stderr",
     "output_type": "stream",
     "text": [
      "C:\\Users\\srina\\AppData\\Local\\Temp\\ipykernel_2640\\1147786680.py:12: DataConversionWarning: A column-vector y was passed when a 1d array was expected. Please change the shape of y to (n_samples,), for example using ravel().\n",
      "  y_pred_srf1 = SRF1.fit(X1_train, y1_train).predict(X1_test)\n",
      "C:\\Users\\srina\\anaconda3\\lib\\site-packages\\sklearn\\model_selection\\_validation.py:680: DataConversionWarning: A column-vector y was passed when a 1d array was expected. Please change the shape of y to (n_samples,), for example using ravel().\n",
      "  estimator.fit(X_train, y_train, **fit_params)\n",
      "C:\\Users\\srina\\anaconda3\\lib\\site-packages\\sklearn\\model_selection\\_validation.py:680: DataConversionWarning: A column-vector y was passed when a 1d array was expected. Please change the shape of y to (n_samples,), for example using ravel().\n",
      "  estimator.fit(X_train, y_train, **fit_params)\n",
      "C:\\Users\\srina\\anaconda3\\lib\\site-packages\\sklearn\\model_selection\\_validation.py:680: DataConversionWarning: A column-vector y was passed when a 1d array was expected. Please change the shape of y to (n_samples,), for example using ravel().\n",
      "  estimator.fit(X_train, y_train, **fit_params)\n",
      "C:\\Users\\srina\\anaconda3\\lib\\site-packages\\sklearn\\model_selection\\_validation.py:680: DataConversionWarning: A column-vector y was passed when a 1d array was expected. Please change the shape of y to (n_samples,), for example using ravel().\n",
      "  estimator.fit(X_train, y_train, **fit_params)\n"
     ]
    },
    {
     "name": "stdout",
     "output_type": "stream",
     "text": [
      "Mean f1: 0.090\n",
      "Mean recall: 0.049\n",
      "Mean precision: 0.549\n"
     ]
    }
   ],
   "source": [
    "from sklearn.model_selection import cross_validate\n",
    "from sklearn.model_selection import RepeatedStratifiedKFold\n",
    "\n",
    "\n",
    "SRF1 = RandomForestClassifier(n_estimators= 50,\n",
    "min_samples_split= 3,\n",
    "max_features= 'log2',\n",
    "max_depth= 10,\n",
    "bootstrap= True)\n",
    "#Create K-fold cross validation\n",
    "cv =KFold(n_splits=4, random_state=1, shuffle=True)\n",
    "y_pred_srf1 = SRF1.fit(X1_train, y1_train).predict(X1_test)\n",
    "scoring = ('f1', 'recall', 'precision')\n",
    "#Evaluate SRF model\n",
    "scores = cross_validate(SRF1, X1_train, y1_train, scoring=scoring, cv=cv)\n",
    "#Get average evaluation metrics\n",
    "print('Mean f1: %.3f' % mean(scores['test_f1']))\n",
    "print('Mean recall: %.3f' % mean(scores['test_recall']))\n",
    "print('Mean precision: %.3f' % mean(scores['test_precision']))"
   ]
  },
  {
   "cell_type": "markdown",
   "id": "9e8f4c60",
   "metadata": {},
   "source": [
    "Random Forest Cross validation with balancing"
   ]
  },
  {
   "cell_type": "code",
   "execution_count": 79,
   "id": "fa95489c",
   "metadata": {},
   "outputs": [
    {
     "name": "stderr",
     "output_type": "stream",
     "text": [
      "C:\\Users\\srina\\anaconda3\\lib\\site-packages\\sklearn\\model_selection\\_validation.py:680: DataConversionWarning: A column-vector y was passed when a 1d array was expected. Please change the shape of y to (n_samples,), for example using ravel().\n",
      "  estimator.fit(X_train, y_train, **fit_params)\n",
      "C:\\Users\\srina\\anaconda3\\lib\\site-packages\\sklearn\\model_selection\\_validation.py:680: DataConversionWarning: A column-vector y was passed when a 1d array was expected. Please change the shape of y to (n_samples,), for example using ravel().\n",
      "  estimator.fit(X_train, y_train, **fit_params)\n",
      "C:\\Users\\srina\\anaconda3\\lib\\site-packages\\sklearn\\model_selection\\_validation.py:680: DataConversionWarning: A column-vector y was passed when a 1d array was expected. Please change the shape of y to (n_samples,), for example using ravel().\n",
      "  estimator.fit(X_train, y_train, **fit_params)\n",
      "C:\\Users\\srina\\anaconda3\\lib\\site-packages\\sklearn\\model_selection\\_validation.py:680: DataConversionWarning: A column-vector y was passed when a 1d array was expected. Please change the shape of y to (n_samples,), for example using ravel().\n",
      "  estimator.fit(X_train, y_train, **fit_params)\n"
     ]
    },
    {
     "name": "stdout",
     "output_type": "stream",
     "text": [
      "Mean f1: 0.377\n",
      "Mean recall: 0.657\n",
      "Mean precision: 0.264\n"
     ]
    }
   ],
   "source": [
    "SRFB1 = RandomForestClassifier(n_estimators= 50,\n",
    "min_samples_split= 3,\n",
    "max_features= 'log2',\n",
    "max_depth= 10,\n",
    "bootstrap= True,class_weight=\"balanced\")\n",
    "#Create K-fold cross validation\n",
    "cv =KFold(n_splits=4, random_state=1, shuffle=True)\n",
    "scoring = ('f1', 'recall', 'precision')\n",
    "#Evaluate SRF model\n",
    "scores = cross_validate(SRFB1, X1_train, y1_train, scoring=scoring, cv=cv)\n",
    "#Get average evaluation metrics\n",
    "print('Mean f1: %.3f' % mean(scores['test_f1']))\n",
    "print('Mean recall: %.3f' % mean(scores['test_recall']))\n",
    "print('Mean precision: %.3f' % mean(scores['test_precision']))"
   ]
  },
  {
   "cell_type": "markdown",
   "id": "fa16137f",
   "metadata": {},
   "source": [
    "The performance metrics for all the 3 models with and without feature engineering varies very slightly and it didn't improve much as before and after feature engineering."
   ]
  },
  {
   "cell_type": "code",
   "execution_count": null,
   "id": "daef705a",
   "metadata": {},
   "outputs": [],
   "source": []
  }
 ],
 "metadata": {
  "kernelspec": {
   "display_name": "Python 3 (ipykernel)",
   "language": "python",
   "name": "python3"
  },
  "language_info": {
   "codemirror_mode": {
    "name": "ipython",
    "version": 3
   },
   "file_extension": ".py",
   "mimetype": "text/x-python",
   "name": "python",
   "nbconvert_exporter": "python",
   "pygments_lexer": "ipython3",
   "version": "3.9.12"
  }
 },
 "nbformat": 4,
 "nbformat_minor": 5
}
